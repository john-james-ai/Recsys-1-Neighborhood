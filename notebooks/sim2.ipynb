{
 "cells": [
  {
   "attachments": {},
   "cell_type": "markdown",
   "metadata": {},
   "source": [
    "# Similarity Computation\n",
    "## Preprocessing \n",
    "1. Map userIds and movieIds to range(1,n) and range(0,m), where n and m are the number of unique users and items respectively.\n",
    "2. Create a COO a user-user and item-item sparse matrices\n"
   ]
  },
  {
   "attachments": {},
   "cell_type": "markdown",
   "metadata": {},
   "source": [
    "## Load Data"
   ]
  },
  {
   "cell_type": "code",
   "execution_count": 1,
   "metadata": {},
   "outputs": [],
   "source": [
    "import numpy as np\n",
    "import pandas as pd\n",
    "from scipy.sparse import csr_matrix\n",
    "\n",
    "from recsys.io.file import IOService\n",
    "from recsys.data.sparse import df_to_sparse_tensor\n",
    "from recsys.data.rating import RatingsDataset"
   ]
  },
  {
   "cell_type": "code",
   "execution_count": 2,
   "metadata": {},
   "outputs": [],
   "source": [
    "FILEPATH = \"data/dev/ratings_0.5_pct.pkl\"\n",
    "USER_ID_MAP_FILE = \"data/admin/user_id_map.pkl\" \n",
    "ITEM_ID_MAP_FILE = \"data/admin/item_id_map.pkl\" "
   ]
  },
  {
   "cell_type": "code",
   "execution_count": 3,
   "metadata": {},
   "outputs": [
    {
     "name": "stdout",
     "output_type": "stream",
     "text": [
      "<class 'pandas.core.frame.DataFrame'>\n",
      "Int64Index: 125000 entries, 19265544 to 3362652\n",
      "Data columns (total 4 columns):\n",
      " #   Column     Non-Null Count   Dtype  \n",
      "---  ------     --------------   -----  \n",
      " 0   userId     125000 non-null  int64  \n",
      " 1   movieId    125000 non-null  int64  \n",
      " 2   rating     125000 non-null  float64\n",
      " 3   timestamp  125000 non-null  int64  \n",
      "dtypes: float64(1), int64(3)\n",
      "memory usage: 4.8 MB\n"
     ]
    }
   ],
   "source": [
    "ratings = IOService.read(FILEPATH)\n",
    "\n",
    "ratings.info()"
   ]
  },
  {
   "attachments": {},
   "cell_type": "markdown",
   "metadata": {},
   "source": [
    "## Remap Identifiers"
   ]
  },
  {
   "cell_type": "code",
   "execution_count": 4,
   "metadata": {},
   "outputs": [
    {
     "data": {
      "text/html": [
       "<div>\n",
       "<style scoped>\n",
       "    .dataframe tbody tr th:only-of-type {\n",
       "        vertical-align: middle;\n",
       "    }\n",
       "\n",
       "    .dataframe tbody tr th {\n",
       "        vertical-align: top;\n",
       "    }\n",
       "\n",
       "    .dataframe thead th {\n",
       "        text-align: right;\n",
       "    }\n",
       "</style>\n",
       "<table border=\"1\" class=\"dataframe\">\n",
       "  <thead>\n",
       "    <tr style=\"text-align: right;\">\n",
       "      <th></th>\n",
       "      <th>useridx</th>\n",
       "      <th>itemidx</th>\n",
       "      <th>rating</th>\n",
       "    </tr>\n",
       "  </thead>\n",
       "  <tbody>\n",
       "    <tr>\n",
       "      <th>0</th>\n",
       "      <td>48232</td>\n",
       "      <td>9821</td>\n",
       "      <td>3.00</td>\n",
       "    </tr>\n",
       "    <tr>\n",
       "      <th>1</th>\n",
       "      <td>48702</td>\n",
       "      <td>990</td>\n",
       "      <td>4.00</td>\n",
       "    </tr>\n",
       "    <tr>\n",
       "      <th>2</th>\n",
       "      <td>35262</td>\n",
       "      <td>2684</td>\n",
       "      <td>4.50</td>\n",
       "    </tr>\n",
       "    <tr>\n",
       "      <th>3</th>\n",
       "      <td>16166</td>\n",
       "      <td>641</td>\n",
       "      <td>5.00</td>\n",
       "    </tr>\n",
       "    <tr>\n",
       "      <th>4</th>\n",
       "      <td>14133</td>\n",
       "      <td>3351</td>\n",
       "      <td>4.00</td>\n",
       "    </tr>\n",
       "  </tbody>\n",
       "</table>\n",
       "</div>"
      ],
      "text/plain": [
       "   useridx  itemidx  rating\n",
       "0    48232     9821    3.00\n",
       "1    48702      990    4.00\n",
       "2    35262     2684    4.50\n",
       "3    16166      641    5.00\n",
       "4    14133     3351    4.00"
      ]
     },
     "execution_count": 4,
     "metadata": {},
     "output_type": "execute_result"
    }
   ],
   "source": [
    "# Create User Map\n",
    "userId = np.sort(ratings['userId'].unique())\n",
    "useridx = range(len(userId))\n",
    "u = {'userId': userId, 'useridx': useridx}\n",
    "u = pd.DataFrame(data=u)\n",
    "\n",
    "# Create Item Map\n",
    "movieId = np.sort(ratings['movieId'].unique())\n",
    "itemidx = range(len(movieId))\n",
    "i = {'movieId': movieId, 'itemidx': itemidx}\n",
    "i = pd.DataFrame(data=i)\n",
    "\n",
    "# Save Id Maps\n",
    "IOService.write(filepath=USER_ID_MAP_FILE, data=u)\n",
    "IOService.write(filepath=ITEM_ID_MAP_FILE, data=i)\n",
    "# Install New Indices\n",
    "ratings = ratings.merge(u, on='userId', how='left')\n",
    "ratings = ratings.merge(i, on='movieId', how='left')\n",
    "# Dump the timestamp\n",
    "ratings = ratings[['useridx', 'itemidx', 'rating']]\n",
    "ratings.head()"
   ]
  },
  {
   "attachments": {},
   "cell_type": "markdown",
   "metadata": {},
   "source": [
    "## Create Sparse Matrix"
   ]
  },
  {
   "cell_type": "code",
   "execution_count": 5,
   "metadata": {},
   "outputs": [],
   "source": [
    "row = ratings.useridx.values\n",
    "col = ratings.itemidx.values\n",
    "data = ratings.rating.values\n",
    "csr = csr_matrix(\n",
    "    (data, (row, col)), shape=(ratings.useridx.nunique(), ratings.itemidx.nunique())\n",
    ")"
   ]
  },
  {
   "cell_type": "code",
   "execution_count": 18,
   "metadata": {},
   "outputs": [
    {
     "data": {
      "text/plain": [
       "62691"
      ]
     },
     "execution_count": 18,
     "metadata": {},
     "output_type": "execute_result"
    }
   ],
   "source": [
    "dv = np.sqrt(csr.power(2).sum(axis=1))\n",
    "len(dv)\n",
    "matrix = csr.dot(csr.transpose()) / dv\n",
    "\n",
    "    \n"
   ]
  },
  {
   "cell_type": "code",
   "execution_count": 19,
   "metadata": {},
   "outputs": [
    {
     "data": {
      "text/plain": [
       "matrix([[5.70087713, 0.        , 0.        , ..., 0.        , 0.        ,\n",
       "         0.        ],\n",
       "        [0.        , 4.5       , 0.        , ..., 0.        , 0.        ,\n",
       "         0.        ],\n",
       "        [0.        , 0.        , 2.        , ..., 0.        , 0.        ,\n",
       "         0.        ],\n",
       "        ...,\n",
       "        [0.        , 0.        , 0.        , ..., 6.10327781, 0.        ,\n",
       "         0.        ],\n",
       "        [0.        , 0.        , 0.        , ..., 0.        , 6.36396103,\n",
       "         0.        ],\n",
       "        [0.        , 0.        , 0.        , ..., 0.        , 0.        ,\n",
       "         5.        ]])"
      ]
     },
     "execution_count": 19,
     "metadata": {},
     "output_type": "execute_result"
    }
   ],
   "source": [
    "matrix"
   ]
  }
 ],
 "metadata": {
  "kernelspec": {
   "display_name": "recsys",
   "language": "python",
   "name": "python3"
  },
  "language_info": {
   "codemirror_mode": {
    "name": "ipython",
    "version": 3
   },
   "file_extension": ".py",
   "mimetype": "text/x-python",
   "name": "python",
   "nbconvert_exporter": "python",
   "pygments_lexer": "ipython3",
   "version": "3.10.6"
  },
  "orig_nbformat": 4,
  "vscode": {
   "interpreter": {
    "hash": "b95ac036dd134cdbc0e1cfc871143569fe44ed496162bf6c0ba7d4f738a04ef7"
   }
  }
 },
 "nbformat": 4,
 "nbformat_minor": 2
}
