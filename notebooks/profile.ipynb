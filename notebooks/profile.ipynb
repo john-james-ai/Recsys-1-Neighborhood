{
 "cells": [
  {
   "cell_type": "code",
   "execution_count": 1,
   "metadata": {},
   "outputs": [],
   "source": [
    "import threading\n",
    "import time\n",
    "import logging\n",
    "class Profile:\n",
    "    def __init__(self):\n",
    "        self.i = 0\n",
    "    def snapshot(self):\n",
    "        self.i += 1    "
   ]
  },
  {
   "cell_type": "code",
   "execution_count": 2,
   "metadata": {},
   "outputs": [],
   "source": [
    "def profiler(func): \n",
    "    active = threading.Lock() \n",
    "    profile = Profile()\n",
    "     \n",
    "    def profiling(profiler): \n",
    "        while active.locked(): \n",
    "            print(\"Inside loop\")\n",
    "            profiler.snapshot()\n",
    "            time.sleep(1) \n",
    "             \n",
    "    def wrapper(*args, **kwargs): \n",
    "        print(\"Inside wrapper\")\n",
    "        t = threading.Thread(target=profiling,args=(profile,)) \n",
    "        print(\"Started thread\")\n",
    "        active.acquire() \n",
    "        print(\"Acquired lock\")\n",
    "        t.start() \n",
    "        print(\"Started Thread\")\n",
    "        res = func(*args, **kwargs) \n",
    "        print(\"Launched wrapped function\")\n",
    "        active.release() \n",
    "        print(\"Releaseed the lock\")\n",
    "        print(profile.i)\n",
    "        print(\"Printed i\")\n",
    "        return res \n",
    "     \n",
    "    return wrapper"
   ]
  },
  {
   "cell_type": "code",
   "execution_count": 3,
   "metadata": {},
   "outputs": [
    {
     "name": "stdout",
     "output_type": "stream",
     "text": [
      "Inside wrapper\n",
      "Started thread\n",
      "Acquired lock\n",
      "Inside loop\n",
      "Started Thread\n",
      "Inside loop\n",
      "Inside loop\n",
      "Launched wrapped function\n",
      "Releaseed the lock\n",
      "3\n",
      "Printed i\n"
     ]
    }
   ],
   "source": [
    "\n",
    "\n",
    "@profiler \n",
    "def test(): \n",
    "    time.sleep(3) \n",
    "test()"
   ]
  },
  {
   "cell_type": "code",
   "execution_count": 6,
   "metadata": {},
   "outputs": [
    {
     "data": {
      "text/plain": [
       "<pstats.Stats at 0x7f1e3725d360>"
      ]
     },
     "execution_count": 6,
     "metadata": {},
     "output_type": "execute_result"
    },
    {
     "name": "stdout",
     "output_type": "stream",
     "text": [
      "         22 function calls in 0.000 seconds\n",
      "\n",
      "   Ordered by: cumulative time\n",
      "\n",
      "   ncalls  tottime  percall  cumtime  percall filename:lineno(function)\n",
      "        1    0.000    0.000    0.000    0.000 /home/john/anaconda3/envs/recsys/lib/python3.10/codeop.py:117(__call__)\n",
      "        1    0.000    0.000    0.000    0.000 {built-in method builtins.compile}\n",
      "        1    0.000    0.000    0.000    0.000 /home/john/anaconda3/envs/recsys/lib/python3.10/site-packages/IPython/core/interactiveshell.py:3397(run_code)\n",
      "        2    0.000    0.000    0.000    0.000 {built-in method builtins.next}\n",
      "        1    0.000    0.000    0.000    0.000 /home/john/anaconda3/envs/recsys/lib/python3.10/contextlib.py:130(__enter__)\n",
      "        1    0.000    0.000    0.000    0.000 {built-in method builtins.exec}\n",
      "        1    0.000    0.000    0.000    0.000 /home/john/anaconda3/envs/recsys/lib/python3.10/contextlib.py:139(__exit__)\n",
      "        1    0.000    0.000    0.000    0.000 /home/john/anaconda3/envs/recsys/lib/python3.10/contextlib.py:279(helper)\n",
      "        1    0.000    0.000    0.000    0.000 /home/john/anaconda3/envs/recsys/lib/python3.10/site-packages/IPython/core/displayhook.py:252(__call__)\n",
      "        1    0.000    0.000    0.000    0.000 /tmp/ipykernel_1682/797149934.py:1(<module>)\n",
      "        1    0.000    0.000    0.000    0.000 /home/john/anaconda3/envs/recsys/lib/python3.10/contextlib.py:102(__init__)\n",
      "        1    0.000    0.000    0.000    0.000 /home/john/anaconda3/envs/recsys/lib/python3.10/site-packages/traitlets/traitlets.py:675(__get__)\n",
      "        2    0.000    0.000    0.000    0.000 /home/john/anaconda3/envs/recsys/lib/python3.10/site-packages/IPython/core/compilerop.py:165(extra_flags)\n",
      "        1    0.000    0.000    0.000    0.000 /home/john/anaconda3/envs/recsys/lib/python3.10/site-packages/IPython/core/displayhook.py:70(check_for_underscore)\n",
      "        2    0.000    0.000    0.000    0.000 {built-in method builtins.getattr}\n",
      "        1    0.000    0.000    0.000    0.000 /home/john/anaconda3/envs/recsys/lib/python3.10/site-packages/traitlets/traitlets.py:643(get)\n",
      "        1    0.000    0.000    0.000    0.000 /home/john/anaconda3/envs/recsys/lib/python3.10/site-packages/IPython/core/interactiveshell.py:3349(compare)\n",
      "        1    0.000    0.000    0.000    0.000 /home/john/anaconda3/envs/recsys/lib/python3.10/site-packages/IPython/core/interactiveshell.py:1222(user_global_ns)\n",
      "        1    0.000    0.000    0.000    0.000 {method 'disable' of '_lsprof.Profiler' objects}\n",
      "\n",
      "\n",
      "\n"
     ]
    }
   ],
   "source": [
    "import cProfile, pstats, io\n",
    "from pstats import SortKey\n",
    "pr = cProfile.Profile()\n",
    "pr.enable()\n",
    "# ... do something ...\n",
    "pr.disable()\n",
    "s = io.StringIO()\n",
    "sortby = SortKey.CUMULATIVE\n",
    "ps = pstats.Stats(pr, stream=s).sort_stats(sortby)\n",
    "ps.print_stats()\n",
    "print(s.getvalue())"
   ]
  }
 ],
 "metadata": {
  "kernelspec": {
   "display_name": "recsys",
   "language": "python",
   "name": "python3"
  },
  "language_info": {
   "codemirror_mode": {
    "name": "ipython",
    "version": 3
   },
   "file_extension": ".py",
   "mimetype": "text/x-python",
   "name": "python",
   "nbconvert_exporter": "python",
   "pygments_lexer": "ipython3",
   "version": "3.10.6"
  },
  "orig_nbformat": 4,
  "vscode": {
   "interpreter": {
    "hash": "b95ac036dd134cdbc0e1cfc871143569fe44ed496162bf6c0ba7d4f738a04ef7"
   }
  }
 },
 "nbformat": 4,
 "nbformat_minor": 2
}
