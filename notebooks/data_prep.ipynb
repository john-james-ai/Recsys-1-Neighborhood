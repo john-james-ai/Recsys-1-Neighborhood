{
 "cells": [
  {
   "attachments": {},
   "cell_type": "markdown",
   "metadata": {},
   "source": [
    "# MovieLens Offline Data Preparation\n",
    "User-based and item-based collaborative filtering predictions require inter-user and inter-item weight matrices. This notebook computes and stores user and item weights using three techniques: \n",
    "- Cosign Similarity\n",
    "- Adjusted Cosign Similarity\n",
    "- Pearson Correlation\n"
   ]
  },
  {
   "cell_type": "code",
   "execution_count": 1,
   "metadata": {},
   "outputs": [],
   "source": [
    "import pandas as pd\n",
    "from recsys.utils.io import IOService\n",
    "from recsys.data.rating import RatingsDataset"
   ]
  },
  {
   "cell_type": "code",
   "execution_count": 2,
   "metadata": {},
   "outputs": [],
   "source": [
    "TRAIN_FILEPATH = \"data/movielens/input/train.pkl\"\n",
    "TEST_FILEPATH = \"data/movielens/input/test.pkl\"\n",
    "AVE_USER_RATING_FILEPATH = \"data/movielens/offline/ave_rating.pkl\"\n",
    "TEST_DATA_FILEPATH = \"tests/data/rating.pkl\""
   ]
  },
  {
   "cell_type": "code",
   "execution_count": 3,
   "metadata": {},
   "outputs": [],
   "source": [
    "train = IOService.read(TRAIN_FILEPATH)"
   ]
  },
  {
   "cell_type": "code",
   "execution_count": 4,
   "metadata": {},
   "outputs": [],
   "source": [
    "sample = train.sample(frac=0.2)\n",
    "IOService.write(filepath=TEST_DATA_FILEPATH, data=sample)\n",
    "\n"
   ]
  }
 ],
 "metadata": {
  "kernelspec": {
   "display_name": "recsys",
   "language": "python",
   "name": "python3"
  },
  "language_info": {
   "codemirror_mode": {
    "name": "ipython",
    "version": 3
   },
   "file_extension": ".py",
   "mimetype": "text/x-python",
   "name": "python",
   "nbconvert_exporter": "python",
   "pygments_lexer": "ipython3",
   "version": "3.10.6"
  },
  "orig_nbformat": 4,
  "vscode": {
   "interpreter": {
    "hash": "b95ac036dd134cdbc0e1cfc871143569fe44ed496162bf6c0ba7d4f738a04ef7"
   }
  }
 },
 "nbformat": 4,
 "nbformat_minor": 2
}
