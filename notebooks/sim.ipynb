{
 "cells": [
  {
   "cell_type": "code",
   "execution_count": 9,
   "metadata": {},
   "outputs": [],
   "source": [
    "import numpy as np\n",
    "from tqdm import tqdm\n",
    "from itertools import combinations\n",
    "import pandas as pd\n",
    "from scipy.sparse import csr_matrix\n",
    "from multiprocessing import Pool\n",
    "from recsys.data.dataset import Dataset\n",
    "from recsys.io.file import IOService"
   ]
  },
  {
   "cell_type": "code",
   "execution_count": null,
   "metadata": {},
   "outputs": [],
   "source": [
    "FILEPATH = \"data/dev/ratings_0.5_pct.pkl\""
   ]
  },
  {
   "cell_type": "code",
   "execution_count": null,
   "metadata": {},
   "outputs": [],
   "source": [
    "ratings = Dataset(filepath=FILEPATH)\n"
   ]
  },
  {
   "cell_type": "code",
   "execution_count": null,
   "metadata": {},
   "outputs": [],
   "source": [
    "ratings.info()"
   ]
  },
  {
   "cell_type": "code",
   "execution_count": null,
   "metadata": {},
   "outputs": [],
   "source": [
    "ratings.summarize()"
   ]
  },
  {
   "cell_type": "code",
   "execution_count": null,
   "metadata": {},
   "outputs": [],
   "source": [
    "def to_key(uv: tuple) -> str:\n",
    "    return str(uv[0]) +\"_\" + str(uv[1])\n",
    "def from_key(uv: str) -> tuple:\n",
    "    return tuple([int(x) for x in uv.split(\"_\")])"
   ]
  },
  {
   "cell_type": "code",
   "execution_count": null,
   "metadata": {},
   "outputs": [],
   "source": [
    "UV = {}\n",
    "\n",
    "for item in tqdm(ratings.items):\n",
    "    item_ratings = ratings.get_item_ratings(item=item)\n",
    "    for uv_pair in combinations(item_ratings['userId'].values, 2):\n",
    "        uv_key = to_key(uv_pair)\n",
    "        if UV.get(uv_key,None) is not None:\n",
    "            UV[uv_key].append(item)\n",
    "        else:\n",
    "            UV[uv_key] = [item]\n"
   ]
  },
  {
   "cell_type": "code",
   "execution_count": null,
   "metadata": {},
   "outputs": [],
   "source": [
    "print(f\"There are {len(UV)} distinct associated user pairs\")"
   ]
  },
  {
   "cell_type": "code",
   "execution_count": null,
   "metadata": {},
   "outputs": [],
   "source": [
    "def cos(uv, items):\n",
    "    u,v = from_key(uv)\n",
    "    ru = ratings.get_users_items_ratings(items=items, users=[u])\n",
    "    rv = ratings.get_users_items_ratings(items=items, users=[v])\n",
    "    l2u = ratings.get_user_rating_norms(user=u)\n",
    "    l2v = ratings.get_user_rating_norms(user=v)\n",
    "    sim = ru.dot(rv) / (l2u * l2v)\n",
    "    sim = {'u': u, 'v': v, 'sim': sim}\n",
    "    return sim"
   ]
  },
  {
   "cell_type": "code",
   "execution_count": null,
   "metadata": {},
   "outputs": [],
   "source": []
  },
  {
   "cell_type": "code",
   "execution_count": null,
   "metadata": {},
   "outputs": [],
   "source": [
    "S = {}\n",
    "for uv, uv_ratings in tqdm(I.items()):\n",
    "    u, v = from_key(uv)\n",
    "    rui = uv_ratings[uv_ratings[\"userId\"] == u].sort_values(by=\"movieId\")[\"rating\"].values\n",
    "    rvi = uv_ratings[uv_ratings[\"userId\"] == v].sort_values(by=\"movieId\")[\"rating\"].values\n",
    "    l2u = ratings.get_user_rating_norms(user=u)\n",
    "    l2v = ratings.get_user_rating_norms(user=v)\n",
    "    S[uv] = rui.dot(rvi) / (l2u * l2v)\n",
    "similarity = pd.DataFrame.from_dict(\n",
    "    data=S, orient=\"index\", columns=[\"similarity\"]\n",
    ").reset_index()\n",
    "\n",
    "similarity[[\"u\", \"v\"]] = similarity[\"index\"].str.split(\"_\", 1, expand=True)\n"
   ]
  },
  {
   "cell_type": "code",
   "execution_count": 10,
   "metadata": {},
   "outputs": [
    {
     "ename": "ValueError",
     "evalue": "row index exceeds matrix dimensions",
     "output_type": "error",
     "traceback": [
      "\u001b[0;31m---------------------------------------------------------------------------\u001b[0m",
      "\u001b[0;31mValueError\u001b[0m                                Traceback (most recent call last)",
      "Cell \u001b[0;32mIn [10], line 7\u001b[0m\n\u001b[1;32m      5\u001b[0m col \u001b[39m=\u001b[39m ratings\u001b[39m.\u001b[39mmovieId\u001b[39m.\u001b[39mvalues\n\u001b[1;32m      6\u001b[0m data \u001b[39m=\u001b[39m ratings\u001b[39m.\u001b[39mrating\u001b[39m.\u001b[39mvalues\n\u001b[0;32m----> 7\u001b[0m csr \u001b[39m=\u001b[39m csr_matrix((data,(row,col)), shape\u001b[39m=\u001b[39;49m(u_count,i_count))\n",
      "File \u001b[0;32m~/anaconda3/envs/recsys/lib/python3.10/site-packages/scipy/sparse/_compressed.py:53\u001b[0m, in \u001b[0;36m_cs_matrix.__init__\u001b[0;34m(self, arg1, shape, dtype, copy)\u001b[0m\n\u001b[1;32m     49\u001b[0m \u001b[39melse\u001b[39;00m:\n\u001b[1;32m     50\u001b[0m     \u001b[39mif\u001b[39;00m \u001b[39mlen\u001b[39m(arg1) \u001b[39m==\u001b[39m \u001b[39m2\u001b[39m:\n\u001b[1;32m     51\u001b[0m         \u001b[39m# (data, ij) format\u001b[39;00m\n\u001b[1;32m     52\u001b[0m         other \u001b[39m=\u001b[39m \u001b[39mself\u001b[39m\u001b[39m.\u001b[39m\u001b[39m__class__\u001b[39m(\n\u001b[0;32m---> 53\u001b[0m             \u001b[39mself\u001b[39;49m\u001b[39m.\u001b[39;49m_coo_container(arg1, shape\u001b[39m=\u001b[39;49mshape, dtype\u001b[39m=\u001b[39;49mdtype)\n\u001b[1;32m     54\u001b[0m         )\n\u001b[1;32m     55\u001b[0m         \u001b[39mself\u001b[39m\u001b[39m.\u001b[39m_set_self(other)\n\u001b[1;32m     56\u001b[0m     \u001b[39melif\u001b[39;00m \u001b[39mlen\u001b[39m(arg1) \u001b[39m==\u001b[39m \u001b[39m3\u001b[39m:\n\u001b[1;32m     57\u001b[0m         \u001b[39m# (data, indices, indptr) format\u001b[39;00m\n",
      "File \u001b[0;32m~/anaconda3/envs/recsys/lib/python3.10/site-packages/scipy/sparse/_coo.py:196\u001b[0m, in \u001b[0;36mcoo_matrix.__init__\u001b[0;34m(self, arg1, shape, dtype, copy)\u001b[0m\n\u001b[1;32m    193\u001b[0m \u001b[39mif\u001b[39;00m dtype \u001b[39mis\u001b[39;00m \u001b[39mnot\u001b[39;00m \u001b[39mNone\u001b[39;00m:\n\u001b[1;32m    194\u001b[0m     \u001b[39mself\u001b[39m\u001b[39m.\u001b[39mdata \u001b[39m=\u001b[39m \u001b[39mself\u001b[39m\u001b[39m.\u001b[39mdata\u001b[39m.\u001b[39mastype(dtype, copy\u001b[39m=\u001b[39m\u001b[39mFalse\u001b[39;00m)\n\u001b[0;32m--> 196\u001b[0m \u001b[39mself\u001b[39;49m\u001b[39m.\u001b[39;49m_check()\n",
      "File \u001b[0;32m~/anaconda3/envs/recsys/lib/python3.10/site-packages/scipy/sparse/_coo.py:283\u001b[0m, in \u001b[0;36mcoo_matrix._check\u001b[0;34m(self)\u001b[0m\n\u001b[1;32m    281\u001b[0m \u001b[39mif\u001b[39;00m \u001b[39mself\u001b[39m\u001b[39m.\u001b[39mnnz \u001b[39m>\u001b[39m \u001b[39m0\u001b[39m:\n\u001b[1;32m    282\u001b[0m     \u001b[39mif\u001b[39;00m \u001b[39mself\u001b[39m\u001b[39m.\u001b[39mrow\u001b[39m.\u001b[39mmax() \u001b[39m>\u001b[39m\u001b[39m=\u001b[39m \u001b[39mself\u001b[39m\u001b[39m.\u001b[39mshape[\u001b[39m0\u001b[39m]:\n\u001b[0;32m--> 283\u001b[0m         \u001b[39mraise\u001b[39;00m \u001b[39mValueError\u001b[39;00m(\u001b[39m'\u001b[39m\u001b[39mrow index exceeds matrix dimensions\u001b[39m\u001b[39m'\u001b[39m)\n\u001b[1;32m    284\u001b[0m     \u001b[39mif\u001b[39;00m \u001b[39mself\u001b[39m\u001b[39m.\u001b[39mcol\u001b[39m.\u001b[39mmax() \u001b[39m>\u001b[39m\u001b[39m=\u001b[39m \u001b[39mself\u001b[39m\u001b[39m.\u001b[39mshape[\u001b[39m1\u001b[39m]:\n\u001b[1;32m    285\u001b[0m         \u001b[39mraise\u001b[39;00m \u001b[39mValueError\u001b[39;00m(\u001b[39m'\u001b[39m\u001b[39mcolumn index exceeds matrix dimensions\u001b[39m\u001b[39m'\u001b[39m)\n",
      "\u001b[0;31mValueError\u001b[0m: row index exceeds matrix dimensions"
     ]
    }
   ],
   "source": [
    "ratings = IOService.read(FILEPATH)\n",
    "u_count = ratings.userId.nunique()\n",
    "i_count = ratings.movieId.nunique()\n",
    "row = ratings.userId.values\n",
    "col = ratings.movieId.values\n",
    "data = ratings.rating.values\n",
    "csr = csr_matrix((data,(row,col)), shape=(u_count,i_count))"
   ]
  }
 ],
 "metadata": {
  "kernelspec": {
   "display_name": "recsys",
   "language": "python",
   "name": "python3"
  },
  "language_info": {
   "codemirror_mode": {
    "name": "ipython",
    "version": 3
   },
   "file_extension": ".py",
   "mimetype": "text/x-python",
   "name": "python",
   "nbconvert_exporter": "python",
   "pygments_lexer": "ipython3",
   "version": "3.10.6"
  },
  "orig_nbformat": 4,
  "vscode": {
   "interpreter": {
    "hash": "b95ac036dd134cdbc0e1cfc871143569fe44ed496162bf6c0ba7d4f738a04ef7"
   }
  }
 },
 "nbformat": 4,
 "nbformat_minor": 2
}
