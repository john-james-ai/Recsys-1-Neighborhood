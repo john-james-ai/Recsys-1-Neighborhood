{
 "cells": [
  {
   "attachments": {},
   "cell_type": "markdown",
   "metadata": {},
   "source": [
    "# Neighborhood-Based Collaborative Filtering\n",
    "This is an end-to-end demonstration of neighborhood-based collaborative filtering experiments using Recsys Lab. It covers:\n",
    "- Fetching the dataset from its source.\n",
    "- Converting the dataset to an Interaction Matrix\n",
    "- Splitting the dataset into training, validation and test sets\n",
    "- Subsampling the training dataset \n",
    "- Normalizing the ratings data\n",
    "- Computing user and item similarity matrices\n",
    "- Making predictions\n",
    "- Evaluating the performance of the model using metrics\n",
    "\n",
    "## Dataset\n",
    "For this experiment, we will use the MovieLens 25M Dataset from the GroupLens website. "
   ]
  },
  {
   "cell_type": "code",
   "execution_count": 1,
   "metadata": {},
   "outputs": [],
   "source": [
    "from recsys.dataset.movielens import MovieLens25M"
   ]
  },
  {
   "cell_type": "code",
   "execution_count": 2,
   "metadata": {},
   "outputs": [],
   "source": [
    "# The fetch_data method returns the ratings interaction dataframe.\n",
    "dataset = MovieLens25M()\n",
    "ratings = dataset.fetch_data()"
   ]
  },
  {
   "attachments": {},
   "cell_type": "markdown",
   "metadata": {},
   "source": [
    "## Interaction Matrix\n",
    "User/item interactions are reflected as ratings in the Interaction Matrix R $\\in \\mathbb{R}^{u,i}$ where $u$ is the number of unique users and $i$ is the number of unique items.   "
   ]
  }
 ],
 "metadata": {
  "kernelspec": {
   "display_name": "recsys",
   "language": "python",
   "name": "python3"
  },
  "language_info": {
   "codemirror_mode": {
    "name": "ipython",
    "version": 3
   },
   "file_extension": ".py",
   "mimetype": "text/x-python",
   "name": "python",
   "nbconvert_exporter": "python",
   "pygments_lexer": "ipython3",
   "version": "3.10.8"
  },
  "orig_nbformat": 4
 },
 "nbformat": 4,
 "nbformat_minor": 2
}
