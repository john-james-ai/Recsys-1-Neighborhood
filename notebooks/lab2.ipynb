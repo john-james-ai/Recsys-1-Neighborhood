{
 "cells": [
  {
   "cell_type": "code",
   "execution_count": 1,
   "metadata": {},
   "outputs": [],
   "source": [
    "import numpy as np\n",
    "from tqdm import tqdm\n",
    "from timeit import timeit\n",
    "from datetime import datetime\n",
    "from scipy import sparse as sps\n",
    "import pandas as pd\n",
    "from recsys.data.rating import RatingsDataset\n",
    "from recsys.neighborhood.matrix import InvertedIndex\n",
    "from recsys.io.file import IOService"
   ]
  },
  {
   "cell_type": "code",
   "execution_count": 2,
   "metadata": {},
   "outputs": [],
   "source": [
    "coo = sps.random(m=3000, n=13000, density=0.05)\n",
    "csr = coo.tocsr()\n",
    "csc = coo.tocsc()\n",
    "csr_x = csr.transpose()\n",
    "csc_x = csc.transpose()"
   ]
  },
  {
   "cell_type": "code",
   "execution_count": 3,
   "metadata": {},
   "outputs": [
    {
     "name": "stdout",
     "output_type": "stream",
     "text": [
      "1.82 s ± 52.9 ms per loop (mean ± std. dev. of 7 runs, 1 loop each)\n",
      "1.94 s ± 241 ms per loop (mean ± std. dev. of 7 runs, 1 loop each)\n",
      "1.84 s ± 47.5 ms per loop (mean ± std. dev. of 7 runs, 1 loop each)\n",
      "1.78 s ± 198 ms per loop (mean ± std. dev. of 7 runs, 1 loop each)\n"
     ]
    }
   ],
   "source": [
    "%timeit csr.dot(csr.transpose()).eliminate_zeros()\n",
    "%timeit csr.dot(csr_x).eliminate_zeros()\n",
    "%timeit csc.dot(csc.transpose()).eliminate_zeros()\n",
    "%timeit csc.dot(csc_x).eliminate_zeros()"
   ]
  },
  {
   "cell_type": "code",
   "execution_count": 9,
   "metadata": {},
   "outputs": [],
   "source": [
    "A = csr.dot(csr.transpose())\n",
    "B =  csr.dot(csr_x)\n",
    "C =  csc.dot(csc.transpose())\n",
    "D =  csc.dot(csc_x)"
   ]
  },
  {
   "cell_type": "code",
   "execution_count": 11,
   "metadata": {},
   "outputs": [
    {
     "data": {
      "text/plain": [
       "9000000"
      ]
     },
     "execution_count": 11,
     "metadata": {},
     "output_type": "execute_result"
    },
    {
     "data": {
      "text/plain": [
       "9000000"
      ]
     },
     "execution_count": 11,
     "metadata": {},
     "output_type": "execute_result"
    },
    {
     "data": {
      "text/plain": [
       "9000000"
      ]
     },
     "execution_count": 11,
     "metadata": {},
     "output_type": "execute_result"
    },
    {
     "data": {
      "text/plain": [
       "9000000"
      ]
     },
     "execution_count": 11,
     "metadata": {},
     "output_type": "execute_result"
    }
   ],
   "source": [
    "A.getnnz()\n",
    "B.getnnz()\n",
    "C.getnnz()\n",
    "D.getnnz()"
   ]
  }
 ],
 "metadata": {
  "kernelspec": {
   "display_name": "recsys",
   "language": "python",
   "name": "python3"
  },
  "language_info": {
   "codemirror_mode": {
    "name": "ipython",
    "version": 3
   },
   "file_extension": ".py",
   "mimetype": "text/x-python",
   "name": "python",
   "nbconvert_exporter": "python",
   "pygments_lexer": "ipython3",
   "version": "3.10.6"
  },
  "orig_nbformat": 4,
  "vscode": {
   "interpreter": {
    "hash": "b95ac036dd134cdbc0e1cfc871143569fe44ed496162bf6c0ba7d4f738a04ef7"
   }
  }
 },
 "nbformat": 4,
 "nbformat_minor": 2
}
