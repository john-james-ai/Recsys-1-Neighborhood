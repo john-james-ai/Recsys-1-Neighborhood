{
 "cells": [
  {
   "attachments": {},
   "cell_type": "markdown",
   "metadata": {},
   "source": [
    "# MovieLens Dataset"
   ]
  },
  {
   "cell_type": "code",
   "execution_count": 1,
   "metadata": {},
   "outputs": [],
   "source": [
    "from IPython.display import display, HTML\n",
    "import pandas as pd\n",
    "from recsys.data.dataset import Dataset\n",
    "from recsys.services.io import IOService"
   ]
  },
  {
   "cell_type": "code",
   "execution_count": 2,
   "metadata": {},
   "outputs": [],
   "source": [
    "FP_PROD = \"data/prod/train.pkl\"\n",
    "FP_DEV = \"data/dev/train.pkl\"\n",
    "dfp = IOService.read(FP_PROD)\n",
    "dfd = IOService.read(FP_DEV)"
   ]
  },
  {
   "cell_type": "code",
   "execution_count": 3,
   "metadata": {},
   "outputs": [],
   "source": [
    "\n",
    "dfp = Dataset(name='prod_dataset', description='Production Dataset', data=dfp)\n",
    "dfd =  Dataset(name='dev_dataset', description='Development Dataset', data=dfd)"
   ]
  },
  {
   "cell_type": "code",
   "execution_count": 4,
   "metadata": {},
   "outputs": [
    {
     "data": {
      "text/html": [
       "<h3>Production and Development Dataset Summary</h3>"
      ],
      "text/plain": [
       "<IPython.core.display.HTML object>"
      ]
     },
     "metadata": {},
     "output_type": "display_data"
    },
    {
     "data": {
      "text/html": [
       "<div>\n",
       "<style scoped>\n",
       "    .dataframe tbody tr th:only-of-type {\n",
       "        vertical-align: middle;\n",
       "    }\n",
       "\n",
       "    .dataframe tbody tr th {\n",
       "        vertical-align: top;\n",
       "    }\n",
       "\n",
       "    .dataframe thead th {\n",
       "        text-align: right;\n",
       "    }\n",
       "</style>\n",
       "<table border=\"1\" class=\"dataframe\">\n",
       "  <thead>\n",
       "    <tr style=\"text-align: right;\">\n",
       "      <th></th>\n",
       "      <th>Prod</th>\n",
       "      <th>Dev</th>\n",
       "    </tr>\n",
       "  </thead>\n",
       "  <tbody>\n",
       "    <tr>\n",
       "      <th>nrows</th>\n",
       "      <td>20,000,076.00</td>\n",
       "      <td>1,599,983.00</td>\n",
       "    </tr>\n",
       "    <tr>\n",
       "      <th>ncols</th>\n",
       "      <td>8.00</td>\n",
       "      <td>8.00</td>\n",
       "    </tr>\n",
       "    <tr>\n",
       "      <th>n_users</th>\n",
       "      <td>137,883.00</td>\n",
       "      <td>11,306.00</td>\n",
       "    </tr>\n",
       "    <tr>\n",
       "      <th>n_items</th>\n",
       "      <td>34,461.00</td>\n",
       "      <td>13,284.00</td>\n",
       "    </tr>\n",
       "    <tr>\n",
       "      <th>max_ratings_per_user</th>\n",
       "      <td>12,097.00</td>\n",
       "      <td>4,162.00</td>\n",
       "    </tr>\n",
       "    <tr>\n",
       "      <th>mean_ratings_per_user</th>\n",
       "      <td>145.05</td>\n",
       "      <td>141.52</td>\n",
       "    </tr>\n",
       "    <tr>\n",
       "      <th>max_ratings_per_item</th>\n",
       "      <td>67,782.00</td>\n",
       "      <td>5,485.00</td>\n",
       "    </tr>\n",
       "    <tr>\n",
       "      <th>mean_ratings_per_item</th>\n",
       "      <td>580.37</td>\n",
       "      <td>120.44</td>\n",
       "    </tr>\n",
       "    <tr>\n",
       "      <th>user_item_ratio</th>\n",
       "      <td>4.00</td>\n",
       "      <td>0.85</td>\n",
       "    </tr>\n",
       "    <tr>\n",
       "      <th>item_user_ratio</th>\n",
       "      <td>0.25</td>\n",
       "      <td>1.17</td>\n",
       "    </tr>\n",
       "    <tr>\n",
       "      <th>size</th>\n",
       "      <td>160,000,608.00</td>\n",
       "      <td>12,799,864.00</td>\n",
       "    </tr>\n",
       "    <tr>\n",
       "      <th>utility_matrix_size</th>\n",
       "      <td>4,751,586,063.00</td>\n",
       "      <td>150,188,904.00</td>\n",
       "    </tr>\n",
       "    <tr>\n",
       "      <th>memory</th>\n",
       "      <td>1,440,005,472.00</td>\n",
       "      <td>115,198,776.00</td>\n",
       "    </tr>\n",
       "    <tr>\n",
       "      <th>sparsity</th>\n",
       "      <td>12.50</td>\n",
       "      <td>12.50</td>\n",
       "    </tr>\n",
       "    <tr>\n",
       "      <th>density</th>\n",
       "      <td>87.50</td>\n",
       "      <td>87.50</td>\n",
       "    </tr>\n",
       "  </tbody>\n",
       "</table>\n",
       "</div>"
      ],
      "text/plain": [
       "                                  Prod            Dev\n",
       "nrows                    20,000,076.00   1,599,983.00\n",
       "ncols                             8.00           8.00\n",
       "n_users                     137,883.00      11,306.00\n",
       "n_items                      34,461.00      13,284.00\n",
       "max_ratings_per_user         12,097.00       4,162.00\n",
       "mean_ratings_per_user           145.05         141.52\n",
       "max_ratings_per_item         67,782.00       5,485.00\n",
       "mean_ratings_per_item           580.37         120.44\n",
       "user_item_ratio                   4.00           0.85\n",
       "item_user_ratio                   0.25           1.17\n",
       "size                    160,000,608.00  12,799,864.00\n",
       "utility_matrix_size   4,751,586,063.00 150,188,904.00\n",
       "memory                1,440,005,472.00 115,198,776.00\n",
       "sparsity                         12.50          12.50\n",
       "density                          87.50          87.50"
      ]
     },
     "execution_count": 4,
     "metadata": {},
     "output_type": "execute_result"
    }
   ],
   "source": [
    "display(HTML('<h3>Production and Development Dataset Summary</h3>'))\n",
    "dfps = dfp.summary()\n",
    "dfds = dfd.summary()\n",
    "dfs = pd.concat([dfps, dfds], axis=1)\n",
    "dfs.columns = ['Prod', 'Dev']\n",
    "dfs"
   ]
  }
 ],
 "metadata": {
  "kernelspec": {
   "display_name": "recsys",
   "language": "python",
   "name": "python3"
  },
  "language_info": {
   "codemirror_mode": {
    "name": "ipython",
    "version": 3
   },
   "file_extension": ".py",
   "mimetype": "text/x-python",
   "name": "python",
   "nbconvert_exporter": "python",
   "pygments_lexer": "ipython3",
   "version": "3.10.8"
  },
  "orig_nbformat": 4,
  "vscode": {
   "interpreter": {
    "hash": "b95ac036dd134cdbc0e1cfc871143569fe44ed496162bf6c0ba7d4f738a04ef7"
   }
  }
 },
 "nbformat": 4,
 "nbformat_minor": 2
}
