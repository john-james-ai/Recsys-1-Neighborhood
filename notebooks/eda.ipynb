{
 "cells": [
  {
   "attachments": {},
   "cell_type": "markdown",
   "metadata": {},
   "source": [
    "# MovieLens Dataset"
   ]
  },
  {
   "cell_type": "code",
   "execution_count": 1,
   "metadata": {},
   "outputs": [],
   "source": [
    "from IPython.display import display, HTML\n",
    "import pandas as pd\n",
    "from recsys.data.dataset import Dataset\n",
    "from recsys.services.io import IOService"
   ]
  },
  {
   "cell_type": "code",
   "execution_count": 2,
   "metadata": {},
   "outputs": [],
   "source": [
    "FP_PROD = \"data/prod/train.pkl\"\n",
    "FP_DEV = \"data/dev/train.pkl\"\n",
    "dfp = IOService.read(FP_PROD)\n",
    "dfd = IOService.read(FP_DEV)"
   ]
  },
  {
   "cell_type": "code",
   "execution_count": 3,
   "metadata": {},
   "outputs": [],
   "source": [
    "\n",
    "dfp = Dataset(name='prod_dataset', description='Production Dataset', data=dfp)\n",
    "dfd =  Dataset(name='dev_dataset', description='Development Dataset', data=dfd)"
   ]
  },
  {
   "cell_type": "code",
   "execution_count": 4,
   "metadata": {},
   "outputs": [
    {
     "data": {
      "text/html": [
       "<h3>Production and Development Dataset Summary</h3>"
      ],
      "text/plain": [
       "<IPython.core.display.HTML object>"
      ]
     },
     "metadata": {},
     "output_type": "display_data"
    },
    {
     "ename": "AttributeError",
     "evalue": "'Dataset' object has no attribute 'summarize'",
     "output_type": "error",
     "traceback": [
      "\u001b[0;31m---------------------------------------------------------------------------\u001b[0m",
      "\u001b[0;31mAttributeError\u001b[0m                            Traceback (most recent call last)",
      "Cell \u001b[0;32mIn[4], line 2\u001b[0m\n\u001b[1;32m      1\u001b[0m display(HTML(\u001b[39m'\u001b[39m\u001b[39m<h3>Production and Development Dataset Summary</h3>\u001b[39m\u001b[39m'\u001b[39m))\n\u001b[0;32m----> 2\u001b[0m dfps \u001b[39m=\u001b[39m dfp\u001b[39m.\u001b[39;49msummarize()\n\u001b[1;32m      3\u001b[0m dfds \u001b[39m=\u001b[39m dfd\u001b[39m.\u001b[39msummarize()\n\u001b[1;32m      4\u001b[0m dfs \u001b[39m=\u001b[39m pd\u001b[39m.\u001b[39mconcat([dfps, dfds], axis\u001b[39m=\u001b[39m\u001b[39m1\u001b[39m)\n",
      "\u001b[0;31mAttributeError\u001b[0m: 'Dataset' object has no attribute 'summarize'"
     ]
    }
   ],
   "source": [
    "display(HTML('<h3>Production and Development Dataset Summary</h3>'))\n",
    "dfps = dfp.summary()\n",
    "dfds = dfd.summary()\n",
    "dfs = pd.concat([dfps, dfds], axis=1)\n",
    "dfs.columns = ['Prod', 'Dev']\n",
    "dfs"
   ]
  }
 ],
 "metadata": {
  "kernelspec": {
   "display_name": "recsys",
   "language": "python",
   "name": "python3"
  },
  "language_info": {
   "codemirror_mode": {
    "name": "ipython",
    "version": 3
   },
   "file_extension": ".py",
   "mimetype": "text/x-python",
   "name": "python",
   "nbconvert_exporter": "python",
   "pygments_lexer": "ipython3",
   "version": "3.10.8"
  },
  "orig_nbformat": 4,
  "vscode": {
   "interpreter": {
    "hash": "b95ac036dd134cdbc0e1cfc871143569fe44ed496162bf6c0ba7d4f738a04ef7"
   }
  }
 },
 "nbformat": 4,
 "nbformat_minor": 2
}
