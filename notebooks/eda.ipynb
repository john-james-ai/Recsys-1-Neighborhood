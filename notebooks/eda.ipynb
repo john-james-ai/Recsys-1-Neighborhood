{
 "cells": [
  {
   "attachments": {},
   "cell_type": "markdown",
   "metadata": {},
   "source": [
    "# MovieLens Dataset"
   ]
  },
  {
   "cell_type": "code",
   "execution_count": 5,
   "metadata": {},
   "outputs": [],
   "source": [
    "from IPython.display import display, HTML\n",
    "import pandas as pd\n",
    "from recsys.utils.io import IOService"
   ]
  },
  {
   "cell_type": "code",
   "execution_count": 6,
   "metadata": {},
   "outputs": [],
   "source": [
    "FILEPATH = \"data/movielens/raw/rating.pkl\""
   ]
  },
  {
   "cell_type": "code",
   "execution_count": 7,
   "metadata": {},
   "outputs": [],
   "source": [
    "rating = IOService.read(FILEPATH)"
   ]
  },
  {
   "cell_type": "code",
   "execution_count": 8,
   "metadata": {},
   "outputs": [
    {
     "data": {
      "text/html": [
       "<h3>DataFrame Info</h3>"
      ],
      "text/plain": [
       "<IPython.core.display.HTML object>"
      ]
     },
     "metadata": {},
     "output_type": "display_data"
    },
    {
     "name": "stdout",
     "output_type": "stream",
     "text": [
      "<class 'pandas.core.frame.DataFrame'>\n",
      "RangeIndex: 20000263 entries, 0 to 20000262\n",
      "Data columns (total 4 columns):\n",
      " #   Column     Dtype  \n",
      "---  ------     -----  \n",
      " 0   userId     int64  \n",
      " 1   movieId    int64  \n",
      " 2   rating     float64\n",
      " 3   timestamp  object \n",
      "dtypes: float64(1), int64(2), object(1)\n",
      "memory usage: 610.4+ MB\n"
     ]
    }
   ],
   "source": [
    "display(HTML('<h3>DataFrame Info</h3>'))\n",
    "rating.info()"
   ]
  },
  {
   "cell_type": "code",
   "execution_count": 9,
   "metadata": {},
   "outputs": [
    {
     "data": {
      "text/html": [
       "<h3>User / Movie Counts</h3>"
      ],
      "text/plain": [
       "<IPython.core.display.HTML object>"
      ]
     },
     "metadata": {},
     "output_type": "display_data"
    },
    {
     "data": {
      "text/html": [
       "<div>\n",
       "<style scoped>\n",
       "    .dataframe tbody tr th:only-of-type {\n",
       "        vertical-align: middle;\n",
       "    }\n",
       "\n",
       "    .dataframe tbody tr th {\n",
       "        vertical-align: top;\n",
       "    }\n",
       "\n",
       "    .dataframe thead th {\n",
       "        text-align: right;\n",
       "    }\n",
       "</style>\n",
       "<table border=\"1\" class=\"dataframe\">\n",
       "  <thead>\n",
       "    <tr style=\"text-align: right;\">\n",
       "      <th></th>\n",
       "      <th>Count</th>\n",
       "    </tr>\n",
       "  </thead>\n",
       "  <tbody>\n",
       "    <tr>\n",
       "      <th>Users</th>\n",
       "      <td>138,493.00</td>\n",
       "    </tr>\n",
       "    <tr>\n",
       "      <th>Movies</th>\n",
       "      <td>26,744.00</td>\n",
       "    </tr>\n",
       "    <tr>\n",
       "      <th>Average Rating Count per User</th>\n",
       "      <td>144.41</td>\n",
       "    </tr>\n",
       "    <tr>\n",
       "      <th>Median Rating Count per User</th>\n",
       "      <td>68.00</td>\n",
       "    </tr>\n",
       "    <tr>\n",
       "      <th>Average Rating Count per Movie</th>\n",
       "      <td>747.84</td>\n",
       "    </tr>\n",
       "    <tr>\n",
       "      <th>Median Rating Count per Movie</th>\n",
       "      <td>18.00</td>\n",
       "    </tr>\n",
       "  </tbody>\n",
       "</table>\n",
       "</div>"
      ],
      "text/plain": [
       "                                    Count\n",
       "Users                          138,493.00\n",
       "Movies                          26,744.00\n",
       "Average Rating Count per User      144.41\n",
       "Median Rating Count per User        68.00\n",
       "Average Rating Count per Movie     747.84\n",
       "Median Rating Count per Movie       18.00"
      ]
     },
     "execution_count": 9,
     "metadata": {},
     "output_type": "execute_result"
    }
   ],
   "source": [
    "display(HTML('<h3>User / Movie Counts</h3>'))\n",
    "d = {'Users': rating['userId'].nunique(), 'Movies': rating['movieId'].nunique(), 'Average Rating Count per User': rating['userId'].value_counts().mean(),'Median Rating Count per User': rating['userId'].value_counts().median(), 'Average Rating Count per Movie': rating['movieId'].value_counts().mean(), 'Median Rating Count per Movie': rating['movieId'].value_counts().median()}\n",
    "df = pd.DataFrame.from_dict(data=d, orient='index', columns=['Count'])\n",
    "df"
   ]
  },
  {
   "cell_type": "code",
   "execution_count": 26,
   "metadata": {},
   "outputs": [
    {
     "data": {
      "text/html": [
       "<h3>Top 10 Users</h3>"
      ],
      "text/plain": [
       "<IPython.core.display.HTML object>"
      ]
     },
     "metadata": {},
     "output_type": "display_data"
    },
    {
     "data": {
      "text/html": [
       "<div>\n",
       "<style scoped>\n",
       "    .dataframe tbody tr th:only-of-type {\n",
       "        vertical-align: middle;\n",
       "    }\n",
       "\n",
       "    .dataframe tbody tr th {\n",
       "        vertical-align: top;\n",
       "    }\n",
       "\n",
       "    .dataframe thead th {\n",
       "        text-align: right;\n",
       "    }\n",
       "</style>\n",
       "<table border=\"1\" class=\"dataframe\">\n",
       "  <thead>\n",
       "    <tr style=\"text-align: right;\">\n",
       "      <th></th>\n",
       "      <th>Counts</th>\n",
       "    </tr>\n",
       "  </thead>\n",
       "  <tbody>\n",
       "    <tr>\n",
       "      <th>118205</th>\n",
       "      <td>9254</td>\n",
       "    </tr>\n",
       "    <tr>\n",
       "      <th>8405</th>\n",
       "      <td>7515</td>\n",
       "    </tr>\n",
       "    <tr>\n",
       "      <th>82418</th>\n",
       "      <td>5646</td>\n",
       "    </tr>\n",
       "    <tr>\n",
       "      <th>121535</th>\n",
       "      <td>5520</td>\n",
       "    </tr>\n",
       "    <tr>\n",
       "      <th>125794</th>\n",
       "      <td>5491</td>\n",
       "    </tr>\n",
       "    <tr>\n",
       "      <th>74142</th>\n",
       "      <td>5447</td>\n",
       "    </tr>\n",
       "    <tr>\n",
       "      <th>34576</th>\n",
       "      <td>5356</td>\n",
       "    </tr>\n",
       "    <tr>\n",
       "      <th>131904</th>\n",
       "      <td>5330</td>\n",
       "    </tr>\n",
       "    <tr>\n",
       "      <th>83090</th>\n",
       "      <td>5169</td>\n",
       "    </tr>\n",
       "    <tr>\n",
       "      <th>59477</th>\n",
       "      <td>4988</td>\n",
       "    </tr>\n",
       "  </tbody>\n",
       "</table>\n",
       "</div>"
      ],
      "text/plain": [
       "        Counts\n",
       "118205    9254\n",
       "8405      7515\n",
       "82418     5646\n",
       "121535    5520\n",
       "125794    5491\n",
       "74142     5447\n",
       "34576     5356\n",
       "131904    5330\n",
       "83090     5169\n",
       "59477     4988"
      ]
     },
     "execution_count": 26,
     "metadata": {},
     "output_type": "execute_result"
    },
    {
     "data": {
      "text/plain": [
       "array([ 10, 110, 150, 161, 165, 185, 231, 296, 316, 344, 349, 356, 380,\n",
       "       434, 454, 457, 480, 590, 592, 593])"
      ]
     },
     "execution_count": 26,
     "metadata": {},
     "output_type": "execute_result"
    }
   ],
   "source": [
    "display(HTML('<h3>Top 10 Users</h3>'))\n",
    "rating['userId'].value_counts(sort=True).to_frame('Counts')[0:10]\n",
    "user_89305 = rating[rating['userId'] == 89305]\n",
    "user_89305['movieId'].values"
   ]
  },
  {
   "cell_type": "code",
   "execution_count": 34,
   "metadata": {},
   "outputs": [
    {
     "data": {
      "text/html": [
       "<div>\n",
       "<style scoped>\n",
       "    .dataframe tbody tr th:only-of-type {\n",
       "        vertical-align: middle;\n",
       "    }\n",
       "\n",
       "    .dataframe tbody tr th {\n",
       "        vertical-align: top;\n",
       "    }\n",
       "\n",
       "    .dataframe thead th {\n",
       "        text-align: right;\n",
       "    }\n",
       "</style>\n",
       "<table border=\"1\" class=\"dataframe\">\n",
       "  <thead>\n",
       "    <tr style=\"text-align: right;\">\n",
       "      <th></th>\n",
       "      <th>userId</th>\n",
       "      <th>movieId</th>\n",
       "      <th>rating</th>\n",
       "      <th>timestamp</th>\n",
       "    </tr>\n",
       "  </thead>\n",
       "  <tbody>\n",
       "    <tr>\n",
       "      <th>11</th>\n",
       "      <td>1</td>\n",
       "      <td>296</td>\n",
       "      <td>4.00</td>\n",
       "      <td>2005-04-02 23:32:47</td>\n",
       "    </tr>\n",
       "    <tr>\n",
       "      <th>17</th>\n",
       "      <td>1</td>\n",
       "      <td>593</td>\n",
       "      <td>3.50</td>\n",
       "      <td>2005-04-02 23:31:01</td>\n",
       "    </tr>\n",
       "    <tr>\n",
       "      <th>178</th>\n",
       "      <td>2</td>\n",
       "      <td>110</td>\n",
       "      <td>4.00</td>\n",
       "      <td>2000-11-21 15:30:58</td>\n",
       "    </tr>\n",
       "    <tr>\n",
       "      <th>183</th>\n",
       "      <td>2</td>\n",
       "      <td>480</td>\n",
       "      <td>5.00</td>\n",
       "      <td>2000-11-21 15:32:00</td>\n",
       "    </tr>\n",
       "    <tr>\n",
       "      <th>246</th>\n",
       "      <td>3</td>\n",
       "      <td>316</td>\n",
       "      <td>5.00</td>\n",
       "      <td>1999-12-14 12:51:10</td>\n",
       "    </tr>\n",
       "    <tr>\n",
       "      <th>...</th>\n",
       "      <td>...</td>\n",
       "      <td>...</td>\n",
       "      <td>...</td>\n",
       "      <td>...</td>\n",
       "    </tr>\n",
       "    <tr>\n",
       "      <th>19999912</th>\n",
       "      <td>138493</td>\n",
       "      <td>356</td>\n",
       "      <td>5.00</td>\n",
       "      <td>2009-10-17 22:05:03</td>\n",
       "    </tr>\n",
       "    <tr>\n",
       "      <th>19999918</th>\n",
       "      <td>138493</td>\n",
       "      <td>434</td>\n",
       "      <td>4.00</td>\n",
       "      <td>2009-10-17 22:19:21</td>\n",
       "    </tr>\n",
       "    <tr>\n",
       "      <th>19999919</th>\n",
       "      <td>138493</td>\n",
       "      <td>480</td>\n",
       "      <td>4.50</td>\n",
       "      <td>2009-10-17 22:13:20</td>\n",
       "    </tr>\n",
       "    <tr>\n",
       "      <th>19999928</th>\n",
       "      <td>138493</td>\n",
       "      <td>590</td>\n",
       "      <td>4.50</td>\n",
       "      <td>2009-10-17 20:29:40</td>\n",
       "    </tr>\n",
       "    <tr>\n",
       "      <th>19999929</th>\n",
       "      <td>138493</td>\n",
       "      <td>592</td>\n",
       "      <td>4.00</td>\n",
       "      <td>2009-10-17 20:20:16</td>\n",
       "    </tr>\n",
       "  </tbody>\n",
       "</table>\n",
       "<p>834545 rows × 4 columns</p>\n",
       "</div>"
      ],
      "text/plain": [
       "          userId  movieId  rating            timestamp\n",
       "11             1      296    4.00  2005-04-02 23:32:47\n",
       "17             1      593    3.50  2005-04-02 23:31:01\n",
       "178            2      110    4.00  2000-11-21 15:30:58\n",
       "183            2      480    5.00  2000-11-21 15:32:00\n",
       "246            3      316    5.00  1999-12-14 12:51:10\n",
       "...          ...      ...     ...                  ...\n",
       "19999912  138493      356    5.00  2009-10-17 22:05:03\n",
       "19999918  138493      434    4.00  2009-10-17 22:19:21\n",
       "19999919  138493      480    4.50  2009-10-17 22:13:20\n",
       "19999928  138493      590    4.50  2009-10-17 20:29:40\n",
       "19999929  138493      592    4.00  2009-10-17 20:20:16\n",
       "\n",
       "[834545 rows x 4 columns]"
      ]
     },
     "execution_count": 34,
     "metadata": {},
     "output_type": "execute_result"
    },
    {
     "data": {
      "text/plain": [
       "array([     1,      1,      2, ..., 138493, 138493, 138493])"
      ]
     },
     "execution_count": 34,
     "metadata": {},
     "output_type": "execute_result"
    }
   ],
   "source": [
    "movies = user_89305['movieId'].values\n",
    "neighbors = rating[rating['movieId'].isin(movies)]\n",
    "neighbors\n",
    "neighbors = neighbors[neighbors['userId'] != 89305]['userId'].values\n",
    "neighbors"
   ]
  },
  {
   "cell_type": "code",
   "execution_count": null,
   "metadata": {},
   "outputs": [],
   "source": []
  }
 ],
 "metadata": {
  "kernelspec": {
   "display_name": "recsys",
   "language": "python",
   "name": "python3"
  },
  "language_info": {
   "codemirror_mode": {
    "name": "ipython",
    "version": 3
   },
   "file_extension": ".py",
   "mimetype": "text/x-python",
   "name": "python",
   "nbconvert_exporter": "python",
   "pygments_lexer": "ipython3",
   "version": "3.10.6"
  },
  "orig_nbformat": 4,
  "vscode": {
   "interpreter": {
    "hash": "b95ac036dd134cdbc0e1cfc871143569fe44ed496162bf6c0ba7d4f738a04ef7"
   }
  }
 },
 "nbformat": 4,
 "nbformat_minor": 2
}
