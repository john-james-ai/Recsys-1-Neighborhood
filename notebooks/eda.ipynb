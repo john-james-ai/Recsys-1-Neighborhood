{
 "cells": [
  {
   "attachments": {},
   "cell_type": "markdown",
   "metadata": {},
   "source": [
    "# MovieLens Dataset"
   ]
  },
  {
   "cell_type": "code",
   "execution_count": 1,
   "metadata": {},
   "outputs": [],
   "source": [
    "from IPython.display import display, HTML\n",
    "import pandas as pd\n",
    "from recsys.data.rating import RatingsDataset"
   ]
  },
  {
   "cell_type": "code",
   "execution_count": 2,
   "metadata": {},
   "outputs": [],
   "source": [
    "FP_PROD = \"data/prod/train.pkl\"\n",
    "FP_DEV = \"data/dev/train.pkl\"\n",
    "FP_TEST = \"tests/data/train.pkl\"\n",
    "dfp = RatingsDataset(filepath=FP_PROD)\n",
    "dfd =  RatingsDataset(filepath=FP_DEV)\n",
    "dft =  RatingsDataset(filepath=FP_TEST)"
   ]
  },
  {
   "cell_type": "code",
   "execution_count": 4,
   "metadata": {},
   "outputs": [
    {
     "data": {
      "text/html": [
       "<h3>Production, Development and Test (Train) Dataset Summary</h3>"
      ],
      "text/plain": [
       "<IPython.core.display.HTML object>"
      ]
     },
     "metadata": {},
     "output_type": "display_data"
    },
    {
     "data": {
      "text/html": [
       "<div>\n",
       "<style scoped>\n",
       "    .dataframe tbody tr th:only-of-type {\n",
       "        vertical-align: middle;\n",
       "    }\n",
       "\n",
       "    .dataframe tbody tr th {\n",
       "        vertical-align: top;\n",
       "    }\n",
       "\n",
       "    .dataframe thead th {\n",
       "        text-align: right;\n",
       "    }\n",
       "</style>\n",
       "<table border=\"1\" class=\"dataframe\">\n",
       "  <thead>\n",
       "    <tr style=\"text-align: right;\">\n",
       "      <th></th>\n",
       "      <th>Prod</th>\n",
       "      <th>Dev</th>\n",
       "      <th>Test</th>\n",
       "    </tr>\n",
       "  </thead>\n",
       "  <tbody>\n",
       "    <tr>\n",
       "      <th>Rows</th>\n",
       "      <td>20,000,076.00</td>\n",
       "      <td>200,000.00</td>\n",
       "      <td>20,000.00</td>\n",
       "    </tr>\n",
       "    <tr>\n",
       "      <th>Columns</th>\n",
       "      <td>6.00</td>\n",
       "      <td>6.00</td>\n",
       "      <td>6.00</td>\n",
       "    </tr>\n",
       "    <tr>\n",
       "      <th>Users</th>\n",
       "      <td>137,883.00</td>\n",
       "      <td>74,951.00</td>\n",
       "      <td>16,266.00</td>\n",
       "    </tr>\n",
       "    <tr>\n",
       "      <th>Movies</th>\n",
       "      <td>34,461.00</td>\n",
       "      <td>11,048.00</td>\n",
       "      <td>4,792.00</td>\n",
       "    </tr>\n",
       "    <tr>\n",
       "      <th>Average number of ratings per user</th>\n",
       "      <td>4.00</td>\n",
       "      <td>6.78</td>\n",
       "      <td>3.39</td>\n",
       "    </tr>\n",
       "    <tr>\n",
       "      <th>Maximum Number of ratings by a user</th>\n",
       "      <td>12,097.00</td>\n",
       "      <td>137.00</td>\n",
       "      <td>15.00</td>\n",
       "    </tr>\n",
       "    <tr>\n",
       "      <th>Average number of ratings per item</th>\n",
       "      <td>0.25</td>\n",
       "      <td>0.15</td>\n",
       "      <td>0.29</td>\n",
       "    </tr>\n",
       "    <tr>\n",
       "      <th>Maximum Number of ratings for an item</th>\n",
       "      <td>67,782.00</td>\n",
       "      <td>709.00</td>\n",
       "      <td>69.00</td>\n",
       "    </tr>\n",
       "    <tr>\n",
       "      <th>Memory Usage (Mb)</th>\n",
       "      <td>1,068.12</td>\n",
       "      <td>10.68</td>\n",
       "      <td>1.07</td>\n",
       "    </tr>\n",
       "    <tr>\n",
       "      <th>Size</th>\n",
       "      <td>120,000,456.00</td>\n",
       "      <td>1,200,000.00</td>\n",
       "      <td>120,000.00</td>\n",
       "    </tr>\n",
       "    <tr>\n",
       "      <th>Matrix Size</th>\n",
       "      <td>4,751,586,063.00</td>\n",
       "      <td>828,058,648.00</td>\n",
       "      <td>77,946,672.00</td>\n",
       "    </tr>\n",
       "    <tr>\n",
       "      <th>Sparsity</th>\n",
       "      <td>99.58</td>\n",
       "      <td>99.98</td>\n",
       "      <td>99.97</td>\n",
       "    </tr>\n",
       "    <tr>\n",
       "      <th>Density</th>\n",
       "      <td>0.42</td>\n",
       "      <td>0.02</td>\n",
       "      <td>0.03</td>\n",
       "    </tr>\n",
       "  </tbody>\n",
       "</table>\n",
       "</div>"
      ],
      "text/plain": [
       "                                                  Prod            Dev          Test\n",
       "Rows                                     20,000,076.00     200,000.00     20,000.00\n",
       "Columns                                           6.00           6.00          6.00\n",
       "Users                                       137,883.00      74,951.00     16,266.00\n",
       "Movies                                       34,461.00      11,048.00      4,792.00\n",
       "Average number of ratings per user                4.00           6.78          3.39\n",
       "Maximum Number of ratings by a user          12,097.00         137.00         15.00\n",
       "Average number of ratings per item                0.25           0.15          0.29\n",
       "Maximum Number of ratings for an item        67,782.00         709.00         69.00\n",
       "Memory Usage (Mb)                             1,068.12          10.68          1.07\n",
       "Size                                    120,000,456.00   1,200,000.00    120,000.00\n",
       "Matrix Size                           4,751,586,063.00 828,058,648.00 77,946,672.00\n",
       "Sparsity                                         99.58          99.98         99.97\n",
       "Density                                           0.42           0.02          0.03"
      ]
     },
     "execution_count": 4,
     "metadata": {},
     "output_type": "execute_result"
    }
   ],
   "source": [
    "display(HTML('<h3>Production, Development and Test (Train) Dataset Summary</h3>'))\n",
    "dfps = dfp.summarize()\n",
    "dfds = dfd.summarize()\n",
    "dfts = dft.summarize()\n",
    "dfs = pd.concat([dfps, dfds, dfts], axis=1)\n",
    "dfs.columns = ['Prod', 'Dev', 'Test']\n",
    "dfs"
   ]
  }
 ],
 "metadata": {
  "kernelspec": {
   "display_name": "recsys",
   "language": "python",
   "name": "python3"
  },
  "language_info": {
   "codemirror_mode": {
    "name": "ipython",
    "version": 3
   },
   "file_extension": ".py",
   "mimetype": "text/x-python",
   "name": "python",
   "nbconvert_exporter": "python",
   "pygments_lexer": "ipython3",
   "version": "3.10.6"
  },
  "orig_nbformat": 4,
  "vscode": {
   "interpreter": {
    "hash": "b95ac036dd134cdbc0e1cfc871143569fe44ed496162bf6c0ba7d4f738a04ef7"
   }
  }
 },
 "nbformat": 4,
 "nbformat_minor": 2
}
