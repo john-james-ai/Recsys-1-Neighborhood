{
 "cells": [
  {
   "cell_type": "code",
   "execution_count": 5,
   "metadata": {},
   "outputs": [],
   "source": [
    "from types import SimpleNamespace\n",
    "from recsys.io.service import IOService"
   ]
  },
  {
   "cell_type": "code",
   "execution_count": 6,
   "metadata": {},
   "outputs": [
    {
     "data": {
      "text/plain": [
       "{'name': 'movielens25m_etl',\n",
       " 'description': 'Extracts, transforms and loads the GroupLens Movielens25M ratings dataset',\n",
       " 'tasks': [{'task': {'name': 'source_movielens25m',\n",
       "    'description': 'Obtain Movielens25M Dataset from the Grouplens website',\n",
       "    'operator': {'name': 'TestOperator1',\n",
       "     'module': 'tests.data.operators',\n",
       "     'params': {'source': 'https://files.grouplens.org/datasets/movielens/ml-25m.zip',\n",
       "      'download': 'data/movielens25m/ext/',\n",
       "      'extract': 'data/movielens25m/raw/'}}}},\n",
       "  {'task': {'name': 'spotify',\n",
       "    'description': 'Spotify Million Playlist Benchmark Dataset',\n",
       "    'operator': {'name': 'TestOperator2',\n",
       "     'module': 'tests.data.operators',\n",
       "     'params': {'uri1': 'https://www.aicrowd.com/challenges/spotify-million-playlist-dataset-challenge/dataset_files?unique_download_uri=204765&challenge_id=277',\n",
       "      'uri2': 'https://www.aicrowd.com/challenges/spotify-million-playlist-dataset-challenge/dataset_files?unique_download_uri=204766&challenge_id=277'}}}},\n",
       "  {'task': {'name': 'load_tenrec_dataset',\n",
       "    'description': 'Obtain Tenrec, a large-scale multipurpose benchmark dataset',\n",
       "    'operator': {'name': 'TestOperator3',\n",
       "     'module': 'tests.data.operators',\n",
       "     'params': {'source': 'https://static.qblv.qq.com/qblv/h5/algo-frontend/tenrec_dataset.html#deal',\n",
       "      'destination': 'data/tenrec/ext/'}}}}]}"
      ]
     },
     "execution_count": 6,
     "metadata": {},
     "output_type": "execute_result"
    }
   ],
   "source": [
    "filepath = \"tests/data/test_workflow_config.yml\"\n",
    "config = IOService.read(filepath)\n",
    "config = SimpleNamespace(**config)\n",
    "config.pipeline\n"
   ]
  }
 ],
 "metadata": {
  "kernelspec": {
   "display_name": "recsys",
   "language": "python",
   "name": "python3"
  },
  "language_info": {
   "codemirror_mode": {
    "name": "ipython",
    "version": 3
   },
   "file_extension": ".py",
   "mimetype": "text/x-python",
   "name": "python",
   "nbconvert_exporter": "python",
   "pygments_lexer": "ipython3",
   "version": "3.10.6"
  },
  "orig_nbformat": 4,
  "vscode": {
   "interpreter": {
    "hash": "b95ac036dd134cdbc0e1cfc871143569fe44ed496162bf6c0ba7d4f738a04ef7"
   }
  }
 },
 "nbformat": 4,
 "nbformat_minor": 2
}
