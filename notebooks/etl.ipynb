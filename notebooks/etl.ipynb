{
 "cells": [
  {
   "attachments": {},
   "cell_type": "markdown",
   "metadata": {},
   "source": [
    "# MovieLens 25M Dataset ETL\n",
    "MovieLens 25M dataset contains some 62,000 movies and 162,000 users. This ETL will produce several training and test sets of varying proportions of the original data set."
   ]
  },
  {
   "cell_type": "code",
   "execution_count": 1,
   "metadata": {},
   "outputs": [],
   "source": [
    "import os\n",
    "import logging\n",
    "from pprint import pprint\n",
    "from recsys.data.source import WebDataSource\n",
    "from recsys.io.zip import extractzip\n",
    "from recsys.io.file import IOService\n",
    "from recsys.data.rating import RatingsDataset"
   ]
  },
  {
   "cell_type": "code",
   "execution_count": 2,
   "metadata": {},
   "outputs": [],
   "source": [
    "logger = logging.getLogger(\"MovieLens25M ETL\")"
   ]
  },
  {
   "cell_type": "code",
   "execution_count": 3,
   "metadata": {},
   "outputs": [],
   "source": [
    "# Configuration\n",
    "NAME = 'movielens25m'\n",
    "DESCRIPTION = 'MovieLens 25M Dataset'\n",
    "WEBSITE = \"https://grouplens.org/datasets/movielens/\"\n",
    "URLS = \"https://files.grouplens.org/datasets/movielens/ml-25m.zip\"\n",
    "DOWNLOAD_DESTINATION = \"data/ext/\"\n",
    "EXTRACT_DESTINATION = \"data/raw/\"\n",
    "DOWNLOAD_FILEPATH = os.path.join(DOWNLOAD_DESTINATION, \"ml-25m.zip\")\n",
    "# Ratings Filepaths\n",
    "RATINGS_RAW_FILEPATH = 'data/raw/ml-25m/ratings.csv'\n",
    "RATINGS_FULL_FILEPATH = 'data/raw/ratings.pkl'\n",
    "TRAIN_FILEPATH = \"data/input/train.pkl\"\n",
    "TEST_FILEPATH = \"data/input/test.pkl\"\n",
    "# directories\n",
    "INPUT_DIR = \"data/input/\"\n"
   ]
  },
  {
   "attachments": {},
   "cell_type": "markdown",
   "metadata": {},
   "source": [
    "## Download, Extract and Pickle Dataset\n",
    "Download the data from the grouplens site into the external data directory and convert to pickle format for faster io. "
   ]
  },
  {
   "cell_type": "code",
   "execution_count": 5,
   "metadata": {},
   "outputs": [
    {
     "name": "stderr",
     "output_type": "stream",
     "text": [
      "100%|██████████| 1/1 [00:00<00:00, 3758.34it/s]\n"
     ]
    }
   ],
   "source": [
    "# Download\n",
    "source = WebDataSource(name=NAME, description=DESCRIPTION, website=WEBSITE, urls=URLS)\n",
    "source.download(destination=DOWNLOAD_DESTINATION, force=False)\n",
    "assert os.path.exists(DOWNLOAD_FILEPATH)\n",
    "logger.info(\"Download Complete\")\n",
    "\n",
    "# Extract\n",
    "if not os.path.exists(RATINGS_RAW_FILEPATH):\n",
    "    extractzip(source=DOWNLOAD_FILEPATH, destination=EXTRACT_DESTINATION)\n",
    "assert os.path.exists(RATINGS_RAW_FILEPATH)    \n",
    "logger.info(\"Extract Complete\")\n",
    "\n",
    "# Convert Data to Pickle Format\n",
    "if not os.path.exists(RATINGS_FULL_FILEPATH):\n",
    "    ratings = IOService.read(RATINGS_RAW_FILEPATH)\n",
    "    IOService.write(filepath=RATINGS_FULL_FILEPATH, data=ratings)    \n",
    "assert os.path.exists(RATINGS_FULL_FILEPATH)\n",
    "logger.info(\"Conversion Complete\")"
   ]
  },
  {
   "attachments": {},
   "cell_type": "markdown",
   "metadata": {},
   "source": [
    "## Full Dataset Summary"
   ]
  },
  {
   "cell_type": "code",
   "execution_count": 6,
   "metadata": {},
   "outputs": [
    {
     "data": {
      "text/html": [
       "<h3>Full Dataset Summary</h3>"
      ],
      "text/plain": [
       "<IPython.core.display.HTML object>"
      ]
     },
     "metadata": {},
     "output_type": "display_data"
    },
    {
     "name": "stdout",
     "output_type": "stream",
     "text": [
      "                                         Count\n",
      "Size                            800,003,168.00\n",
      "Rows                             25,000,095.00\n",
      "Columns                                   4.00\n",
      "Users                               162,541.00\n",
      "Movies                               59,047.00\n",
      "Utility Matrix Size             100,000,380.00\n",
      "Utility Matrix Memory Size (Mb)          95.37\n",
      "Utility Matrix Sparsity                   0.25\n",
      "Maximum Ratings per User             32,202.00\n",
      "Average Ratings per User                153.81\n",
      "Median Ratings per User                  71.00\n",
      "Minimum Ratings per User                 20.00\n",
      "Maximum Ratings per Movie            81,491.00\n",
      "Average Ratings per Movie               423.39\n",
      "Median Ratings per Movie                  6.00\n",
      "Minimum Ratings per Movie                 1.00\n"
     ]
    }
   ],
   "source": [
    "display(HTML('<h3>Full Dataset Summary</h3>'))\n",
    "ratings = RatingsDataset(filepath=RATINGS_FULL_FILEPATH)\n",
    "_ = ratings.summarize()"
   ]
  },
  {
   "attachments": {},
   "cell_type": "markdown",
   "metadata": {},
   "source": [
    "## Create Training and Test Sets\n",
    "The data will be split using a temporal global strategy, whereby the first 80% of the ratings by timestamp will be allocated for training, the rest for test"
   ]
  },
  {
   "cell_type": "code",
   "execution_count": 7,
   "metadata": {},
   "outputs": [],
   "source": [
    "ratings = RatingsDataset(filepath=RATINGS_FULL_FILEPATH)\n",
    "if not os.path.exists(TRAIN_FILEPATH) or os.path.exists(TEST_FILEPATH):    \n",
    "    ratings.split(train_filepath=TRAIN_FILEPATH, test_filepath=TEST_FILEPATH, train_prop=0.8)\n",
    "assert os.path.exists(TRAIN_FILEPATH)\n",
    "assert os.path.exists(TEST_FILEPATH)\n",
    "logger.info(\"Train/Test Split Complete\")"
   ]
  },
  {
   "attachments": {},
   "cell_type": "markdown",
   "metadata": {},
   "source": [
    "## Training Set Summary"
   ]
  },
  {
   "cell_type": "code",
   "execution_count": 8,
   "metadata": {},
   "outputs": [
    {
     "data": {
      "text/html": [
       "<h3>Train Dataset Summary</h3>"
      ],
      "text/plain": [
       "<IPython.core.display.HTML object>"
      ]
     },
     "metadata": {},
     "output_type": "display_data"
    },
    {
     "name": "stdout",
     "output_type": "stream",
     "text": [
      "                                         Count\n",
      "Size                            800,003,040.00\n",
      "Rows                             20,000,076.00\n",
      "Columns                                   4.00\n",
      "Users                               137,883.00\n",
      "Movies                               34,461.00\n",
      "Utility Matrix Size              80,000,304.00\n",
      "Utility Matrix Memory Size (Mb)          76.29\n",
      "Utility Matrix Sparsity                   0.25\n",
      "Maximum Ratings per User             12,097.00\n",
      "Average Ratings per User                145.05\n",
      "Median Ratings per User                  68.00\n",
      "Minimum Ratings per User                  1.00\n",
      "Maximum Ratings per Movie            67,782.00\n",
      "Average Ratings per Movie               580.37\n",
      "Median Ratings per Movie                  9.00\n",
      "Minimum Ratings per Movie                 1.00\n"
     ]
    }
   ],
   "source": [
    "display(HTML('<h3>Train Dataset Summary</h3>'))\n",
    "ratings = RatingsDataset(filepath=TRAIN_FILEPATH)\n",
    "_ = ratings.summarize()"
   ]
  },
  {
   "attachments": {},
   "cell_type": "markdown",
   "metadata": {},
   "source": [
    "## Test Set Summary"
   ]
  },
  {
   "cell_type": "code",
   "execution_count": 9,
   "metadata": {},
   "outputs": [
    {
     "data": {
      "text/html": [
       "<h3>Test Dataset Summary</h3>"
      ],
      "text/plain": [
       "<IPython.core.display.HTML object>"
      ]
     },
     "metadata": {},
     "output_type": "display_data"
    },
    {
     "name": "stdout",
     "output_type": "stream",
     "text": [
      "                                         Count\n",
      "Size                            200,000,760.00\n",
      "Rows                              5,000,019.00\n",
      "Columns                                   4.00\n",
      "Users                                31,059.00\n",
      "Movies                               55,199.00\n",
      "Utility Matrix Size              20,000,076.00\n",
      "Utility Matrix Memory Size (Mb)          19.07\n",
      "Utility Matrix Sparsity                   0.25\n",
      "Maximum Ratings per User             20,105.00\n",
      "Average Ratings per User                160.98\n",
      "Median Ratings per User                  77.00\n",
      "Minimum Ratings per User                  1.00\n",
      "Maximum Ratings per Movie            16,800.00\n",
      "Average Ratings per Movie                90.58\n",
      "Median Ratings per Movie                  4.00\n",
      "Minimum Ratings per Movie                 1.00\n"
     ]
    }
   ],
   "source": [
    "display(HTML('<h3>Test Dataset Summary</h3>'))\n",
    "ratings = RatingsDataset(filepath=TEST_FILEPATH)\n",
    "_ = ratings.summarize()"
   ]
  },
  {
   "attachments": {},
   "cell_type": "markdown",
   "metadata": {},
   "source": [
    "## Generate Development Sets"
   ]
  },
  {
   "cell_type": "code",
   "execution_count": 4,
   "metadata": {},
   "outputs": [
    {
     "name": "stdout",
     "output_type": "stream",
     "text": [
      "{1: {'filepath': 'data/dev/ratings_1_pct.pkl',\n",
      "     'frac': 0.01,\n",
      "     'name': 'ratings_1_pct.pkl',\n",
      "     'title': 'Ratings 1 %'},\n",
      " 10: {'filepath': 'data/dev/ratings_10_pct.pkl',\n",
      "      'frac': 0.1,\n",
      "      'name': 'ratings_10_pct.pkl',\n",
      "      'title': 'Ratings 10 %'},\n",
      " 50: {'filepath': 'data/dev/ratings_50_pct.pkl',\n",
      "      'frac': 0.5,\n",
      "      'name': 'ratings_50_pct.pkl',\n",
      "      'title': 'Ratings 50 %'}}\n"
     ]
    }
   ],
   "source": [
    "dev_sets = {}\n",
    "fracs = [0.5, 0.1, 0.01]\n",
    "pcts = [50,10,1]\n",
    "for pct, frac in zip(pcts, fracs):\n",
    "    filename = 'ratings_' + str(pct) + '_pct.pkl'\n",
    "    d = {'name': os.path.basename(filename),\n",
    "         'title': 'Ratings ' + str(pct) + ' %',\n",
    "         'frac': frac,\n",
    "         'filepath': os.path.join('data/dev/',filename),\n",
    "         }\n",
    "    dev_sets[pct] = d\n",
    "pprint(dev_sets)\n"
   ]
  },
  {
   "cell_type": "code",
   "execution_count": 10,
   "metadata": {},
   "outputs": [],
   "source": [
    "def create_dev_sets(dev_sets):\n",
    "    for pct, dev in dev_sets.items():        \n",
    "        if not os.path.exists(dev['filepath']):\n",
    "            _ = ratings.sample(frac=dev['frac'], filepath=dev['filepath'])        \n",
    "        assert os.path.exists(dev['filepath'])\n",
    "create_dev_sets(dev_sets)\n",
    "logger.info(\"Development Sets Created\")"
   ]
  },
  {
   "attachments": {},
   "cell_type": "markdown",
   "metadata": {},
   "source": [
    "## Development Sets Summary"
   ]
  },
  {
   "cell_type": "code",
   "execution_count": 12,
   "metadata": {},
   "outputs": [
    {
     "name": "stdout",
     "output_type": "stream",
     "text": [
      "Ratings 50 %\n",
      "                                        Count\n",
      "Size                            80,000,448.00\n",
      "Rows                             2,500,010.00\n",
      "Columns                                  4.00\n",
      "Users                               30,856.00\n",
      "Movies                              45,994.00\n",
      "Utility Matrix Size             10,000,040.00\n",
      "Utility Matrix Memory Size (Mb)          9.54\n",
      "Utility Matrix Sparsity                  0.25\n",
      "Maximum Ratings per User             9,966.00\n",
      "Average Ratings per User                81.02\n",
      "Median Ratings per User                 39.00\n",
      "Minimum Ratings per User                 1.00\n",
      "Maximum Ratings per Movie            8,294.00\n",
      "Average Ratings per Movie               54.36\n",
      "Median Ratings per Movie                 3.00\n",
      "Minimum Ratings per Movie                1.00\n",
      "Ratings 10 %\n",
      "                                        Count\n",
      "Size                            16,000,192.00\n",
      "Rows                               500,002.00\n",
      "Columns                                  4.00\n",
      "Users                               29,632.00\n",
      "Movies                              25,388.00\n",
      "Utility Matrix Size              2,000,008.00\n",
      "Utility Matrix Memory Size (Mb)          1.91\n",
      "Utility Matrix Sparsity                  0.25\n",
      "Maximum Ratings per User             1,942.00\n",
      "Average Ratings per User                16.87\n",
      "Median Ratings per User                  8.00\n",
      "Minimum Ratings per User                 1.00\n",
      "Maximum Ratings per Movie            1,689.00\n",
      "Average Ratings per Movie               19.69\n",
      "Median Ratings per Movie                 2.00\n",
      "Minimum Ratings per Movie                1.00\n",
      "Ratings 1 %\n",
      "                                       Count\n",
      "Size                            1,600,128.00\n",
      "Rows                               50,000.00\n",
      "Columns                                 4.00\n",
      "Users                              17,438.00\n",
      "Movies                              8,643.00\n",
      "Utility Matrix Size               200,000.00\n",
      "Utility Matrix Memory Size (Mb)         0.19\n",
      "Utility Matrix Sparsity                 0.25\n",
      "Maximum Ratings per User              220.00\n",
      "Average Ratings per User                2.87\n",
      "Median Ratings per User                 2.00\n",
      "Minimum Ratings per User                1.00\n",
      "Maximum Ratings per Movie             197.00\n",
      "Average Ratings per Movie               5.79\n",
      "Median Ratings per Movie                1.00\n",
      "Minimum Ratings per Movie               1.00\n"
     ]
    }
   ],
   "source": [
    "def summarize(dev_sets):\n",
    "    for pct, dev in dev_sets.items():\n",
    "        print(f\"{dev['title']}\")        \n",
    "        ratings = RatingsDataset(dev['filepath'])\n",
    "        _ = ratings.summarize()\n",
    "summarize(dev_sets)"
   ]
  }
 ],
 "metadata": {
  "kernelspec": {
   "display_name": "recsys",
   "language": "python",
   "name": "python3"
  },
  "language_info": {
   "codemirror_mode": {
    "name": "ipython",
    "version": 3
   },
   "file_extension": ".py",
   "mimetype": "text/x-python",
   "name": "python",
   "nbconvert_exporter": "python",
   "pygments_lexer": "ipython3",
   "version": "3.10.6"
  },
  "orig_nbformat": 4,
  "vscode": {
   "interpreter": {
    "hash": "b95ac036dd134cdbc0e1cfc871143569fe44ed496162bf6c0ba7d4f738a04ef7"
   }
  }
 },
 "nbformat": 4,
 "nbformat_minor": 2
}
