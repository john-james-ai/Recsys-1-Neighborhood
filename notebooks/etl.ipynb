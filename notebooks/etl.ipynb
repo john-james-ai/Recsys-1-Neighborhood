{
 "cells": [
  {
   "attachments": {},
   "cell_type": "markdown",
   "metadata": {},
   "source": [
    "# MovieLens 25M Dataset ETL\n",
    "MovieLens 25M dataset contains some 62,000 movies and 162,000 users. This ETL will produce several training and test sets of varying proportions of the original data set."
   ]
  },
  {
   "cell_type": "code",
   "execution_count": 1,
   "metadata": {},
   "outputs": [],
   "source": [
    "import os\n",
    "import logging\n",
    "from recsys.data.source import WebDataSource\n",
    "from recsys.io.zip import extractzip\n",
    "from recsys.io.file import IOService\n",
    "from recsys.data.rating import RatingsDataset"
   ]
  },
  {
   "cell_type": "code",
   "execution_count": 2,
   "metadata": {},
   "outputs": [],
   "source": [
    "logger = logging.getLogger(\"MovieLens25M ETL\")"
   ]
  },
  {
   "cell_type": "code",
   "execution_count": 3,
   "metadata": {},
   "outputs": [],
   "source": [
    "# Configuration\n",
    "NAME = 'movielens25m'\n",
    "DESCRIPTION = 'MovieLens 25M Dataset'\n",
    "WEBSITE = \"https://grouplens.org/datasets/movielens/\"\n",
    "URLS = \"https://files.grouplens.org/datasets/movielens/ml-25m.zip\"\n",
    "DOWNLOAD_DESTINATION = \"data/ext/\"\n",
    "EXTRACT_DESTINATION = \"data/raw/\"\n",
    "DOWNLOAD_FILEPATH = os.path.join(DOWNLOAD_DESTINATION, \"ml-25m.zip\")\n",
    "# Ratings Filepaths\n",
    "RATINGS_RAW_FILEPATH = 'data/raw/ml-25m/ratings.csv'\n",
    "RATINGS_FULL_FILEPATH = 'data/raw/ratings.pkl'\n",
    "TRAIN_FILEPATH = \"data/input/train.pkl\"\n",
    "TEST_FILEPATH = \"data/input/test.pkl\"\n",
    "RATINGS_50_FILEPATH = \"data/input/ratings_50.pkl\"\n",
    "RATINGS_10_FILEPATH = \"data/input/ratings_10.pkl\"\n",
    "RATINGS_1_FILEPATH = \"data/input/ratings_1.pkl\"\n"
   ]
  },
  {
   "attachments": {},
   "cell_type": "markdown",
   "metadata": {},
   "source": [
    "## Download, Extract and Pickle Dataset\n",
    "Download the data from the grouplens site into the external data directory and convert to pickle format for faster io. "
   ]
  },
  {
   "cell_type": "code",
   "execution_count": 4,
   "metadata": {},
   "outputs": [
    {
     "name": "stderr",
     "output_type": "stream",
     "text": [
      "100%|██████████| 1/1 [00:00<00:00, 5833.52it/s]\n"
     ]
    }
   ],
   "source": [
    "# Download\n",
    "source = WebDataSource(name=NAME, description=DESCRIPTION, website=WEBSITE, urls=URLS)\n",
    "source.download(destination=DOWNLOAD_DESTINATION, force=False)\n",
    "assert os.path.exists(DOWNLOAD_FILEPATH)\n",
    "logger.info(\"Download Complete\")\n",
    "\n",
    "# Extract\n",
    "if not os.path.exists(RATINGS_RAW_FILEPATH):\n",
    "    extractzip(source=DOWNLOAD_FILEPATH, destination=EXTRACT_DESTINATION)\n",
    "assert os.path.exists(RATINGS_RAW_FILEPATH)    \n",
    "logger.info(\"Extract Complete\")\n",
    "\n",
    "# Convert Data to Pickle Format\n",
    "if not os.path.exists(RATINGS_FULL_FILEPATH):\n",
    "    ratings = IOService.read(RATINGS_RAW_FILEPATH)\n",
    "    IOService.write(filepath=RATINGS_FULL_FILEPATH, data=ratings)    \n",
    "assert os.path.exists(RATINGS_FULL_FILEPATH)\n",
    "logger.info(\"Conversion Complete\")"
   ]
  },
  {
   "attachments": {},
   "cell_type": "markdown",
   "metadata": {},
   "source": [
    "## Create Training Sets\n",
    "The data will be split using a temporal global strategy, whereby the first 80% of the ratings by timestamp will be allocated for training, the rest for test"
   ]
  },
  {
   "cell_type": "code",
   "execution_count": 5,
   "metadata": {},
   "outputs": [],
   "source": [
    "ratings = RatingsDataset(filepath=RATINGS_FULL_FILEPATH)\n",
    "if not os.path.exists(TRAIN_FILEPATH) or os.path.exists(TEST_FILEPATH):    \n",
    "    ratings.split(train_filepath=TRAIN_FILEPATH, test_filepath=TEST_FILEPATH, train_prop=0.8)\n",
    "assert os.path.exists(TRAIN_FILEPATH)\n",
    "assert os.path.exists(TEST_FILEPATH)\n",
    "logger.info(\"Train/Test Split Complete\")"
   ]
  },
  {
   "attachments": {},
   "cell_type": "markdown",
   "metadata": {},
   "source": [
    "## Create Development Sets"
   ]
  },
  {
   "cell_type": "code",
   "execution_count": 6,
   "metadata": {},
   "outputs": [
    {
     "data": {
      "text/html": [
       "<div>\n",
       "<style scoped>\n",
       "    .dataframe tbody tr th:only-of-type {\n",
       "        vertical-align: middle;\n",
       "    }\n",
       "\n",
       "    .dataframe tbody tr th {\n",
       "        vertical-align: top;\n",
       "    }\n",
       "\n",
       "    .dataframe thead th {\n",
       "        text-align: right;\n",
       "    }\n",
       "</style>\n",
       "<table border=\"1\" class=\"dataframe\">\n",
       "  <thead>\n",
       "    <tr style=\"text-align: right;\">\n",
       "      <th></th>\n",
       "      <th>userId</th>\n",
       "      <th>movieId</th>\n",
       "      <th>rating</th>\n",
       "      <th>timestamp</th>\n",
       "    </tr>\n",
       "  </thead>\n",
       "  <tbody>\n",
       "    <tr>\n",
       "      <th>0</th>\n",
       "      <td>53343</td>\n",
       "      <td>223</td>\n",
       "      <td>4.00</td>\n",
       "      <td>894421847</td>\n",
       "    </tr>\n",
       "    <tr>\n",
       "      <th>1</th>\n",
       "      <td>60121</td>\n",
       "      <td>3462</td>\n",
       "      <td>4.00</td>\n",
       "      <td>1449160376</td>\n",
       "    </tr>\n",
       "    <tr>\n",
       "      <th>2</th>\n",
       "      <td>23458</td>\n",
       "      <td>2324</td>\n",
       "      <td>5.00</td>\n",
       "      <td>1494326564</td>\n",
       "    </tr>\n",
       "    <tr>\n",
       "      <th>3</th>\n",
       "      <td>72162</td>\n",
       "      <td>6410</td>\n",
       "      <td>3.00</td>\n",
       "      <td>1054349476</td>\n",
       "    </tr>\n",
       "    <tr>\n",
       "      <th>4</th>\n",
       "      <td>115636</td>\n",
       "      <td>521</td>\n",
       "      <td>5.00</td>\n",
       "      <td>841934409</td>\n",
       "    </tr>\n",
       "    <tr>\n",
       "      <th>...</th>\n",
       "      <td>...</td>\n",
       "      <td>...</td>\n",
       "      <td>...</td>\n",
       "      <td>...</td>\n",
       "    </tr>\n",
       "    <tr>\n",
       "      <th>12500043</th>\n",
       "      <td>2154</td>\n",
       "      <td>48516</td>\n",
       "      <td>2.50</td>\n",
       "      <td>1213919232</td>\n",
       "    </tr>\n",
       "    <tr>\n",
       "      <th>12500044</th>\n",
       "      <td>151394</td>\n",
       "      <td>2717</td>\n",
       "      <td>2.50</td>\n",
       "      <td>1248386056</td>\n",
       "    </tr>\n",
       "    <tr>\n",
       "      <th>12500045</th>\n",
       "      <td>112231</td>\n",
       "      <td>454</td>\n",
       "      <td>3.00</td>\n",
       "      <td>841600068</td>\n",
       "    </tr>\n",
       "    <tr>\n",
       "      <th>12500046</th>\n",
       "      <td>45581</td>\n",
       "      <td>1283</td>\n",
       "      <td>4.00</td>\n",
       "      <td>1122763211</td>\n",
       "    </tr>\n",
       "    <tr>\n",
       "      <th>12500047</th>\n",
       "      <td>53817</td>\n",
       "      <td>122886</td>\n",
       "      <td>3.00</td>\n",
       "      <td>1494842776</td>\n",
       "    </tr>\n",
       "  </tbody>\n",
       "</table>\n",
       "<p>12500048 rows × 4 columns</p>\n",
       "</div>"
      ],
      "text/plain": [
       "          userId  movieId  rating   timestamp\n",
       "0          53343      223    4.00   894421847\n",
       "1          60121     3462    4.00  1449160376\n",
       "2          23458     2324    5.00  1494326564\n",
       "3          72162     6410    3.00  1054349476\n",
       "4         115636      521    5.00   841934409\n",
       "...          ...      ...     ...         ...\n",
       "12500043    2154    48516    2.50  1213919232\n",
       "12500044  151394     2717    2.50  1248386056\n",
       "12500045  112231      454    3.00   841600068\n",
       "12500046   45581     1283    4.00  1122763211\n",
       "12500047   53817   122886    3.00  1494842776\n",
       "\n",
       "[12500048 rows x 4 columns]"
      ]
     },
     "execution_count": 6,
     "metadata": {},
     "output_type": "execute_result"
    },
    {
     "data": {
      "text/html": [
       "<div>\n",
       "<style scoped>\n",
       "    .dataframe tbody tr th:only-of-type {\n",
       "        vertical-align: middle;\n",
       "    }\n",
       "\n",
       "    .dataframe tbody tr th {\n",
       "        vertical-align: top;\n",
       "    }\n",
       "\n",
       "    .dataframe thead th {\n",
       "        text-align: right;\n",
       "    }\n",
       "</style>\n",
       "<table border=\"1\" class=\"dataframe\">\n",
       "  <thead>\n",
       "    <tr style=\"text-align: right;\">\n",
       "      <th></th>\n",
       "      <th>userId</th>\n",
       "      <th>movieId</th>\n",
       "      <th>rating</th>\n",
       "      <th>timestamp</th>\n",
       "    </tr>\n",
       "  </thead>\n",
       "  <tbody>\n",
       "    <tr>\n",
       "      <th>0</th>\n",
       "      <td>33312</td>\n",
       "      <td>3983</td>\n",
       "      <td>4.00</td>\n",
       "      <td>979867353</td>\n",
       "    </tr>\n",
       "    <tr>\n",
       "      <th>1</th>\n",
       "      <td>12708</td>\n",
       "      <td>1</td>\n",
       "      <td>5.00</td>\n",
       "      <td>833979506</td>\n",
       "    </tr>\n",
       "    <tr>\n",
       "      <th>2</th>\n",
       "      <td>60455</td>\n",
       "      <td>2</td>\n",
       "      <td>4.00</td>\n",
       "      <td>844449688</td>\n",
       "    </tr>\n",
       "    <tr>\n",
       "      <th>3</th>\n",
       "      <td>141430</td>\n",
       "      <td>81834</td>\n",
       "      <td>4.00</td>\n",
       "      <td>1437443097</td>\n",
       "    </tr>\n",
       "    <tr>\n",
       "      <th>4</th>\n",
       "      <td>9826</td>\n",
       "      <td>32</td>\n",
       "      <td>3.00</td>\n",
       "      <td>956926374</td>\n",
       "    </tr>\n",
       "    <tr>\n",
       "      <th>...</th>\n",
       "      <td>...</td>\n",
       "      <td>...</td>\n",
       "      <td>...</td>\n",
       "      <td>...</td>\n",
       "    </tr>\n",
       "    <tr>\n",
       "      <th>2500005</th>\n",
       "      <td>38041</td>\n",
       "      <td>42725</td>\n",
       "      <td>5.00</td>\n",
       "      <td>1209536127</td>\n",
       "    </tr>\n",
       "    <tr>\n",
       "      <th>2500006</th>\n",
       "      <td>86467</td>\n",
       "      <td>1541</td>\n",
       "      <td>3.00</td>\n",
       "      <td>909183904</td>\n",
       "    </tr>\n",
       "    <tr>\n",
       "      <th>2500007</th>\n",
       "      <td>95032</td>\n",
       "      <td>147</td>\n",
       "      <td>2.50</td>\n",
       "      <td>1061787535</td>\n",
       "    </tr>\n",
       "    <tr>\n",
       "      <th>2500008</th>\n",
       "      <td>80307</td>\n",
       "      <td>1641</td>\n",
       "      <td>4.00</td>\n",
       "      <td>943961884</td>\n",
       "    </tr>\n",
       "    <tr>\n",
       "      <th>2500009</th>\n",
       "      <td>50174</td>\n",
       "      <td>53127</td>\n",
       "      <td>3.50</td>\n",
       "      <td>1574285836</td>\n",
       "    </tr>\n",
       "  </tbody>\n",
       "</table>\n",
       "<p>2500010 rows × 4 columns</p>\n",
       "</div>"
      ],
      "text/plain": [
       "         userId  movieId  rating   timestamp\n",
       "0         33312     3983    4.00   979867353\n",
       "1         12708        1    5.00   833979506\n",
       "2         60455        2    4.00   844449688\n",
       "3        141430    81834    4.00  1437443097\n",
       "4          9826       32    3.00   956926374\n",
       "...         ...      ...     ...         ...\n",
       "2500005   38041    42725    5.00  1209536127\n",
       "2500006   86467     1541    3.00   909183904\n",
       "2500007   95032      147    2.50  1061787535\n",
       "2500008   80307     1641    4.00   943961884\n",
       "2500009   50174    53127    3.50  1574285836\n",
       "\n",
       "[2500010 rows x 4 columns]"
      ]
     },
     "execution_count": 6,
     "metadata": {},
     "output_type": "execute_result"
    },
    {
     "data": {
      "text/html": [
       "<div>\n",
       "<style scoped>\n",
       "    .dataframe tbody tr th:only-of-type {\n",
       "        vertical-align: middle;\n",
       "    }\n",
       "\n",
       "    .dataframe tbody tr th {\n",
       "        vertical-align: top;\n",
       "    }\n",
       "\n",
       "    .dataframe thead th {\n",
       "        text-align: right;\n",
       "    }\n",
       "</style>\n",
       "<table border=\"1\" class=\"dataframe\">\n",
       "  <thead>\n",
       "    <tr style=\"text-align: right;\">\n",
       "      <th></th>\n",
       "      <th>userId</th>\n",
       "      <th>movieId</th>\n",
       "      <th>rating</th>\n",
       "      <th>timestamp</th>\n",
       "    </tr>\n",
       "  </thead>\n",
       "  <tbody>\n",
       "    <tr>\n",
       "      <th>0</th>\n",
       "      <td>139709</td>\n",
       "      <td>11</td>\n",
       "      <td>1.00</td>\n",
       "      <td>1111482534</td>\n",
       "    </tr>\n",
       "    <tr>\n",
       "      <th>1</th>\n",
       "      <td>57115</td>\n",
       "      <td>2944</td>\n",
       "      <td>4.00</td>\n",
       "      <td>974758173</td>\n",
       "    </tr>\n",
       "    <tr>\n",
       "      <th>2</th>\n",
       "      <td>144938</td>\n",
       "      <td>1965</td>\n",
       "      <td>3.00</td>\n",
       "      <td>1047410572</td>\n",
       "    </tr>\n",
       "    <tr>\n",
       "      <th>3</th>\n",
       "      <td>30311</td>\n",
       "      <td>512</td>\n",
       "      <td>4.00</td>\n",
       "      <td>918656810</td>\n",
       "    </tr>\n",
       "    <tr>\n",
       "      <th>4</th>\n",
       "      <td>48881</td>\n",
       "      <td>2121</td>\n",
       "      <td>2.50</td>\n",
       "      <td>1111817359</td>\n",
       "    </tr>\n",
       "    <tr>\n",
       "      <th>...</th>\n",
       "      <td>...</td>\n",
       "      <td>...</td>\n",
       "      <td>...</td>\n",
       "      <td>...</td>\n",
       "    </tr>\n",
       "    <tr>\n",
       "      <th>249996</th>\n",
       "      <td>125667</td>\n",
       "      <td>1</td>\n",
       "      <td>5.00</td>\n",
       "      <td>1140146498</td>\n",
       "    </tr>\n",
       "    <tr>\n",
       "      <th>249997</th>\n",
       "      <td>84056</td>\n",
       "      <td>3409</td>\n",
       "      <td>3.50</td>\n",
       "      <td>1461061376</td>\n",
       "    </tr>\n",
       "    <tr>\n",
       "      <th>249998</th>\n",
       "      <td>125871</td>\n",
       "      <td>513</td>\n",
       "      <td>2.00</td>\n",
       "      <td>976137976</td>\n",
       "    </tr>\n",
       "    <tr>\n",
       "      <th>249999</th>\n",
       "      <td>146999</td>\n",
       "      <td>2616</td>\n",
       "      <td>4.00</td>\n",
       "      <td>997508023</td>\n",
       "    </tr>\n",
       "    <tr>\n",
       "      <th>250000</th>\n",
       "      <td>49359</td>\n",
       "      <td>5171</td>\n",
       "      <td>3.00</td>\n",
       "      <td>1016452709</td>\n",
       "    </tr>\n",
       "  </tbody>\n",
       "</table>\n",
       "<p>250001 rows × 4 columns</p>\n",
       "</div>"
      ],
      "text/plain": [
       "        userId  movieId  rating   timestamp\n",
       "0       139709       11    1.00  1111482534\n",
       "1        57115     2944    4.00   974758173\n",
       "2       144938     1965    3.00  1047410572\n",
       "3        30311      512    4.00   918656810\n",
       "4        48881     2121    2.50  1111817359\n",
       "...        ...      ...     ...         ...\n",
       "249996  125667        1    5.00  1140146498\n",
       "249997   84056     3409    3.50  1461061376\n",
       "249998  125871      513    2.00   976137976\n",
       "249999  146999     2616    4.00   997508023\n",
       "250000   49359     5171    3.00  1016452709\n",
       "\n",
       "[250001 rows x 4 columns]"
      ]
     },
     "execution_count": 6,
     "metadata": {},
     "output_type": "execute_result"
    }
   ],
   "source": [
    "if not os.path.exists(RATINGS_50_FILEPATH):\n",
    "    _ = ratings.sample(frac=0.5, filepath=RATINGS_50_FILEPATH)\n",
    "if not os.path.exists(RATINGS_10_FILEPATH):\n",
    "    _ = ratings.sample(frac=0.1, filepath=RATINGS_10_FILEPATH)\n",
    "if not os.path.exists(RATINGS_1_FILEPATH):    \n",
    "    _ = ratings.sample(frac=0.01, filepath=RATINGS_1_FILEPATH)\n",
    "assert os.path.exists(RATINGS_50_FILEPATH)\n",
    "assert os.path.exists(RATINGS_10_FILEPATH)\n",
    "assert os.path.exists(RATINGS_1_FILEPATH)\n",
    "logger.info(\"Development Sets Created\")"
   ]
  },
  {
   "attachments": {},
   "cell_type": "markdown",
   "metadata": {},
   "source": [
    "## Dataset Summmary"
   ]
  },
  {
   "cell_type": "code",
   "execution_count": 13,
   "metadata": {},
   "outputs": [
    {
     "data": {
      "text/html": [
       "<h3>Full Dataset Summary</h3>"
      ],
      "text/plain": [
       "<IPython.core.display.HTML object>"
      ]
     },
     "metadata": {},
     "output_type": "display_data"
    },
    {
     "name": "stdout",
     "output_type": "stream",
     "text": [
      "                                   Count\n",
      "Size                      800,003,168.00\n",
      "Rows                       25,000,095.00\n",
      "Columns                             4.00\n",
      "Users                         162,541.00\n",
      "Movies                         59,047.00\n",
      "Maximum Ratings per User       32,202.00\n",
      "Average Ratings per User          153.81\n",
      "Median Ratings per User            71.00\n",
      "Minimum Ratings per User           20.00\n",
      "Maximum Ratings per Movie      81,491.00\n",
      "Average Ratings per Movie         423.39\n",
      "Median Ratings per Movie            6.00\n",
      "Minimum Ratings per Movie           1.00\n"
     ]
    }
   ],
   "source": [
    "display(HTML('<h3>Full Dataset Summary</h3>'))\n",
    "ratings = RatingsDataset(filepath=RATINGS_FULL_FILEPATH)\n",
    "_ = ratings.summarize()"
   ]
  },
  {
   "cell_type": "code",
   "execution_count": 14,
   "metadata": {},
   "outputs": [
    {
     "data": {
      "text/html": [
       "<h3>Train Dataset Summary</h3>"
      ],
      "text/plain": [
       "<IPython.core.display.HTML object>"
      ]
     },
     "metadata": {},
     "output_type": "display_data"
    },
    {
     "name": "stdout",
     "output_type": "stream",
     "text": [
      "                                   Count\n",
      "Size                      800,003,040.00\n",
      "Rows                       20,000,076.00\n",
      "Columns                             4.00\n",
      "Users                         137,883.00\n",
      "Movies                         34,461.00\n",
      "Maximum Ratings per User       12,097.00\n",
      "Average Ratings per User          145.05\n",
      "Median Ratings per User            68.00\n",
      "Minimum Ratings per User            1.00\n",
      "Maximum Ratings per Movie      67,782.00\n",
      "Average Ratings per Movie         580.37\n",
      "Median Ratings per Movie            9.00\n",
      "Minimum Ratings per Movie           1.00\n"
     ]
    }
   ],
   "source": [
    "display(HTML('<h3>Train Dataset Summary</h3>'))\n",
    "ratings = RatingsDataset(filepath=TRAIN_FILEPATH)\n",
    "_ = ratings.summarize()"
   ]
  },
  {
   "cell_type": "code",
   "execution_count": 15,
   "metadata": {},
   "outputs": [
    {
     "data": {
      "text/html": [
       "<h3>Test Dataset Summary</h3>"
      ],
      "text/plain": [
       "<IPython.core.display.HTML object>"
      ]
     },
     "metadata": {},
     "output_type": "display_data"
    },
    {
     "name": "stdout",
     "output_type": "stream",
     "text": [
      "                                   Count\n",
      "Size                      200,000,760.00\n",
      "Rows                        5,000,019.00\n",
      "Columns                             4.00\n",
      "Users                          31,059.00\n",
      "Movies                         55,199.00\n",
      "Maximum Ratings per User       20,105.00\n",
      "Average Ratings per User          160.98\n",
      "Median Ratings per User            77.00\n",
      "Minimum Ratings per User            1.00\n",
      "Maximum Ratings per Movie      16,800.00\n",
      "Average Ratings per Movie          90.58\n",
      "Median Ratings per Movie            4.00\n",
      "Minimum Ratings per Movie           1.00\n"
     ]
    }
   ],
   "source": [
    "display(HTML('<h3>Test Dataset Summary</h3>'))\n",
    "ratings = RatingsDataset(filepath=TEST_FILEPATH)\n",
    "_ = ratings.summarize()"
   ]
  },
  {
   "cell_type": "code",
   "execution_count": 16,
   "metadata": {},
   "outputs": [
    {
     "data": {
      "text/html": [
       "<h3>Ratings 50 Dataset Summary</h3>"
      ],
      "text/plain": [
       "<IPython.core.display.HTML object>"
      ]
     },
     "metadata": {},
     "output_type": "display_data"
    },
    {
     "name": "stdout",
     "output_type": "stream",
     "text": [
      "                                   Count\n",
      "Size                      400,001,664.00\n",
      "Rows                       12,500,048.00\n",
      "Columns                             4.00\n",
      "Users                         162,541.00\n",
      "Movies                         50,948.00\n",
      "Maximum Ratings per User       16,047.00\n",
      "Average Ratings per User           76.90\n",
      "Median Ratings per User            35.00\n",
      "Minimum Ratings per User            1.00\n",
      "Maximum Ratings per Movie      40,811.00\n",
      "Average Ratings per Movie         245.35\n",
      "Median Ratings per Movie            4.00\n",
      "Minimum Ratings per Movie           1.00\n"
     ]
    }
   ],
   "source": [
    "display(HTML('<h3>Ratings 50 Dataset Summary</h3>'))\n",
    "ratings = RatingsDataset(filepath=RATINGS_50_FILEPATH)\n",
    "_ = ratings.summarize()"
   ]
  },
  {
   "cell_type": "code",
   "execution_count": 17,
   "metadata": {},
   "outputs": [
    {
     "data": {
      "text/html": [
       "<h3>Ratings 10 Dataset Summary</h3>"
      ],
      "text/plain": [
       "<IPython.core.display.HTML object>"
      ]
     },
     "metadata": {},
     "output_type": "display_data"
    },
    {
     "name": "stdout",
     "output_type": "stream",
     "text": [
      "                                  Count\n",
      "Size                      80,000,448.00\n",
      "Rows                       2,500,010.00\n",
      "Columns                            4.00\n",
      "Users                        159,385.00\n",
      "Movies                        31,736.00\n",
      "Maximum Ratings per User       3,196.00\n",
      "Average Ratings per User          15.69\n",
      "Median Ratings per User            7.00\n",
      "Minimum Ratings per User           1.00\n",
      "Maximum Ratings per Movie      8,259.00\n",
      "Average Ratings per Movie         78.78\n",
      "Median Ratings per Movie           3.00\n",
      "Minimum Ratings per Movie          1.00\n"
     ]
    }
   ],
   "source": [
    "display(HTML('<h3>Ratings 10 Dataset Summary</h3>'))\n",
    "ratings = RatingsDataset(filepath=RATINGS_10_FILEPATH)\n",
    "_ = ratings.summarize()"
   ]
  },
  {
   "cell_type": "code",
   "execution_count": 18,
   "metadata": {},
   "outputs": [
    {
     "data": {
      "text/html": [
       "<h3>Ratings 1 Dataset Summary</h3>"
      ],
      "text/plain": [
       "<IPython.core.display.HTML object>"
      ]
     },
     "metadata": {},
     "output_type": "display_data"
    },
    {
     "name": "stdout",
     "output_type": "stream",
     "text": [
      "                                 Count\n",
      "Size                      8,000,160.00\n",
      "Rows                        250,001.00\n",
      "Columns                           4.00\n",
      "Users                        90,105.00\n",
      "Movies                       14,283.00\n",
      "Maximum Ratings per User        316.00\n",
      "Average Ratings per User          2.77\n",
      "Median Ratings per User           2.00\n",
      "Minimum Ratings per User          1.00\n",
      "Maximum Ratings per Movie       841.00\n",
      "Average Ratings per Movie        17.50\n",
      "Median Ratings per Movie          3.00\n",
      "Minimum Ratings per Movie         1.00\n"
     ]
    }
   ],
   "source": [
    "display(HTML('<h3>Ratings 1 Dataset Summary</h3>'))\n",
    "ratings = RatingsDataset(filepath=RATINGS_1_FILEPATH)\n",
    "_ = ratings.summarize()"
   ]
  }
 ],
 "metadata": {
  "kernelspec": {
   "display_name": "recsys",
   "language": "python",
   "name": "python3"
  },
  "language_info": {
   "codemirror_mode": {
    "name": "ipython",
    "version": 3
   },
   "file_extension": ".py",
   "mimetype": "text/x-python",
   "name": "python",
   "nbconvert_exporter": "python",
   "pygments_lexer": "ipython3",
   "version": "3.10.6 | packaged by conda-forge | (main, Aug 22 2022, 20:35:26) [GCC 10.4.0]"
  },
  "orig_nbformat": 4,
  "vscode": {
   "interpreter": {
    "hash": "b95ac036dd134cdbc0e1cfc871143569fe44ed496162bf6c0ba7d4f738a04ef7"
   }
  }
 },
 "nbformat": 4,
 "nbformat_minor": 2
}
