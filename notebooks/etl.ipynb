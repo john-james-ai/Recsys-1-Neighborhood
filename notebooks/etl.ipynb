{
 "cells": [
  {
   "attachments": {},
   "cell_type": "markdown",
   "metadata": {},
   "source": [
    "# MovieLens 25M Dataset ETL\n",
    "MovieLens 25M dataset contains some 62,000 movies and 162,000 users. This ETL will produce several training and test sets of varying proportions of the original data set."
   ]
  },
  {
   "cell_type": "code",
   "execution_count": 1,
   "metadata": {},
   "outputs": [],
   "source": [
    "import os\n",
    "import logging\n",
    "from pprint import pprint\n",
    "\n",
    "from recsys.data.source import WebDataSource\n",
    "from recsys.io.zip import extractzip\n",
    "from recsys.io.file import IOService\n",
    "from recsys.data.rating import RatingsDataset"
   ]
  },
  {
   "cell_type": "code",
   "execution_count": 2,
   "metadata": {},
   "outputs": [],
   "source": [
    "logger = logging.getLogger(\"MovieLens25M ETL\")"
   ]
  },
  {
   "cell_type": "code",
   "execution_count": 3,
   "metadata": {},
   "outputs": [],
   "source": [
    "# Configuration\n",
    "NAME = 'movielens25m'\n",
    "DESCRIPTION = 'MovieLens 25M Dataset'\n",
    "WEBSITE = \"https://grouplens.org/datasets/movielens/\"\n",
    "URLS = \"https://files.grouplens.org/datasets/movielens/ml-25m.zip\"\n",
    "DOWNLOAD_DESTINATION = \"data/ext/\"\n",
    "EXTRACT_DESTINATION = \"data/raw/\"\n",
    "DOWNLOAD_FILEPATH = os.path.join(DOWNLOAD_DESTINATION, \"ml-25m.zip\")\n",
    "# Raw Data Filepath\n",
    "RATINGS_RAW_FILEPATH = \"data/raw/ml-25m/ratings.csv\"\n",
    "RATINGS_PKL_FILEPATH = \"data/raw/ratings.pkl\"\n",
    "# Environemnt Filepaths\n",
    "PROD_RATINGS_FILEPATH = \"data/prod/ratings.pkl\"\n",
    "PROD_TRAIN_FILEPATH = \"data/prod/train.pkl\"\n",
    "PROD_TEST_FILEPATH = \"data/prod/test.pkl\"\n",
    "DEV_RATINGS_FILEPATH = 'data/dev/ratings.pkl'\n",
    "DEV_TRAIN_FILEPATH = \"data/dev/train.pkl\"\n",
    "DEV_TEST_FILEPATH = \"data/dev/test.pkl\"\n",
    "TEST_RATINGS_FILEPATH = 'tests/data/ratings.pkl'\n",
    "TEST_TRAIN_FILEPATH = 'tests/data/train.pkl'\n",
    "TEST_TEST_FILEPATH = 'tests/data/test.pkl'\n",
    "# Subsample fractions\n",
    "PROD_FRAC = 1\n",
    "DEV_FRAC = .01\n",
    "TEST_FRAC = .001\n"
   ]
  },
  {
   "attachments": {},
   "cell_type": "markdown",
   "metadata": {},
   "source": [
    "## Download, Extract and Pickle Dataset\n",
    "Download the data from the grouplens site into the external data directory and convert to pickle format for faster io. "
   ]
  },
  {
   "cell_type": "code",
   "execution_count": 4,
   "metadata": {},
   "outputs": [],
   "source": [
    "# Download\n",
    "if not os.path.exists(DOWNLOAD_DESTINATION):\n",
    "    source = WebDataSource(name=NAME, description=DESCRIPTION, website=WEBSITE, urls=URLS)\n",
    "    source.download(destination=DOWNLOAD_DESTINATION, force=False)\n",
    "assert os.path.exists(DOWNLOAD_FILEPATH)\n",
    "logger.info(\"Download Complete\")\n",
    "\n",
    "# Extract\n",
    "if not os.path.exists(RATINGS_RAW_FILEPATH):\n",
    "    extractzip(source=DOWNLOAD_FILEPATH, destination=EXTRACT_DESTINATION)\n",
    "assert os.path.exists(RATINGS_RAW_FILEPATH)    \n",
    "logger.info(\"Extract Complete\")\n",
    "\n",
    "# Convert Data to Pickle Format\n",
    "if not os.path.exists(RATINGS_PKL_FILEPATH):\n",
    "    ratings = IOService.read(RATINGS_RAW_FILEPATH)\n",
    "    IOService.write(filepath=RATINGS_PKL_FILEPATH, data=ratings)    \n",
    "assert os.path.exists(RATINGS_PKL_FILEPATH)\n",
    "logger.info(\"Conversion Complete\")"
   ]
  },
  {
   "attachments": {},
   "cell_type": "markdown",
   "metadata": {},
   "source": [
    "## Create Dev, Test and Prod Sets"
   ]
  },
  {
   "cell_type": "code",
   "execution_count": null,
   "metadata": {},
   "outputs": [],
   "source": [
    "ratings = IOService.read(filepath=RATINGS_PKL_FILEPATH)"
   ]
  },
  {
   "cell_type": "code",
   "execution_count": null,
   "metadata": {},
   "outputs": [],
   "source": [
    "# Dataset packages\n",
    "dp = {\n",
    "    'prod': {\n",
    "        \"frac\": PROD_FRAC,\n",
    "        \"ratings\": PROD_RATINGS_FILEPATH,\n",
    "    },\n",
    "\n",
    "    'dev': {\n",
    "        \"frac\": DEV_FRAC,\n",
    "        \"ratings\": DEV_RATINGS_FILEPATH,\n",
    "    },\n",
    "    'test': {\n",
    "        \"frac\": TEST_FRAC,\n",
    "        \"ratings\": TEST_RATINGS_FILEPATH,\n",
    "    },\n",
    "}"
   ]
  },
  {
   "cell_type": "code",
   "execution_count": null,
   "metadata": {},
   "outputs": [],
   "source": [
    "def create_ratings(ratings, frac, filepath):\n",
    "    os.makedirs(os.path.dirname(filepath), exist_ok=True)\n",
    "    df = ratings.sample(frac=frac)\n",
    "    IOService.write(filepath=filepath, data=df)"
   ]
  },
  {
   "cell_type": "code",
   "execution_count": null,
   "metadata": {},
   "outputs": [],
   "source": [
    "def create_tts(filepath, train_size: float = 0.8):\n",
    "    df = IOService.read(filepath=filepath)\n",
    "    df = df.sort_values(by='timestamp')\n",
    "    split = int(df.shape[0] * train_size)\n",
    "    train = df[:split]\n",
    "    test = df[split:]\n",
    "    directory = os.path.dirname(filepath)\n",
    "    train_filepath = os.path.join(directory, 'train.pkl')\n",
    "    test_filepath = os.path.join(directory, 'test.pkl')\n",
    "    IOService.write(filepath=train_filepath, data=train)\n",
    "    IOService.write(filepath=test_filepath, data=test)\n",
    "\n"
   ]
  },
  {
   "cell_type": "code",
   "execution_count": null,
   "metadata": {},
   "outputs": [],
   "source": [
    "for mode, spec in dp.items():\n",
    "    create_ratings(ratings, frac=spec['frac'], filepath=spec['ratings'])"
   ]
  },
  {
   "cell_type": "code",
   "execution_count": null,
   "metadata": {},
   "outputs": [],
   "source": [
    "for mode, spec in dp.items():\n",
    "    create_tts(filepath=spec['ratings'], train_size=0.8)"
   ]
  }
 ],
 "metadata": {
  "kernelspec": {
   "display_name": "recsys",
   "language": "python",
   "name": "python3"
  },
  "language_info": {
   "codemirror_mode": {
    "name": "ipython",
    "version": 3
   },
   "file_extension": ".py",
   "mimetype": "text/x-python",
   "name": "python",
   "nbconvert_exporter": "python",
   "pygments_lexer": "ipython3",
   "version": "3.10.6"
  },
  "orig_nbformat": 4,
  "vscode": {
   "interpreter": {
    "hash": "b95ac036dd134cdbc0e1cfc871143569fe44ed496162bf6c0ba7d4f738a04ef7"
   }
  }
 },
 "nbformat": 4,
 "nbformat_minor": 2
}
