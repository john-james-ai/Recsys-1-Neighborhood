{
 "cells": [
  {
   "attachments": {},
   "cell_type": "markdown",
   "metadata": {},
   "source": [
    "# Similarity Matrix"
   ]
  },
  {
   "cell_type": "code",
   "execution_count": 1,
   "metadata": {},
   "outputs": [],
   "source": [
    "import numpy as np\n",
    "from tqdm import tqdm\n",
    "from itertools import combinations\n",
    "import pandas as pd\n",
    "from recsys.data.rating import RatingsDataset\n",
    "from recsys.io.file import IOService"
   ]
  },
  {
   "cell_type": "code",
   "execution_count": 2,
   "metadata": {},
   "outputs": [],
   "source": [
    "FILEPATH = \"data/dev/ratings_1_pct.pkl\""
   ]
  },
  {
   "cell_type": "code",
   "execution_count": 47,
   "metadata": {},
   "outputs": [],
   "source": [
    "ratings = RatingsDataset(filepath=FILEPATH)\n",
    "data = IOService.read(FILEPATH)"
   ]
  },
  {
   "cell_type": "code",
   "execution_count": 4,
   "metadata": {},
   "outputs": [
    {
     "name": "stdout",
     "output_type": "stream",
     "text": [
      "Number of users: 17438\n",
      "Number of items: 8643\n"
     ]
    }
   ],
   "source": [
    "print(f\"Number of users: {ratings.n_users}\")\n",
    "print(f\"Number of items: {ratings.n_items}\")"
   ]
  },
  {
   "cell_type": "code",
   "execution_count": 5,
   "metadata": {},
   "outputs": [],
   "source": [
    "def to_key(uv: tuple) -> str:\n",
    "    return str(uv[0]) +\"_\" + str(uv[1])\n",
    "def from_key(uv: str) -> tuple:\n",
    "    return tuple([int(x) for x in uv.split(\"_\")])\n"
   ]
  },
  {
   "cell_type": "code",
   "execution_count": 6,
   "metadata": {},
   "outputs": [
    {
     "data": {
      "text/plain": [
       "'2_3'"
      ]
     },
     "execution_count": 6,
     "metadata": {},
     "output_type": "execute_result"
    },
    {
     "data": {
      "text/plain": [
       "2"
      ]
     },
     "execution_count": 6,
     "metadata": {},
     "output_type": "execute_result"
    },
    {
     "data": {
      "text/plain": [
       "3"
      ]
     },
     "execution_count": 6,
     "metadata": {},
     "output_type": "execute_result"
    }
   ],
   "source": [
    "to_key((2,3))\n",
    "u,v = from_key(\"2_3\")\n",
    "u\n",
    "v"
   ]
  },
  {
   "cell_type": "code",
   "execution_count": 18,
   "metadata": {},
   "outputs": [
    {
     "data": {
      "text/plain": [
       "(3, 4.5)"
      ]
     },
     "execution_count": 18,
     "metadata": {},
     "output_type": "execute_result"
    }
   ],
   "source": [
    "# Average Item Rating\n",
    "i = 3\n",
    "r = data[data['movieId'] == i]\n",
    "l = len(r)\n",
    "s = r['rating'].sum()\n",
    "l,s"
   ]
  },
  {
   "cell_type": "code",
   "execution_count": 8,
   "metadata": {},
   "outputs": [
    {
     "name": "stderr",
     "output_type": "stream",
     "text": [
      "100%|██████████| 8643/8643 [06:43<00:00, 21.40it/s] \n"
     ]
    }
   ],
   "source": [
    "I = {}\n",
    "for item in tqdm(ratings.items):    \n",
    "    item_ratings = ratings.get_item_ratings(item=item)\n",
    "    for uv_pair in combinations(item_ratings['userId'].values, 2):    \n",
    "        uv_ratings = item_ratings[item_ratings['userId'].isin(uv_pair)]\n",
    "        uv_key = to_key(uv_pair)\n",
    "        if I.get(uv_key,None) is not None:            \n",
    "            I[uv_key] = pd.concat([I[uv_key], uv_ratings], axis=0)\n",
    "        else:       \n",
    "            I[uv_key] = uv_ratings"
   ]
  },
  {
   "cell_type": "code",
   "execution_count": 10,
   "metadata": {},
   "outputs": [
    {
     "name": "stderr",
     "output_type": "stream",
     "text": [
      "100%|██████████| 17438/17438 [00:11<00:00, 1565.29it/s]\n"
     ]
    }
   ],
   "source": [
    "N = {}\n",
    "for user in tqdm(ratings.users):\n",
    "    N[user] = ratings.get_user_ratings_norm(user=user)"
   ]
  },
  {
   "cell_type": "code",
   "execution_count": 11,
   "metadata": {},
   "outputs": [
    {
     "name": "stderr",
     "output_type": "stream",
     "text": [
      "100%|██████████| 827937/827937 [26:52<00:00, 513.37it/s]  \n"
     ]
    }
   ],
   "source": [
    "S = {}\n",
    "for uv, uv_ratings in tqdm(I.items()):    \n",
    "    u,v = from_key(uv)\n",
    "    ru = uv_ratings[uv_ratings['userId'] == u].sort_values(by='movieId')['rating'].values\n",
    "    rv = uv_ratings[uv_ratings['userId'] == v].sort_values(by='movieId')['rating'].values\n",
    "    S[uv] = ru.dot(rv) / (N[u] * N[v])"
   ]
  },
  {
   "cell_type": "code",
   "execution_count": 12,
   "metadata": {},
   "outputs": [
    {
     "data": {
      "text/html": [
       "<div>\n",
       "<style scoped>\n",
       "    .dataframe tbody tr th:only-of-type {\n",
       "        vertical-align: middle;\n",
       "    }\n",
       "\n",
       "    .dataframe tbody tr th {\n",
       "        vertical-align: top;\n",
       "    }\n",
       "\n",
       "    .dataframe thead th {\n",
       "        text-align: right;\n",
       "    }\n",
       "</style>\n",
       "<table border=\"1\" class=\"dataframe\">\n",
       "  <thead>\n",
       "    <tr style=\"text-align: right;\">\n",
       "      <th></th>\n",
       "      <th>cos</th>\n",
       "    </tr>\n",
       "  </thead>\n",
       "  <tbody>\n",
       "    <tr>\n",
       "      <th>5051_11916</th>\n",
       "      <td>0.58</td>\n",
       "    </tr>\n",
       "    <tr>\n",
       "      <th>5051_11932</th>\n",
       "      <td>0.56</td>\n",
       "    </tr>\n",
       "    <tr>\n",
       "      <th>5051_13166</th>\n",
       "      <td>0.62</td>\n",
       "    </tr>\n",
       "    <tr>\n",
       "      <th>5051_15113</th>\n",
       "      <td>0.42</td>\n",
       "    </tr>\n",
       "    <tr>\n",
       "      <th>5051_16231</th>\n",
       "      <td>1.00</td>\n",
       "    </tr>\n",
       "  </tbody>\n",
       "</table>\n",
       "</div>"
      ],
      "text/plain": [
       "            cos\n",
       "5051_11916 0.58\n",
       "5051_11932 0.56\n",
       "5051_13166 0.62\n",
       "5051_15113 0.42\n",
       "5051_16231 1.00"
      ]
     },
     "execution_count": 12,
     "metadata": {},
     "output_type": "execute_result"
    }
   ],
   "source": [
    "sim = pd.DataFrame.from_dict(data=S, orient='index', columns=['cos'])\n",
    "sim.head()"
   ]
  },
  {
   "cell_type": "code",
   "execution_count": 55,
   "metadata": {},
   "outputs": [],
   "source": [
    "data = IOService.read(FILEPATH)"
   ]
  },
  {
   "cell_type": "code",
   "execution_count": 56,
   "metadata": {},
   "outputs": [
    {
     "data": {
      "text/html": [
       "<div>\n",
       "<style scoped>\n",
       "    .dataframe tbody tr th:only-of-type {\n",
       "        vertical-align: middle;\n",
       "    }\n",
       "\n",
       "    .dataframe tbody tr th {\n",
       "        vertical-align: top;\n",
       "    }\n",
       "\n",
       "    .dataframe thead th {\n",
       "        text-align: right;\n",
       "    }\n",
       "</style>\n",
       "<table border=\"1\" class=\"dataframe\">\n",
       "  <thead>\n",
       "    <tr style=\"text-align: right;\">\n",
       "      <th></th>\n",
       "      <th>userId</th>\n",
       "      <th>rbar</th>\n",
       "    </tr>\n",
       "  </thead>\n",
       "  <tbody>\n",
       "    <tr>\n",
       "      <th>0</th>\n",
       "      <td>3</td>\n",
       "      <td>4.67</td>\n",
       "    </tr>\n",
       "    <tr>\n",
       "      <th>1</th>\n",
       "      <td>4</td>\n",
       "      <td>3.17</td>\n",
       "    </tr>\n",
       "    <tr>\n",
       "      <th>2</th>\n",
       "      <td>35</td>\n",
       "      <td>4.00</td>\n",
       "    </tr>\n",
       "    <tr>\n",
       "      <th>3</th>\n",
       "      <td>63</td>\n",
       "      <td>4.00</td>\n",
       "    </tr>\n",
       "    <tr>\n",
       "      <th>4</th>\n",
       "      <td>68</td>\n",
       "      <td>3.50</td>\n",
       "    </tr>\n",
       "    <tr>\n",
       "      <th>...</th>\n",
       "      <td>...</td>\n",
       "      <td>...</td>\n",
       "    </tr>\n",
       "    <tr>\n",
       "      <th>17433</th>\n",
       "      <td>162457</td>\n",
       "      <td>3.38</td>\n",
       "    </tr>\n",
       "    <tr>\n",
       "      <th>17434</th>\n",
       "      <td>162469</td>\n",
       "      <td>3.50</td>\n",
       "    </tr>\n",
       "    <tr>\n",
       "      <th>17435</th>\n",
       "      <td>162502</td>\n",
       "      <td>4.33</td>\n",
       "    </tr>\n",
       "    <tr>\n",
       "      <th>17436</th>\n",
       "      <td>162516</td>\n",
       "      <td>2.75</td>\n",
       "    </tr>\n",
       "    <tr>\n",
       "      <th>17437</th>\n",
       "      <td>162534</td>\n",
       "      <td>3.50</td>\n",
       "    </tr>\n",
       "  </tbody>\n",
       "</table>\n",
       "<p>17438 rows × 2 columns</p>\n",
       "</div>"
      ],
      "text/plain": [
       "       userId  rbar\n",
       "0           3  4.67\n",
       "1           4  3.17\n",
       "2          35  4.00\n",
       "3          63  4.00\n",
       "4          68  3.50\n",
       "...       ...   ...\n",
       "17433  162457  3.38\n",
       "17434  162469  3.50\n",
       "17435  162502  4.33\n",
       "17436  162516  2.75\n",
       "17437  162534  3.50\n",
       "\n",
       "[17438 rows x 2 columns]"
      ]
     },
     "execution_count": 56,
     "metadata": {},
     "output_type": "execute_result"
    }
   ],
   "source": [
    "# Average user ratings\n",
    "rbar = data.groupby(\"userId\")[\"rating\"].mean().reset_index()\n",
    "rbar.columns = ['userId', 'rbar']\n",
    "rbar\n",
    "data = data.merge(rbar, on='userId', how='left')\n",
    "data['rating_nbu'] = data['rating'] - data['rbar']\n",
    "data = data.drop(columns=['rbar'])"
   ]
  },
  {
   "cell_type": "code",
   "execution_count": 57,
   "metadata": {},
   "outputs": [
    {
     "data": {
      "text/html": [
       "<div>\n",
       "<style scoped>\n",
       "    .dataframe tbody tr th:only-of-type {\n",
       "        vertical-align: middle;\n",
       "    }\n",
       "\n",
       "    .dataframe tbody tr th {\n",
       "        vertical-align: top;\n",
       "    }\n",
       "\n",
       "    .dataframe thead th {\n",
       "        text-align: right;\n",
       "    }\n",
       "</style>\n",
       "<table border=\"1\" class=\"dataframe\">\n",
       "  <thead>\n",
       "    <tr style=\"text-align: right;\">\n",
       "      <th></th>\n",
       "      <th>movieId</th>\n",
       "      <th>rbar</th>\n",
       "    </tr>\n",
       "  </thead>\n",
       "  <tbody>\n",
       "    <tr>\n",
       "      <th>0</th>\n",
       "      <td>1</td>\n",
       "      <td>3.86</td>\n",
       "    </tr>\n",
       "    <tr>\n",
       "      <th>1</th>\n",
       "      <td>2</td>\n",
       "      <td>3.36</td>\n",
       "    </tr>\n",
       "    <tr>\n",
       "      <th>2</th>\n",
       "      <td>3</td>\n",
       "      <td>1.50</td>\n",
       "    </tr>\n",
       "    <tr>\n",
       "      <th>3</th>\n",
       "      <td>5</td>\n",
       "      <td>2.83</td>\n",
       "    </tr>\n",
       "    <tr>\n",
       "      <th>4</th>\n",
       "      <td>6</td>\n",
       "      <td>4.00</td>\n",
       "    </tr>\n",
       "    <tr>\n",
       "      <th>...</th>\n",
       "      <td>...</td>\n",
       "      <td>...</td>\n",
       "    </tr>\n",
       "    <tr>\n",
       "      <th>8638</th>\n",
       "      <td>207830</td>\n",
       "      <td>4.00</td>\n",
       "    </tr>\n",
       "    <tr>\n",
       "      <th>8639</th>\n",
       "      <td>208453</td>\n",
       "      <td>3.00</td>\n",
       "    </tr>\n",
       "    <tr>\n",
       "      <th>8640</th>\n",
       "      <td>208579</td>\n",
       "      <td>1.00</td>\n",
       "    </tr>\n",
       "    <tr>\n",
       "      <th>8641</th>\n",
       "      <td>208889</td>\n",
       "      <td>3.50</td>\n",
       "    </tr>\n",
       "    <tr>\n",
       "      <th>8642</th>\n",
       "      <td>208911</td>\n",
       "      <td>4.00</td>\n",
       "    </tr>\n",
       "  </tbody>\n",
       "</table>\n",
       "<p>8643 rows × 2 columns</p>\n",
       "</div>"
      ],
      "text/plain": [
       "      movieId  rbar\n",
       "0           1  3.86\n",
       "1           2  3.36\n",
       "2           3  1.50\n",
       "3           5  2.83\n",
       "4           6  4.00\n",
       "...       ...   ...\n",
       "8638   207830  4.00\n",
       "8639   208453  3.00\n",
       "8640   208579  1.00\n",
       "8641   208889  3.50\n",
       "8642   208911  4.00\n",
       "\n",
       "[8643 rows x 2 columns]"
      ]
     },
     "execution_count": 57,
     "metadata": {},
     "output_type": "execute_result"
    },
    {
     "data": {
      "text/html": [
       "<div>\n",
       "<style scoped>\n",
       "    .dataframe tbody tr th:only-of-type {\n",
       "        vertical-align: middle;\n",
       "    }\n",
       "\n",
       "    .dataframe tbody tr th {\n",
       "        vertical-align: top;\n",
       "    }\n",
       "\n",
       "    .dataframe thead th {\n",
       "        text-align: right;\n",
       "    }\n",
       "</style>\n",
       "<table border=\"1\" class=\"dataframe\">\n",
       "  <thead>\n",
       "    <tr style=\"text-align: right;\">\n",
       "      <th></th>\n",
       "      <th>userId</th>\n",
       "      <th>movieId</th>\n",
       "      <th>rating</th>\n",
       "      <th>timestamp</th>\n",
       "      <th>rating_nbu</th>\n",
       "      <th>rbar</th>\n",
       "    </tr>\n",
       "  </thead>\n",
       "  <tbody>\n",
       "    <tr>\n",
       "      <th>0</th>\n",
       "      <td>125423</td>\n",
       "      <td>104211</td>\n",
       "      <td>5.00</td>\n",
       "      <td>1531296071</td>\n",
       "      <td>0.50</td>\n",
       "      <td>3.61</td>\n",
       "    </tr>\n",
       "    <tr>\n",
       "      <th>1</th>\n",
       "      <td>128243</td>\n",
       "      <td>8633</td>\n",
       "      <td>3.50</td>\n",
       "      <td>1494793313</td>\n",
       "      <td>0.58</td>\n",
       "      <td>3.50</td>\n",
       "    </tr>\n",
       "    <tr>\n",
       "      <th>2</th>\n",
       "      <td>85525</td>\n",
       "      <td>88810</td>\n",
       "      <td>3.50</td>\n",
       "      <td>1536420368</td>\n",
       "      <td>0.56</td>\n",
       "      <td>3.94</td>\n",
       "    </tr>\n",
       "    <tr>\n",
       "      <th>3</th>\n",
       "      <td>48653</td>\n",
       "      <td>648</td>\n",
       "      <td>4.00</td>\n",
       "      <td>1521355492</td>\n",
       "      <td>0.10</td>\n",
       "      <td>3.35</td>\n",
       "    </tr>\n",
       "    <tr>\n",
       "      <th>4</th>\n",
       "      <td>25494</td>\n",
       "      <td>44191</td>\n",
       "      <td>3.50</td>\n",
       "      <td>1559677514</td>\n",
       "      <td>-0.25</td>\n",
       "      <td>3.99</td>\n",
       "    </tr>\n",
       "    <tr>\n",
       "      <th>...</th>\n",
       "      <td>...</td>\n",
       "      <td>...</td>\n",
       "      <td>...</td>\n",
       "      <td>...</td>\n",
       "      <td>...</td>\n",
       "      <td>...</td>\n",
       "    </tr>\n",
       "    <tr>\n",
       "      <th>49995</th>\n",
       "      <td>58599</td>\n",
       "      <td>6936</td>\n",
       "      <td>3.00</td>\n",
       "      <td>1482783590</td>\n",
       "      <td>0.25</td>\n",
       "      <td>3.10</td>\n",
       "    </tr>\n",
       "    <tr>\n",
       "      <th>49996</th>\n",
       "      <td>143568</td>\n",
       "      <td>78105</td>\n",
       "      <td>3.00</td>\n",
       "      <td>1498503307</td>\n",
       "      <td>-0.45</td>\n",
       "      <td>3.21</td>\n",
       "    </tr>\n",
       "    <tr>\n",
       "      <th>49997</th>\n",
       "      <td>156480</td>\n",
       "      <td>170751</td>\n",
       "      <td>3.50</td>\n",
       "      <td>1566616756</td>\n",
       "      <td>0.23</td>\n",
       "      <td>3.50</td>\n",
       "    </tr>\n",
       "    <tr>\n",
       "      <th>49998</th>\n",
       "      <td>57545</td>\n",
       "      <td>3081</td>\n",
       "      <td>4.00</td>\n",
       "      <td>1547511124</td>\n",
       "      <td>0.96</td>\n",
       "      <td>3.47</td>\n",
       "    </tr>\n",
       "    <tr>\n",
       "      <th>49999</th>\n",
       "      <td>144475</td>\n",
       "      <td>4437</td>\n",
       "      <td>4.00</td>\n",
       "      <td>1467061951</td>\n",
       "      <td>0.79</td>\n",
       "      <td>3.50</td>\n",
       "    </tr>\n",
       "  </tbody>\n",
       "</table>\n",
       "<p>50000 rows × 6 columns</p>\n",
       "</div>"
      ],
      "text/plain": [
       "       userId  movieId  rating   timestamp  rating_nbu  rbar\n",
       "0      125423   104211    5.00  1531296071        0.50  3.61\n",
       "1      128243     8633    3.50  1494793313        0.58  3.50\n",
       "2       85525    88810    3.50  1536420368        0.56  3.94\n",
       "3       48653      648    4.00  1521355492        0.10  3.35\n",
       "4       25494    44191    3.50  1559677514       -0.25  3.99\n",
       "...       ...      ...     ...         ...         ...   ...\n",
       "49995   58599     6936    3.00  1482783590        0.25  3.10\n",
       "49996  143568    78105    3.00  1498503307       -0.45  3.21\n",
       "49997  156480   170751    3.50  1566616756        0.23  3.50\n",
       "49998   57545     3081    4.00  1547511124        0.96  3.47\n",
       "49999  144475     4437    4.00  1467061951        0.79  3.50\n",
       "\n",
       "[50000 rows x 6 columns]"
      ]
     },
     "execution_count": 57,
     "metadata": {},
     "output_type": "execute_result"
    }
   ],
   "source": [
    "# Average item ratings\n",
    "rbar = data.groupby(\"movieId\")[\"rating\"].mean().reset_index()\n",
    "rbar.columns = ['movieId', 'rbar']\n",
    "rbar\n",
    "data = data.merge(rbar, on='movieId', how='left')\n",
    "data\n",
    "data['rating_nbi'] = data['rating'] - data['rbar']\n",
    "data = data.drop(columns=['rbar'])"
   ]
  },
  {
   "cell_type": "code",
   "execution_count": 58,
   "metadata": {},
   "outputs": [
    {
     "data": {
      "text/plain": [
       "0.08995836754032371"
      ]
     },
     "execution_count": 58,
     "metadata": {},
     "output_type": "execute_result"
    }
   ],
   "source": [
    "i = 3\n",
    "data[data['movieId']==i]['rating_nbu'].sum()"
   ]
  }
 ],
 "metadata": {
  "kernelspec": {
   "display_name": "recsys",
   "language": "python",
   "name": "python3"
  },
  "language_info": {
   "codemirror_mode": {
    "name": "ipython",
    "version": 3
   },
   "file_extension": ".py",
   "mimetype": "text/x-python",
   "name": "python",
   "nbconvert_exporter": "python",
   "pygments_lexer": "ipython3",
   "version": "3.10.6"
  },
  "orig_nbformat": 4,
  "vscode": {
   "interpreter": {
    "hash": "b95ac036dd134cdbc0e1cfc871143569fe44ed496162bf6c0ba7d4f738a04ef7"
   }
  }
 },
 "nbformat": 4,
 "nbformat_minor": 2
}
