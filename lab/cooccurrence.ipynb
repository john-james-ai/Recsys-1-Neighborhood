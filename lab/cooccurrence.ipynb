{
 "cells": [
  {
   "attachments": {},
   "cell_type": "markdown",
   "metadata": {},
   "source": [
    "# Cooccurrence Lab"
   ]
  },
  {
   "cell_type": "code",
   "execution_count": 9,
   "metadata": {},
   "outputs": [
    {
     "ename": "ModuleNotFoundError",
     "evalue": "No module named 'scipy'",
     "output_type": "error",
     "traceback": [
      "\u001b[0;31m---------------------------------------------------------------------------\u001b[0m",
      "\u001b[0;31mModuleNotFoundError\u001b[0m                       Traceback (most recent call last)",
      "Cell \u001b[0;32mIn[9], line 4\u001b[0m\n\u001b[1;32m      2\u001b[0m \u001b[39mimport\u001b[39;00m \u001b[39mnumpy\u001b[39;00m \u001b[39mas\u001b[39;00m \u001b[39mnp\u001b[39;00m\n\u001b[1;32m      3\u001b[0m \u001b[39mfrom\u001b[39;00m \u001b[39mIPython\u001b[39;00m\u001b[39m.\u001b[39;00m\u001b[39mdisplay\u001b[39;00m \u001b[39mimport\u001b[39;00m display_html \n\u001b[0;32m----> 4\u001b[0m \u001b[39mfrom\u001b[39;00m \u001b[39mscipy\u001b[39;00m\u001b[39m.\u001b[39;00m\u001b[39msparse\u001b[39;00m \u001b[39mimport\u001b[39;00m csc_matrix\n\u001b[1;32m      6\u001b[0m \u001b[39mfrom\u001b[39;00m \u001b[39mrecsys\u001b[39;00m\u001b[39m.\u001b[39;00m\u001b[39mservices\u001b[39;00m\u001b[39m.\u001b[39;00m\u001b[39mio\u001b[39;00m \u001b[39mimport\u001b[39;00m IOService\n\u001b[1;32m      7\u001b[0m \u001b[39mfrom\u001b[39;00m \u001b[39mrecsys\u001b[39;00m\u001b[39m.\u001b[39;00m\u001b[39mdataset\u001b[39;00m\u001b[39m.\u001b[39;00m\u001b[39mrating\u001b[39;00m \u001b[39mimport\u001b[39;00m Dataset\n",
      "\u001b[0;31mModuleNotFoundError\u001b[0m: No module named 'scipy'"
     ]
    }
   ],
   "source": [
    "import pandas as pd   \n",
    "import numpy as np\n",
    "from IPython.display import display_html \n",
    "from scipy.sparse import csc_matrix\n",
    "\n",
    "from recsys.services.io import IOService\n",
    "from recsys.data.dataset import Dataset"
   ]
  },
  {
   "cell_type": "code",
   "execution_count": 2,
   "metadata": {},
   "outputs": [],
   "source": [
    "space = \"\\xa0\" * 10"
   ]
  },
  {
   "attachments": {},
   "cell_type": "markdown",
   "metadata": {},
   "source": [
    "## Test\n",
    "The cooccurrene for users 36 and 69 are listed below; however, the test only shows 1, 10, and 208. "
   ]
  },
  {
   "cell_type": "code",
   "execution_count": 3,
   "metadata": {},
   "outputs": [
    {
     "data": {
      "text/plain": [
       "[20, 29828, 60860, 146193]"
      ]
     },
     "execution_count": 3,
     "metadata": {},
     "output_type": "execute_result"
    }
   ],
   "source": [
    "DESTINATION = \"tests/testdata/operators/data_operators/cooccurrence/item_ratings_ctr_10pct.pkl\"\n",
    "corating = IOService.read(DESTINATION)\n",
    "corating[(2,44)]"
   ]
  },
  {
   "cell_type": "code",
   "execution_count": 8,
   "metadata": {},
   "outputs": [
    {
     "data": {
      "text/html": [
       "<div>\n",
       "<style scoped>\n",
       "    .dataframe tbody tr th:only-of-type {\n",
       "        vertical-align: middle;\n",
       "    }\n",
       "\n",
       "    .dataframe tbody tr th {\n",
       "        vertical-align: top;\n",
       "    }\n",
       "\n",
       "    .dataframe thead th {\n",
       "        text-align: right;\n",
       "    }\n",
       "</style>\n",
       "<table border=\"1\" class=\"dataframe\">\n",
       "  <thead>\n",
       "    <tr style=\"text-align: right;\">\n",
       "      <th></th>\n",
       "      <th>userId</th>\n",
       "      <th>movieId_x</th>\n",
       "      <th>movieId_y</th>\n",
       "    </tr>\n",
       "  </thead>\n",
       "  <tbody>\n",
       "    <tr>\n",
       "      <th>0</th>\n",
       "      <td>20</td>\n",
       "      <td>2</td>\n",
       "      <td>44</td>\n",
       "    </tr>\n",
       "    <tr>\n",
       "      <th>1</th>\n",
       "      <td>907</td>\n",
       "      <td>2</td>\n",
       "      <td>44</td>\n",
       "    </tr>\n",
       "    <tr>\n",
       "      <th>2</th>\n",
       "      <td>947</td>\n",
       "      <td>2</td>\n",
       "      <td>44</td>\n",
       "    </tr>\n",
       "    <tr>\n",
       "      <th>3</th>\n",
       "      <td>1203</td>\n",
       "      <td>2</td>\n",
       "      <td>44</td>\n",
       "    </tr>\n",
       "    <tr>\n",
       "      <th>4</th>\n",
       "      <td>1247</td>\n",
       "      <td>2</td>\n",
       "      <td>44</td>\n",
       "    </tr>\n",
       "    <tr>\n",
       "      <th>...</th>\n",
       "      <td>...</td>\n",
       "      <td>...</td>\n",
       "      <td>...</td>\n",
       "    </tr>\n",
       "    <tr>\n",
       "      <th>590</th>\n",
       "      <td>160945</td>\n",
       "      <td>2</td>\n",
       "      <td>44</td>\n",
       "    </tr>\n",
       "    <tr>\n",
       "      <th>591</th>\n",
       "      <td>160990</td>\n",
       "      <td>2</td>\n",
       "      <td>44</td>\n",
       "    </tr>\n",
       "    <tr>\n",
       "      <th>592</th>\n",
       "      <td>161184</td>\n",
       "      <td>2</td>\n",
       "      <td>44</td>\n",
       "    </tr>\n",
       "    <tr>\n",
       "      <th>593</th>\n",
       "      <td>162269</td>\n",
       "      <td>2</td>\n",
       "      <td>44</td>\n",
       "    </tr>\n",
       "    <tr>\n",
       "      <th>594</th>\n",
       "      <td>162312</td>\n",
       "      <td>2</td>\n",
       "      <td>44</td>\n",
       "    </tr>\n",
       "  </tbody>\n",
       "</table>\n",
       "<p>595 rows × 3 columns</p>\n",
       "</div>"
      ],
      "text/plain": [
       "     userId  movieId_x  movieId_y\n",
       "0        20          2         44\n",
       "1       907          2         44\n",
       "2       947          2         44\n",
       "3      1203          2         44\n",
       "4      1247          2         44\n",
       "..      ...        ...        ...\n",
       "590  160945          2         44\n",
       "591  160990          2         44\n",
       "592  161184          2         44\n",
       "593  162269          2         44\n",
       "594  162312          2         44\n",
       "\n",
       "[595 rows x 3 columns]"
      ]
     },
     "execution_count": 8,
     "metadata": {},
     "output_type": "execute_result"
    }
   ],
   "source": [
    "filepath = \"tests/testdata/operators/data_operators/ratings_user_random_sample_10pct.pkl\"\n",
    "ratings = IOService.read(filepath)\n",
    "a = ratings[(ratings['movieId'] == 2)]\n",
    "b = ratings[(ratings['movieId'] == 44)]\n",
    "c = a[['userId','movieId']].merge(b[['userId','movieId']], on='userId', how='inner')\n",
    "users = c['userId'].values\n",
    "d = a[a['userId'].isin(users)]\n",
    "e = b[b['userId'].isin(users)]\n",
    "c\n",
    "#df1_styler = d.style.set_table_attributes(\"style='display:inline'\").set_caption('User 2')\n",
    "#df2_styler = e.style.set_table_attributes(\"style='display:inline'\").set_caption('User 44')\n",
    "#display_html(df1_styler._repr_html_()+ space  + df2_styler._repr_html_(), raw=True)"
   ]
  },
  {
   "attachments": {},
   "cell_type": "markdown",
   "metadata": {},
   "source": [
    "## Vectorize Ids\n",
    "Reindex user and item ids from 0 to n, then create a binary utility sparse matrix and see if we have enough memory to perform matrix multiplication to reveal related neighbors and items. Using the full dataset... "
   ]
  },
  {
   "cell_type": "code",
   "execution_count": 5,
   "metadata": {},
   "outputs": [
    {
     "data": {
      "text/html": [
       "<div>\n",
       "<style scoped>\n",
       "    .dataframe tbody tr th:only-of-type {\n",
       "        vertical-align: middle;\n",
       "    }\n",
       "\n",
       "    .dataframe tbody tr th {\n",
       "        vertical-align: top;\n",
       "    }\n",
       "\n",
       "    .dataframe thead th {\n",
       "        text-align: right;\n",
       "    }\n",
       "</style>\n",
       "<table border=\"1\" class=\"dataframe\">\n",
       "  <thead>\n",
       "    <tr style=\"text-align: right;\">\n",
       "      <th></th>\n",
       "      <th>userId</th>\n",
       "      <th>movieId</th>\n",
       "      <th>rating</th>\n",
       "      <th>timestamp</th>\n",
       "    </tr>\n",
       "  </thead>\n",
       "  <tbody>\n",
       "    <tr>\n",
       "      <th>16940364</th>\n",
       "      <td>109832</td>\n",
       "      <td>32</td>\n",
       "      <td>4.00</td>\n",
       "      <td>822873600</td>\n",
       "    </tr>\n",
       "    <tr>\n",
       "      <th>16940356</th>\n",
       "      <td>109832</td>\n",
       "      <td>17</td>\n",
       "      <td>5.00</td>\n",
       "      <td>822873600</td>\n",
       "    </tr>\n",
       "    <tr>\n",
       "      <th>16940359</th>\n",
       "      <td>109832</td>\n",
       "      <td>21</td>\n",
       "      <td>4.00</td>\n",
       "      <td>822873600</td>\n",
       "    </tr>\n",
       "    <tr>\n",
       "      <th>16940377</th>\n",
       "      <td>109832</td>\n",
       "      <td>70</td>\n",
       "      <td>4.00</td>\n",
       "      <td>822873600</td>\n",
       "    </tr>\n",
       "    <tr>\n",
       "      <th>16940355</th>\n",
       "      <td>109832</td>\n",
       "      <td>12</td>\n",
       "      <td>1.00</td>\n",
       "      <td>822873600</td>\n",
       "    </tr>\n",
       "  </tbody>\n",
       "</table>\n",
       "</div>"
      ],
      "text/plain": [
       "          userId  movieId  rating  timestamp\n",
       "16940364  109832       32    4.00  822873600\n",
       "16940356  109832       17    5.00  822873600\n",
       "16940359  109832       21    4.00  822873600\n",
       "16940377  109832       70    4.00  822873600\n",
       "16940355  109832       12    1.00  822873600"
      ]
     },
     "execution_count": 5,
     "metadata": {},
     "output_type": "execute_result"
    }
   ],
   "source": [
    "filepath = \"data/dev/train.pkl\"\n",
    "name = \"ratings_dev\"\n",
    "description = \"Ratings Dataset (Raw)\"\n",
    "df = IOService.read(filepath=filepath)\n",
    "df.head()\n"
   ]
  },
  {
   "cell_type": "code",
   "execution_count": 6,
   "metadata": {},
   "outputs": [
    {
     "data": {
      "text/html": [
       "<div>\n",
       "<style scoped>\n",
       "    .dataframe tbody tr th:only-of-type {\n",
       "        vertical-align: middle;\n",
       "    }\n",
       "\n",
       "    .dataframe tbody tr th {\n",
       "        vertical-align: top;\n",
       "    }\n",
       "\n",
       "    .dataframe thead th {\n",
       "        text-align: right;\n",
       "    }\n",
       "</style>\n",
       "<table border=\"1\" class=\"dataframe\">\n",
       "  <thead>\n",
       "    <tr style=\"text-align: right;\">\n",
       "      <th></th>\n",
       "      <th>useridx</th>\n",
       "      <th>userId</th>\n",
       "    </tr>\n",
       "  </thead>\n",
       "  <tbody>\n",
       "    <tr>\n",
       "      <th>0</th>\n",
       "      <td>0</td>\n",
       "      <td>69</td>\n",
       "    </tr>\n",
       "    <tr>\n",
       "      <th>1</th>\n",
       "      <td>1</td>\n",
       "      <td>70</td>\n",
       "    </tr>\n",
       "    <tr>\n",
       "      <th>2</th>\n",
       "      <td>2</td>\n",
       "      <td>80</td>\n",
       "    </tr>\n",
       "    <tr>\n",
       "      <th>3</th>\n",
       "      <td>3</td>\n",
       "      <td>83</td>\n",
       "    </tr>\n",
       "    <tr>\n",
       "      <th>4</th>\n",
       "      <td>4</td>\n",
       "      <td>107</td>\n",
       "    </tr>\n",
       "    <tr>\n",
       "      <th>...</th>\n",
       "      <td>...</td>\n",
       "      <td>...</td>\n",
       "    </tr>\n",
       "    <tr>\n",
       "      <th>11301</th>\n",
       "      <td>11301</td>\n",
       "      <td>162446</td>\n",
       "    </tr>\n",
       "    <tr>\n",
       "      <th>11302</th>\n",
       "      <td>11302</td>\n",
       "      <td>162451</td>\n",
       "    </tr>\n",
       "    <tr>\n",
       "      <th>11303</th>\n",
       "      <td>11303</td>\n",
       "      <td>162477</td>\n",
       "    </tr>\n",
       "    <tr>\n",
       "      <th>11304</th>\n",
       "      <td>11304</td>\n",
       "      <td>162519</td>\n",
       "    </tr>\n",
       "    <tr>\n",
       "      <th>11305</th>\n",
       "      <td>11305</td>\n",
       "      <td>162541</td>\n",
       "    </tr>\n",
       "  </tbody>\n",
       "</table>\n",
       "<p>11306 rows × 2 columns</p>\n",
       "</div>"
      ],
      "text/plain": [
       "       useridx  userId\n",
       "0            0      69\n",
       "1            1      70\n",
       "2            2      80\n",
       "3            3      83\n",
       "4            4     107\n",
       "...        ...     ...\n",
       "11301    11301  162446\n",
       "11302    11302  162451\n",
       "11303    11303  162477\n",
       "11304    11304  162519\n",
       "11305    11305  162541\n",
       "\n",
       "[11306 rows x 2 columns]"
      ]
     },
     "execution_count": 6,
     "metadata": {},
     "output_type": "execute_result"
    }
   ],
   "source": [
    "users = np.sort(df['userId'].unique())\n",
    "dfu = pd.DataFrame(data=users, columns=['userId'])\n",
    "dfu.reset_index(inplace=True)\n",
    "dfu = dfu.rename(columns={'index': 'useridx'})\n",
    "dfu"
   ]
  },
  {
   "cell_type": "code",
   "execution_count": 21,
   "metadata": {},
   "outputs": [
    {
     "name": "stdout",
     "output_type": "stream",
     "text": [
      "[0. 0. 1. 0. 1. 1. 0. 1. 1. 0. 1. 0. 0. 0. 0. 1. 0. 1. 0. 0. 0. 0. 1. 0.\n",
      " 0. 0. 0. 0. 0. 0. 0. 0. 1. 0. 0. 0. 0. 0. 0. 0.]\n",
      "[0. 0. 0. 1. 0. 0. 1. 1. 1. 1. 1. 0. 1. 0. 0. 0. 0. 0. 0. 0. 0. 0. 1. 0.\n",
      " 0. 0. 0. 0. 0. 0. 0. 0. 1. 1. 0. 0. 0. 0. 0. 0.]\n"
     ]
    },
    {
     "data": {
      "text/plain": [
       "array(1)"
      ]
     },
     "execution_count": 21,
     "metadata": {},
     "output_type": "execute_result"
    }
   ],
   "source": [
    "users = [2,4,5,7,8,10,22,15,32,17]\n",
    "items = [3,9,22,33,6,8,7,10,12,32]\n",
    "a = np.zeros(40)\n",
    "b = np.zeros(40)\n",
    "a[users] = 1\n",
    "b[items] = 1\n",
    "print(a)\n",
    "print(b)\n",
    "a.T.dot(b)"
   ]
  }
 ],
 "metadata": {
  "kernelspec": {
   "display_name": "recsys",
   "language": "python",
   "name": "python3"
  },
  "language_info": {
   "codemirror_mode": {
    "name": "ipython",
    "version": 3
   },
   "file_extension": ".py",
   "mimetype": "text/x-python",
   "name": "python",
   "nbconvert_exporter": "python",
   "pygments_lexer": "ipython3",
   "version": "3.10.8"
  },
  "orig_nbformat": 4
 },
 "nbformat": 4,
 "nbformat_minor": 2
}
