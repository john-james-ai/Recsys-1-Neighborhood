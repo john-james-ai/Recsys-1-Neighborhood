{
 "cells": [
  {
   "attachments": {},
   "cell_type": "markdown",
   "metadata": {},
   "source": [
    "# Sampling Strategies\n"
   ]
  },
  {
   "cell_type": "code",
   "execution_count": 1,
   "metadata": {},
   "outputs": [],
   "source": [
    "from recsys.persistence.fio import IOService"
   ]
  },
  {
   "cell_type": "code",
   "execution_count": 2,
   "metadata": {},
   "outputs": [],
   "source": [
    "FILEPATH = \"tests/data/rating.pkl\"\n",
    "ratings = IOService.read(FILEPATH)"
   ]
  },
  {
   "attachments": {},
   "cell_type": "markdown",
   "metadata": {},
   "source": [
    "## User Random Sampling"
   ]
  },
  {
   "cell_type": "code",
   "execution_count": 3,
   "metadata": {},
   "outputs": [],
   "source": [
    "FRAC = 0.1\n",
    "size = int(ratings.shape[0] * FRAC)"
   ]
  },
  {
   "cell_type": "code",
   "execution_count": 15,
   "metadata": {},
   "outputs": [
    {
     "data": {
      "text/html": [
       "<div>\n",
       "<style scoped>\n",
       "    .dataframe tbody tr th:only-of-type {\n",
       "        vertical-align: middle;\n",
       "    }\n",
       "\n",
       "    .dataframe tbody tr th {\n",
       "        vertical-align: top;\n",
       "    }\n",
       "\n",
       "    .dataframe thead th {\n",
       "        text-align: right;\n",
       "    }\n",
       "</style>\n",
       "<table border=\"1\" class=\"dataframe\">\n",
       "  <thead>\n",
       "    <tr style=\"text-align: right;\">\n",
       "      <th></th>\n",
       "      <th>userId</th>\n",
       "      <th>count</th>\n",
       "    </tr>\n",
       "  </thead>\n",
       "  <tbody>\n",
       "    <tr>\n",
       "      <th>0</th>\n",
       "      <td>133019</td>\n",
       "      <td>5</td>\n",
       "    </tr>\n",
       "    <tr>\n",
       "      <th>1</th>\n",
       "      <td>45008</td>\n",
       "      <td>72</td>\n",
       "    </tr>\n",
       "    <tr>\n",
       "      <th>2</th>\n",
       "      <td>3575</td>\n",
       "      <td>47</td>\n",
       "    </tr>\n",
       "    <tr>\n",
       "      <th>3</th>\n",
       "      <td>97257</td>\n",
       "      <td>77</td>\n",
       "    </tr>\n",
       "    <tr>\n",
       "      <th>4</th>\n",
       "      <td>63377</td>\n",
       "      <td>35</td>\n",
       "    </tr>\n",
       "  </tbody>\n",
       "</table>\n",
       "</div>"
      ],
      "text/plain": [
       "   userId  count\n",
       "0  133019      5\n",
       "1   45008     72\n",
       "2    3575     47\n",
       "3   97257     77\n",
       "4   63377     35"
      ]
     },
     "execution_count": 15,
     "metadata": {},
     "output_type": "execute_result"
    },
    {
     "data": {
      "text/html": [
       "<div>\n",
       "<style scoped>\n",
       "    .dataframe tbody tr th:only-of-type {\n",
       "        vertical-align: middle;\n",
       "    }\n",
       "\n",
       "    .dataframe tbody tr th {\n",
       "        vertical-align: top;\n",
       "    }\n",
       "\n",
       "    .dataframe thead th {\n",
       "        text-align: right;\n",
       "    }\n",
       "</style>\n",
       "<table border=\"1\" class=\"dataframe\">\n",
       "  <thead>\n",
       "    <tr style=\"text-align: right;\">\n",
       "      <th></th>\n",
       "      <th>userId</th>\n",
       "      <th>count</th>\n",
       "      <th>cumsum</th>\n",
       "    </tr>\n",
       "  </thead>\n",
       "  <tbody>\n",
       "    <tr>\n",
       "      <th>106088</th>\n",
       "      <td>126504</td>\n",
       "      <td>3</td>\n",
       "      <td>3</td>\n",
       "    </tr>\n",
       "    <tr>\n",
       "      <th>22734</th>\n",
       "      <td>94954</td>\n",
       "      <td>48</td>\n",
       "      <td>51</td>\n",
       "    </tr>\n",
       "    <tr>\n",
       "      <th>109809</th>\n",
       "      <td>82899</td>\n",
       "      <td>5</td>\n",
       "      <td>56</td>\n",
       "    </tr>\n",
       "    <tr>\n",
       "      <th>11409</th>\n",
       "      <td>98541</td>\n",
       "      <td>179</td>\n",
       "      <td>235</td>\n",
       "    </tr>\n",
       "    <tr>\n",
       "      <th>89330</th>\n",
       "      <td>131922</td>\n",
       "      <td>9</td>\n",
       "      <td>244</td>\n",
       "    </tr>\n",
       "  </tbody>\n",
       "</table>\n",
       "</div>"
      ],
      "text/plain": [
       "        userId  count  cumsum\n",
       "106088  126504      3       3\n",
       "22734    94954     48      51\n",
       "109809   82899      5      56\n",
       "11409    98541    179     235\n",
       "89330   131922      9     244"
      ]
     },
     "execution_count": 15,
     "metadata": {},
     "output_type": "execute_result"
    },
    {
     "data": {
      "text/html": [
       "<div>\n",
       "<style scoped>\n",
       "    .dataframe tbody tr th:only-of-type {\n",
       "        vertical-align: middle;\n",
       "    }\n",
       "\n",
       "    .dataframe tbody tr th {\n",
       "        vertical-align: top;\n",
       "    }\n",
       "\n",
       "    .dataframe thead th {\n",
       "        text-align: right;\n",
       "    }\n",
       "</style>\n",
       "<table border=\"1\" class=\"dataframe\">\n",
       "  <thead>\n",
       "    <tr style=\"text-align: right;\">\n",
       "      <th></th>\n",
       "      <th>userId</th>\n",
       "      <th>movieId</th>\n",
       "      <th>rating</th>\n",
       "      <th>timestamp</th>\n",
       "    </tr>\n",
       "  </thead>\n",
       "  <tbody>\n",
       "    <tr>\n",
       "      <th>3172380</th>\n",
       "      <td>21664</td>\n",
       "      <td>1283</td>\n",
       "      <td>4.00</td>\n",
       "      <td>2005-02-27 00:07:18</td>\n",
       "    </tr>\n",
       "    <tr>\n",
       "      <th>3172418</th>\n",
       "      <td>21664</td>\n",
       "      <td>1374</td>\n",
       "      <td>3.00</td>\n",
       "      <td>2000-08-03 00:54:47</td>\n",
       "    </tr>\n",
       "    <tr>\n",
       "      <th>14269435</th>\n",
       "      <td>98541</td>\n",
       "      <td>2560</td>\n",
       "      <td>2.00</td>\n",
       "      <td>2004-12-04 20:52:30</td>\n",
       "    </tr>\n",
       "    <tr>\n",
       "      <th>19565295</th>\n",
       "      <td>135418</td>\n",
       "      <td>19</td>\n",
       "      <td>3.00</td>\n",
       "      <td>2007-09-12 01:37:36</td>\n",
       "    </tr>\n",
       "    <tr>\n",
       "      <th>3172875</th>\n",
       "      <td>21664</td>\n",
       "      <td>3249</td>\n",
       "      <td>4.00</td>\n",
       "      <td>2000-10-02 01:02:28</td>\n",
       "    </tr>\n",
       "  </tbody>\n",
       "</table>\n",
       "</div>"
      ],
      "text/plain": [
       "          userId  movieId  rating            timestamp\n",
       "3172380    21664     1283    4.00  2005-02-27 00:07:18\n",
       "3172418    21664     1374    3.00  2000-08-03 00:54:47\n",
       "14269435   98541     2560    2.00  2004-12-04 20:52:30\n",
       "19565295  135418       19    3.00  2007-09-12 01:37:36\n",
       "3172875    21664     3249    4.00  2000-10-02 01:02:28"
      ]
     },
     "execution_count": 15,
     "metadata": {},
     "output_type": "execute_result"
    }
   ],
   "source": [
    "uc1 = ratings['userId'].value_counts(sort=False).to_frame().reset_index()\n",
    "uc1.columns = ['userId', 'count']\n",
    "uc1.head()\n",
    "uc2 = uc1.sample(frac=1)\n",
    "uc2['cumsum'] = uc2['count'].cumsum()\n",
    "uc2.head()\n",
    "users = uc2[uc2[\"cumsum\"] <= 1000]['userId'].values\n",
    "sample = ratings[ratings[\"userId\"].isin(users)]\n",
    "sample.head()"
   ]
  },
  {
   "cell_type": "code",
   "execution_count": 8,
   "metadata": {},
   "outputs": [
    {
     "data": {
      "text/html": [
       "<div>\n",
       "<style scoped>\n",
       "    .dataframe tbody tr th:only-of-type {\n",
       "        vertical-align: middle;\n",
       "    }\n",
       "\n",
       "    .dataframe tbody tr th {\n",
       "        vertical-align: top;\n",
       "    }\n",
       "\n",
       "    .dataframe thead th {\n",
       "        text-align: right;\n",
       "    }\n",
       "</style>\n",
       "<table border=\"1\" class=\"dataframe\">\n",
       "  <thead>\n",
       "    <tr style=\"text-align: right;\">\n",
       "      <th></th>\n",
       "      <th>userId</th>\n",
       "      <th>movieId</th>\n",
       "      <th>rating</th>\n",
       "      <th>timestamp</th>\n",
       "    </tr>\n",
       "  </thead>\n",
       "  <tbody>\n",
       "    <tr>\n",
       "      <th>19223326</th>\n",
       "      <td>133019</td>\n",
       "      <td>662</td>\n",
       "      <td>3.00</td>\n",
       "      <td>1997-02-21 20:58:34</td>\n",
       "    </tr>\n",
       "    <tr>\n",
       "      <th>19223318</th>\n",
       "      <td>133019</td>\n",
       "      <td>9</td>\n",
       "      <td>2.00</td>\n",
       "      <td>1997-02-21 20:55:12</td>\n",
       "    </tr>\n",
       "    <tr>\n",
       "      <th>19223335</th>\n",
       "      <td>133019</td>\n",
       "      <td>832</td>\n",
       "      <td>4.00</td>\n",
       "      <td>1997-02-21 20:55:12</td>\n",
       "    </tr>\n",
       "    <tr>\n",
       "      <th>19223323</th>\n",
       "      <td>133019</td>\n",
       "      <td>260</td>\n",
       "      <td>4.00</td>\n",
       "      <td>1997-02-21 20:54:32</td>\n",
       "    </tr>\n",
       "    <tr>\n",
       "      <th>19223330</th>\n",
       "      <td>133019</td>\n",
       "      <td>762</td>\n",
       "      <td>2.00</td>\n",
       "      <td>1997-02-21 20:54:50</td>\n",
       "    </tr>\n",
       "  </tbody>\n",
       "</table>\n",
       "</div>"
      ],
      "text/plain": [
       "          userId  movieId  rating            timestamp\n",
       "19223326  133019      662    3.00  1997-02-21 20:58:34\n",
       "19223318  133019        9    2.00  1997-02-21 20:55:12\n",
       "19223335  133019      832    4.00  1997-02-21 20:55:12\n",
       "19223323  133019      260    4.00  1997-02-21 20:54:32\n",
       "19223330  133019      762    2.00  1997-02-21 20:54:50"
      ]
     },
     "execution_count": 8,
     "metadata": {},
     "output_type": "execute_result"
    }
   ],
   "source": [
    "ratings[ratings['userId'] == 133019]"
   ]
  }
 ],
 "metadata": {
  "kernelspec": {
   "display_name": "recsys",
   "language": "python",
   "name": "python3"
  },
  "language_info": {
   "codemirror_mode": {
    "name": "ipython",
    "version": 3
   },
   "file_extension": ".py",
   "mimetype": "text/x-python",
   "name": "python",
   "nbconvert_exporter": "python",
   "pygments_lexer": "ipython3",
   "version": "3.10.6"
  },
  "orig_nbformat": 4,
  "vscode": {
   "interpreter": {
    "hash": "b95ac036dd134cdbc0e1cfc871143569fe44ed496162bf6c0ba7d4f738a04ef7"
   }
  }
 },
 "nbformat": 4,
 "nbformat_minor": 2
}
