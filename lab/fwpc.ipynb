{
 "cells": [
  {
   "cell_type": "markdown",
   "metadata": {},
   "source": [
    "# Frequency Weighted Pearson Correlation"
   ]
  },
  {
   "cell_type": "code",
   "execution_count": 4,
   "metadata": {},
   "outputs": [],
   "source": [
    "from scipy.sparse import csr_matrix\n",
    "import numpy as np\n",
    "from recsys.data.dataset import Dataset\n",
    "from recsys import IOService"
   ]
  },
  {
   "cell_type": "code",
   "execution_count": 2,
   "metadata": {},
   "outputs": [],
   "source": [
    "FP = \"tests/testdata/operators/data_operators/ratings_user_random_sample_1pct.pkl\"\n",
    "df = IOService.read(FP)\n",
    "ds = Dataset(name='fwpc', description='test_fwpc', data=df)\n"
   ]
  },
  {
   "cell_type": "code",
   "execution_count": 31,
   "metadata": {},
   "outputs": [
    {
     "name": "stdout",
     "output_type": "stream",
     "text": [
      "# Users: 16277\n",
      "# Items: 30180\n"
     ]
    },
    {
     "data": {
      "text/plain": [
       "(30180, 30180)"
      ]
     },
     "execution_count": 31,
     "metadata": {},
     "output_type": "execute_result"
    },
    {
     "data": {
      "text/plain": [
       "(1, 30180)"
      ]
     },
     "execution_count": 31,
     "metadata": {},
     "output_type": "execute_result"
    }
   ],
   "source": [
    "U = ds.n_users\n",
    "print(f\"# Users: {U}\")\n",
    "I = ds.n_items\n",
    "print(f\"# Items: {I}\")\n",
    "Ui = ds.interaction().sum(axis=0)\n",
    "interaction = ds.interaction()\n",
    "Iuv = interaction.T.dot(interaction)\n",
    "Iuv.shape\n",
    "Li = np.log(U / Ui)\n",
    "\n",
    "\n",
    "\n",
    "\n",
    "\n"
   ]
  },
  {
   "cell_type": "code",
   "execution_count": 36,
   "metadata": {},
   "outputs": [
    {
     "data": {
      "text/plain": [
       "(1, 30180)"
      ]
     },
     "execution_count": 36,
     "metadata": {},
     "output_type": "execute_result"
    },
    {
     "ename": "KeyboardInterrupt",
     "evalue": "",
     "output_type": "error",
     "traceback": [
      "\u001b[0;31m---------------------------------------------------------------------------\u001b[0m",
      "\u001b[0;31mKeyboardInterrupt\u001b[0m                         Traceback (most recent call last)",
      "Cell \u001b[0;32mIn[36], line 2\u001b[0m\n\u001b[1;32m      1\u001b[0m Li\u001b[39m.\u001b[39mshape\n\u001b[0;32m----> 2\u001b[0m fw \u001b[39m=\u001b[39m Li\u001b[39m.\u001b[39;49mdot(Iuv)\n\u001b[1;32m      3\u001b[0m fw\u001b[39m.\u001b[39mshape\n\u001b[1;32m      4\u001b[0m Li[\u001b[39m0\u001b[39m:\u001b[39m10\u001b[39m]\n",
      "File \u001b[0;32m~/anaconda3/envs/recsys/lib/python3.10/site-packages/scipy/sparse/_base.py:620\u001b[0m, in \u001b[0;36mspmatrix.__rmul__\u001b[0;34m(self, other)\u001b[0m\n\u001b[1;32m    619\u001b[0m \u001b[39mdef\u001b[39;00m \u001b[39m__rmul__\u001b[39m(\u001b[39mself\u001b[39m, other):  \u001b[39m# other * self\u001b[39;00m\n\u001b[0;32m--> 620\u001b[0m     \u001b[39mreturn\u001b[39;00m \u001b[39mself\u001b[39;49m\u001b[39m.\u001b[39;49m_rmul_dispatch(other)\n",
      "File \u001b[0;32m~/anaconda3/envs/recsys/lib/python3.10/site-packages/scipy/sparse/_base.py:607\u001b[0m, in \u001b[0;36mspmatrix._rmul_dispatch\u001b[0;34m(self, other)\u001b[0m\n\u001b[1;32m    605\u001b[0m \u001b[39mdef\u001b[39;00m \u001b[39m_rmul_dispatch\u001b[39m(\u001b[39mself\u001b[39m, other):\n\u001b[1;32m    606\u001b[0m     \u001b[39mif\u001b[39;00m isscalarlike(other):\n\u001b[0;32m--> 607\u001b[0m         \u001b[39mreturn\u001b[39;00m \u001b[39mself\u001b[39;49m\u001b[39m.\u001b[39;49m_mul_scalar(other)\n\u001b[1;32m    608\u001b[0m     \u001b[39melse\u001b[39;00m:\n\u001b[1;32m    609\u001b[0m         \u001b[39m# Don't use asarray unless we have to\u001b[39;00m\n\u001b[1;32m    610\u001b[0m         \u001b[39mtry\u001b[39;00m:\n",
      "File \u001b[0;32m~/anaconda3/envs/recsys/lib/python3.10/site-packages/scipy/sparse/_data.py:124\u001b[0m, in \u001b[0;36m_data_matrix._mul_scalar\u001b[0;34m(self, other)\u001b[0m\n\u001b[1;32m    123\u001b[0m \u001b[39mdef\u001b[39;00m \u001b[39m_mul_scalar\u001b[39m(\u001b[39mself\u001b[39m, other):\n\u001b[0;32m--> 124\u001b[0m     \u001b[39mreturn\u001b[39;00m \u001b[39mself\u001b[39;49m\u001b[39m.\u001b[39;49m_with_data(\u001b[39mself\u001b[39;49m\u001b[39m.\u001b[39;49mdata \u001b[39m*\u001b[39;49m other)\n",
      "File \u001b[0;32m~/anaconda3/envs/recsys/lib/python3.10/site-packages/scipy/sparse/_compressed.py:1224\u001b[0m, in \u001b[0;36m_cs_matrix._with_data\u001b[0;34m(self, data, copy)\u001b[0m\n\u001b[1;32m   1217\u001b[0m resize\u001b[39m.\u001b[39m\u001b[39m__doc__\u001b[39m \u001b[39m=\u001b[39m spmatrix\u001b[39m.\u001b[39mresize\u001b[39m.\u001b[39m\u001b[39m__doc__\u001b[39m\n\u001b[1;32m   1219\u001b[0m \u001b[39m###################\u001b[39;00m\n\u001b[1;32m   1220\u001b[0m \u001b[39m# utility methods #\u001b[39;00m\n\u001b[1;32m   1221\u001b[0m \u001b[39m###################\u001b[39;00m\n\u001b[1;32m   1222\u001b[0m \n\u001b[1;32m   1223\u001b[0m \u001b[39m# needed by _data_matrix\u001b[39;00m\n\u001b[0;32m-> 1224\u001b[0m \u001b[39mdef\u001b[39;00m \u001b[39m_with_data\u001b[39m(\u001b[39mself\u001b[39m, data, copy\u001b[39m=\u001b[39m\u001b[39mTrue\u001b[39;00m):\n\u001b[1;32m   1225\u001b[0m     \u001b[39m\"\"\"Returns a matrix with the same sparsity structure as self,\u001b[39;00m\n\u001b[1;32m   1226\u001b[0m \u001b[39m    but with different data.  By default the structure arrays\u001b[39;00m\n\u001b[1;32m   1227\u001b[0m \u001b[39m    (i.e. .indptr and .indices) are copied.\u001b[39;00m\n\u001b[1;32m   1228\u001b[0m \u001b[39m    \"\"\"\u001b[39;00m\n\u001b[1;32m   1229\u001b[0m     \u001b[39mif\u001b[39;00m copy:\n",
      "\u001b[0;31mKeyboardInterrupt\u001b[0m: "
     ]
    }
   ],
   "source": [
    "Li.shape\n",
    "fw = Li.dot(Iuv)\n",
    "fw.shape\n",
    "Li[0:10]\n",
    "fw[0:5]"
   ]
  },
  {
   "cell_type": "code",
   "execution_count": 12,
   "metadata": {},
   "outputs": [
    {
     "name": "stdout",
     "output_type": "stream",
     "text": [
      "a length: 412\n",
      "b length: 24\n"
     ]
    }
   ],
   "source": [
    "a = ds.get_items_rated_user(useridx=0)\n",
    "b = ds.get_items_rated_user(useridx=1)\n",
    "print(f\"a length: {len(a)}\")\n",
    "print(f\"b length: {len(b)}\")\n"
   ]
  }
 ],
 "metadata": {
  "kernelspec": {
   "display_name": "recsys",
   "language": "python",
   "name": "python3"
  },
  "language_info": {
   "codemirror_mode": {
    "name": "ipython",
    "version": 3
   },
   "file_extension": ".py",
   "mimetype": "text/x-python",
   "name": "python",
   "nbconvert_exporter": "python",
   "pygments_lexer": "ipython3",
   "version": "3.10.8"
  }
 },
 "nbformat": 4,
 "nbformat_minor": 2
}
