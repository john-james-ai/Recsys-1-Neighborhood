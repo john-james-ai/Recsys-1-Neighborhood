{
 "cells": [
  {
   "cell_type": "markdown",
   "metadata": {},
   "source": [
    "# Significance Weighting"
   ]
  },
  {
   "cell_type": "code",
   "execution_count": 12,
   "metadata": {},
   "outputs": [],
   "source": [
    "import numpy as np\n",
    "from recsys.services.io import IOService\n",
    "from recsys.data.dataset import Dataset\n",
    "from recsys.operator.matrix.interaction import InteractionMatrixFactory"
   ]
  },
  {
   "cell_type": "code",
   "execution_count": 2,
   "metadata": {},
   "outputs": [],
   "source": [
    "\n",
    "FILEPATH = \"tests/testdata/operators/data_operators/sampling/temporaralthreshold/ratings_random_temporal_sampling_1000.pkl\"\n",
    "INTERACTION =\"tests/testdata/operators/weights/interaction.pkl\"\n",
    "USER_WEIGHTS =\"tests/testdata/operators/weights/user_weights.pkl\"\n",
    "ITEM_WEIGHTS =\"tests/testdata/operators/weights/item_weights.pkl\""
   ]
  },
  {
   "attachments": {},
   "cell_type": "markdown",
   "metadata": {},
   "source": [
    "## Data"
   ]
  },
  {
   "cell_type": "code",
   "execution_count": 3,
   "metadata": {},
   "outputs": [],
   "source": [
    "\n",
    "ratings = IOService.read(FILEPATH)\n",
    "ratings = Dataset(name='lab', description='Test Lab Dataset', data=ratings)"
   ]
  },
  {
   "attachments": {},
   "cell_type": "markdown",
   "metadata": {},
   "source": [
    "## Interaction Matrix"
   ]
  },
  {
   "cell_type": "code",
   "execution_count": 4,
   "metadata": {},
   "outputs": [],
   "source": [
    "# Interaction Matrix\n",
    "factory = InteractionMatrixFactory(name='lab_interaction', description='Lab Interaction Matrix', destination=INTERACTION)\n",
    "I = factory.execute(data=ratings)"
   ]
  },
  {
   "attachments": {},
   "cell_type": "markdown",
   "metadata": {},
   "source": [
    "### User Interaction Matrix"
   ]
  },
  {
   "cell_type": "code",
   "execution_count": 5,
   "metadata": {},
   "outputs": [
    {
     "data": {
      "text/plain": [
       "(141779, 141779)"
      ]
     },
     "execution_count": 5,
     "metadata": {},
     "output_type": "execute_result"
    }
   ],
   "source": [
    "csr = I.to_csr()\n",
    "Iu = csr.dot(csr.T)\n",
    "Iu.shape"
   ]
  },
  {
   "attachments": {},
   "cell_type": "markdown",
   "metadata": {},
   "source": [
    "### User Non-Zero Entries"
   ]
  },
  {
   "cell_type": "code",
   "execution_count": 13,
   "metadata": {},
   "outputs": [
    {
     "data": {
      "text/plain": [
       "array([[     0,      0,      0, ..., 141778, 141778, 141778],\n",
       "       [138154, 131447, 128505, ...,    146,     98,     65]], dtype=int32)"
      ]
     },
     "execution_count": 13,
     "metadata": {},
     "output_type": "execute_result"
    }
   ],
   "source": [
    "rows, cols = Iu.nonzero()\n",
    "indices = np.array((rows, cols))\n",
    "\n"
   ]
  },
  {
   "cell_type": "code",
   "execution_count": 19,
   "metadata": {},
   "outputs": [
    {
     "data": {
      "text/plain": [
       "array([[     0, 138154],\n",
       "       [     0, 131447],\n",
       "       [     0, 128505],\n",
       "       [     0, 125992],\n",
       "       [     0, 120078],\n",
       "       [     0, 117001],\n",
       "       [     0,  87392],\n",
       "       [     0,  86135],\n",
       "       [     0,  71263],\n",
       "       [     0,  68432]], dtype=int32)"
      ]
     },
     "execution_count": 19,
     "metadata": {},
     "output_type": "execute_result"
    },
    {
     "data": {
      "text/plain": [
       "(1476419081, 2)"
      ]
     },
     "execution_count": 19,
     "metadata": {},
     "output_type": "execute_result"
    }
   ],
   "source": [
    "indices = indices.T\n",
    "indices[0:10,0:2]\n",
    "indices.shape"
   ]
  },
  {
   "cell_type": "code",
   "execution_count": 29,
   "metadata": {},
   "outputs": [
    {
     "data": {
      "text/plain": [
       "array([0, 0, 0, ..., 0, 0, 0])"
      ]
     },
     "execution_count": 29,
     "metadata": {},
     "output_type": "execute_result"
    },
    {
     "data": {
      "text/plain": [
       "array([0, 0, 0, ..., 0, 0, 0])"
      ]
     },
     "execution_count": 29,
     "metadata": {},
     "output_type": "execute_result"
    },
    {
     "ename": "ValueError",
     "evalue": "shapes (141779,) and (47171,) not aligned: 141779 (dim 0) != 47171 (dim 0)",
     "output_type": "error",
     "traceback": [
      "\u001b[0;31m---------------------------------------------------------------------------\u001b[0m",
      "\u001b[0;31mValueError\u001b[0m                                Traceback (most recent call last)",
      "Cell \u001b[0;32mIn[29], line 5\u001b[0m\n\u001b[1;32m      3\u001b[0m a\n\u001b[1;32m      4\u001b[0m b\n\u001b[0;32m----> 5\u001b[0m np\u001b[39m.\u001b[39;49mdot(a,b)\n",
      "File \u001b[0;32m<__array_function__ internals>:180\u001b[0m, in \u001b[0;36mdot\u001b[0;34m(*args, **kwargs)\u001b[0m\n",
      "\u001b[0;31mValueError\u001b[0m: shapes (141779,) and (47171,) not aligned: 141779 (dim 0) != 47171 (dim 0)"
     ]
    }
   ],
   "source": [
    "a = csr.getcol(0).toarray()[:,0]\n",
    "b = csr.getrow(71263).toarray()[0,:]\n",
    "a\n",
    "b\n",
    "np.dot(a,b)"
   ]
  }
 ],
 "metadata": {
  "kernelspec": {
   "display_name": "recsys",
   "language": "python",
   "name": "python3"
  },
  "language_info": {
   "codemirror_mode": {
    "name": "ipython",
    "version": 3
   },
   "file_extension": ".py",
   "mimetype": "text/x-python",
   "name": "python",
   "nbconvert_exporter": "python",
   "pygments_lexer": "ipython3",
   "version": "3.10.8"
  },
  "orig_nbformat": 4
 },
 "nbformat": 4,
 "nbformat_minor": 2
}
