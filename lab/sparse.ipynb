{
 "cells": [
  {
   "cell_type": "code",
   "execution_count": 3,
   "metadata": {},
   "outputs": [],
   "source": [
    "import numpy as np\n",
    "from scipy import stats\n",
    "from scipy.sparse import csr_matrix, random\n",
    "from numpy.random import default_rng\n"
   ]
  },
  {
   "cell_type": "code",
   "execution_count": 6,
   "metadata": {},
   "outputs": [
    {
     "data": {
      "text/plain": [
       "array([[32.,  0., 32.,  0.,  0.],\n",
       "       [ 0., 29.,  0.,  0.,  0.],\n",
       "       [ 0.,  0.,  0., 30.,  0.],\n",
       "       [ 0.,  0., 37., 30.,  0.],\n",
       "       [ 0.,  0.,  0.,  0.,  0.]])"
      ]
     },
     "execution_count": 6,
     "metadata": {},
     "output_type": "execute_result"
    }
   ],
   "source": [
    "rng = default_rng()\n",
    "rvs = stats.poisson(25, loc=10).rvs\n",
    "A = random(5, 5, density=0.25, random_state=rng, data_rvs=rvs)\n",
    "A.A"
   ]
  },
  {
   "cell_type": "code",
   "execution_count": 8,
   "metadata": {},
   "outputs": [],
   "source": [
    "def get_element(matrix, row, col):\n",
    "    rows, cols = matrix.nonzero()\n",
    "    d = {\"row\": rows, \"col\": cols, \"data\": matrix.data}\n",
    "    df = pd.DataFrame(data=d)\n",
    "    element = df[(df[\"row\"] == row) & (df[\"col\"] == col)][\"data\"].values[0]\n",
    "    return element"
   ]
  },
  {
   "cell_type": "code",
   "execution_count": 10,
   "metadata": {},
   "outputs": [
    {
     "data": {
      "text/plain": [
       "37.0"
      ]
     },
     "execution_count": 10,
     "metadata": {},
     "output_type": "execute_result"
    }
   ],
   "source": [
    "r = 3\n",
    "c = 2\n",
    "get_element(A, row=r, col=c)"
   ]
  }
 ],
 "metadata": {
  "kernelspec": {
   "display_name": "recsys",
   "language": "python",
   "name": "python3"
  },
  "language_info": {
   "codemirror_mode": {
    "name": "ipython",
    "version": 3
   },
   "file_extension": ".py",
   "mimetype": "text/x-python",
   "name": "python",
   "nbconvert_exporter": "python",
   "pygments_lexer": "ipython3",
   "version": "3.10.8"
  }
 },
 "nbformat": 4,
 "nbformat_minor": 2
}
