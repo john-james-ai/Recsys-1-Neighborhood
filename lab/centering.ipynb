{
 "cells": [
  {
   "cell_type": "code",
   "execution_count": 1,
   "metadata": {},
   "outputs": [],
   "source": [
    "from recsys.persistence.fio import IOService"
   ]
  },
  {
   "cell_type": "code",
   "execution_count": 6,
   "metadata": {},
   "outputs": [],
   "source": [
    "FILEPATH = \"tests/data/ratings_1_pct.pkl\"\n",
    "USERID = 48653\n",
    "USER_MEAN = 3.9\n",
    "ITEMID = 8633\n",
    "ITEM_MEAN = 3.5"
   ]
  },
  {
   "cell_type": "code",
   "execution_count": 10,
   "metadata": {},
   "outputs": [
    {
     "data": {
      "text/html": [
       "<div>\n",
       "<style scoped>\n",
       "    .dataframe tbody tr th:only-of-type {\n",
       "        vertical-align: middle;\n",
       "    }\n",
       "\n",
       "    .dataframe tbody tr th {\n",
       "        vertical-align: top;\n",
       "    }\n",
       "\n",
       "    .dataframe thead th {\n",
       "        text-align: right;\n",
       "    }\n",
       "</style>\n",
       "<table border=\"1\" class=\"dataframe\">\n",
       "  <thead>\n",
       "    <tr style=\"text-align: right;\">\n",
       "      <th></th>\n",
       "      <th>userId</th>\n",
       "      <th>movieId</th>\n",
       "      <th>rating</th>\n",
       "      <th>timestamp</th>\n",
       "    </tr>\n",
       "  </thead>\n",
       "  <tbody>\n",
       "    <tr>\n",
       "      <th>3</th>\n",
       "      <td>48653</td>\n",
       "      <td>648</td>\n",
       "      <td>4.00</td>\n",
       "      <td>1521355492</td>\n",
       "    </tr>\n",
       "    <tr>\n",
       "      <th>9028</th>\n",
       "      <td>48653</td>\n",
       "      <td>46970</td>\n",
       "      <td>3.50</td>\n",
       "      <td>1521357515</td>\n",
       "    </tr>\n",
       "    <tr>\n",
       "      <th>13895</th>\n",
       "      <td>48653</td>\n",
       "      <td>112852</td>\n",
       "      <td>4.00</td>\n",
       "      <td>1521356192</td>\n",
       "    </tr>\n",
       "    <tr>\n",
       "      <th>41339</th>\n",
       "      <td>48653</td>\n",
       "      <td>8874</td>\n",
       "      <td>4.00</td>\n",
       "      <td>1521356417</td>\n",
       "    </tr>\n",
       "    <tr>\n",
       "      <th>45165</th>\n",
       "      <td>48653</td>\n",
       "      <td>5952</td>\n",
       "      <td>4.00</td>\n",
       "      <td>1521356263</td>\n",
       "    </tr>\n",
       "  </tbody>\n",
       "</table>\n",
       "</div>"
      ],
      "text/plain": [
       "       userId  movieId  rating   timestamp\n",
       "3       48653      648    4.00  1521355492\n",
       "9028    48653    46970    3.50  1521357515\n",
       "13895   48653   112852    4.00  1521356192\n",
       "41339   48653     8874    4.00  1521356417\n",
       "45165   48653     5952    4.00  1521356263"
      ]
     },
     "execution_count": 10,
     "metadata": {},
     "output_type": "execute_result"
    }
   ],
   "source": [
    "ratings = IOService.read(FILEPATH)\n",
    "ratings[ratings['userId'] == USERID]"
   ]
  },
  {
   "cell_type": "code",
   "execution_count": null,
   "metadata": {},
   "outputs": [],
   "source": [
    "ITEM_CENTERED_RATINGS = [0, -0.5, 0, 0.5]\n",
    "USER_CENTERED_RATINGS = [0.1, -0.4, 0.1, 0.1, 0.1]"
   ]
  }
 ],
 "metadata": {
  "kernelspec": {
   "display_name": "recsys",
   "language": "python",
   "name": "python3"
  },
  "language_info": {
   "codemirror_mode": {
    "name": "ipython",
    "version": 3
   },
   "file_extension": ".py",
   "mimetype": "text/x-python",
   "name": "python",
   "nbconvert_exporter": "python",
   "pygments_lexer": "ipython3",
   "version": "3.10.6"
  },
  "orig_nbformat": 4,
  "vscode": {
   "interpreter": {
    "hash": "b95ac036dd134cdbc0e1cfc871143569fe44ed496162bf6c0ba7d4f738a04ef7"
   }
  }
 },
 "nbformat": 4,
 "nbformat_minor": 2
}
