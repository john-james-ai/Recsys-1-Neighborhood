{
 "cells": [
  {
   "cell_type": "code",
   "execution_count": 16,
   "metadata": {},
   "outputs": [],
   "source": [
    "from recsys.services.io import IOService\n",
    "from recsys.services.data_types import RecursiveNamespace"
   ]
  },
  {
   "cell_type": "code",
   "execution_count": 29,
   "metadata": {},
   "outputs": [
    {
     "name": "stdout",
     "output_type": "stream",
     "text": [
      "RecursiveNamespace(name='ZipDownloader', module='recsys.operator.io.remote', params=RecursiveNamespace(source='https://files.grouplens.org/datasets/movielens/ml-25m.zip', destination='data/ext/ml-25m.zip', force=False))\n",
      "RecursiveNamespace(name='ZipExtractor', module='recsys.operator.io.compress', params=RecursiveNamespace(source='data/ext/ml-25m.zip', destination='data/raw/', member='ratings.csv', force=False))\n",
      "RecursiveNamespace(name='TemporalTrainTestSplit', module='recsys.operator.data.split', params=RecursiveNamespace(source='data/raw/ratings.csv', destination='data/prod/', train_size=0.8, timestamp_var='timestamp', train_filename='train.pkl', test_filename='test.pkl', force=False))\n",
      "RecursiveNamespace(name='UserRandomSampling', module='recsys.operator.data.sampling', params=RecursiveNamespace(source='data/prod/train.pkl', destination='data/dev/rating.pkl', uservar='userId', itemvar='movieId', frac=0.1, force=False))\n",
      "RecursiveNamespace(name='TemporalTrainTestSplit', module='recsys.operator.data.split', params=RecursiveNamespace(source='data/dev/ratings.csv', destination='data/dev/', train_size=0.8, timestamp_var='timestamp', train_filename='train.pkl', test_filename='test.pkl', force=False))\n"
     ]
    }
   ],
   "source": [
    "fp = \"config/etl.yml\"\n",
    "config = IOService.read(fp)\n",
    "ns = RecursiveNamespace(**config).pipeline\n",
    "for task in ns.tasks:    \n",
    "    print(task.operator)"
   ]
  }
 ],
 "metadata": {
  "kernelspec": {
   "display_name": "recsys",
   "language": "python",
   "name": "python3"
  },
  "language_info": {
   "codemirror_mode": {
    "name": "ipython",
    "version": 3
   },
   "file_extension": ".py",
   "mimetype": "text/x-python",
   "name": "python",
   "nbconvert_exporter": "python",
   "pygments_lexer": "ipython3",
   "version": "3.10.8"
  },
  "orig_nbformat": 4
 },
 "nbformat": 4,
 "nbformat_minor": 2
}
