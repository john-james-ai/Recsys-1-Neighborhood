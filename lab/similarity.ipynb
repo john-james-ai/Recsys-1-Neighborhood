{
 "cells": [
  {
   "attachments": {},
   "cell_type": "markdown",
   "metadata": {},
   "source": [
    "# Dot Product\n",
    "Performance of csc and csr matrices on very large sparse matrices."
   ]
  },
  {
   "cell_type": "code",
   "execution_count": 1,
   "metadata": {},
   "outputs": [],
   "source": [
    "from recsys.services.io import IOService\n",
    "from recsys.data.dataset import Dataset"
   ]
  },
  {
   "cell_type": "code",
   "execution_count": 2,
   "metadata": {},
   "outputs": [],
   "source": [
    "FILEPATH = \"tests/testdata/operators/data_operators/sampling/temporaralthreshold/ratings_random_temporal_sampling_1000.pkl\"\n",
    "data = IOService.read(filepath=FILEPATH)\n",
    "ds = Dataset(name=\"test\", description='test', data=data)\n",
    "csr = ds.to_csr()\n",
    "csc = ds.to_csc()"
   ]
  },
  {
   "cell_type": "code",
   "execution_count": 4,
   "metadata": {},
   "outputs": [
    {
     "name": "stdout",
     "output_type": "stream",
     "text": [
      "Method 1\n",
      "11.2 s ± 109 ms per loop (mean ± std. dev. of 7 runs, 1 loop each)\n",
      "Method 2\n",
      "11.1 s ± 156 ms per loop (mean ± std. dev. of 7 runs, 1 loop each)\n",
      "Method 3\n",
      "10.8 s ± 167 ms per loop (mean ± std. dev. of 7 runs, 1 loop each)\n",
      "Method 4\n",
      "11.4 s ± 575 ms per loop (mean ± std. dev. of 7 runs, 1 loop each)\n",
      "Method 5\n",
      "1min 32s ± 725 ms per loop (mean ± std. dev. of 7 runs, 1 loop each)\n",
      "Method 6\n",
      "1min 31s ± 838 ms per loop (mean ± std. dev. of 7 runs, 1 loop each)\n",
      "Method 7\n",
      "1min 32s ± 1.53 s per loop (mean ± std. dev. of 7 runs, 1 loop each)\n",
      "Method 8\n",
      "1min 31s ± 448 ms per loop (mean ± std. dev. of 7 runs, 1 loop each)\n"
     ]
    }
   ],
   "source": [
    "def dotprod(csr, csc, method):\n",
    "    if method == 1:\n",
    "        csr.T.dot(csr)\n",
    "    if method == 2:\n",
    "        csc.T.dot(csc)\n",
    "    if method == 3:\n",
    "        csr.T.dot(csc)        \n",
    "    if method == 4:\n",
    "        csc.T.dot(csr)                \n",
    "    if method == 5:\n",
    "        csr.dot(csr.T)\n",
    "    if method == 6:\n",
    "        csc.dot(csc.T)\n",
    "    if method == 7:\n",
    "        csr.dot(csc.T)        \n",
    "    if method == 8:\n",
    "        csc.dot(csr.T)                        \n",
    "def eval():\n",
    "    for i in range(1,9):\n",
    "        msg = \"Method \" + str(i)\n",
    "        print(msg)\n",
    "        %timeit dotprod(csr=csr, csc=csc, method=i)\n",
    "eval()"
   ]
  }
 ],
 "metadata": {
  "kernelspec": {
   "display_name": "recsys",
   "language": "python",
   "name": "python3"
  },
  "language_info": {
   "codemirror_mode": {
    "name": "ipython",
    "version": 3
   },
   "file_extension": ".py",
   "mimetype": "text/x-python",
   "name": "python",
   "nbconvert_exporter": "python",
   "pygments_lexer": "ipython3",
   "version": "3.10.8"
  },
  "orig_nbformat": 4
 },
 "nbformat": 4,
 "nbformat_minor": 2
}
